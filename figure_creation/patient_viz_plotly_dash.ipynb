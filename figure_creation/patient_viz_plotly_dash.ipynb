{
 "cells": [
  {
   "cell_type": "code",
   "execution_count": 1,
   "metadata": {},
   "outputs": [],
   "source": [
    "import pandas as pd\n",
    "import os\n",
    "import plotly.graph_objects as go\n",
    "from datetime import datetime as dt\n",
    "import numpy as np\n",
    "from dash import dcc,html\n",
    "from jupyter_dash import JupyterDash"
   ]
  },
  {
   "cell_type": "code",
   "execution_count": 2,
   "metadata": {},
   "outputs": [],
   "source": [
    "data_dir = 'C:/Users/gq19765/SyncThing/Repositories/LABMARCS/PatientViz_Sep22/processed_data/'\n",
    "output_dir = 'C:/Users/gq19765/SyncThing/Repositories/LABMARCS/PatientViz_Sep22/output/'\n",
    "os.chdir(data_dir)"
   ]
  },
  {
   "cell_type": "code",
   "execution_count": 3,
   "metadata": {},
   "outputs": [],
   "source": [
    "dem = pd.read_csv('dem.csv')\n",
    "outcomes = pd.read_csv('outcomes.csv')\n",
    "\n",
    "masterlist = pd.read_csv('masterlist.update.csv')\n",
    "\n",
    "labs = pd.read_csv('labs.csv')\n",
    "labs['Measure'] = labs['Measure'].astype('category')\n",
    "category_order_list = ['BNP','LDH','HBA1c','trig','trop','DDM','FER','PCT','fib','Glucose','PT','APTT','PLT','CRP','eGFR','poctLAC','poctpH','O2','CO2','WCC','Lymphocytes','Neutrophils','NLR','HB','BE']\n",
    "labs['Measure'] = labs['Measure'].cat.set_categories(category_order_list, ordered=True)\n",
    "labs = labs.sort_values(by='Measure')\n",
    "avoncap = pd.read_csv('avoncap.csv')\n",
    "bc = pd.read_csv('blood_culture.csv')\n",
    "virology = pd.read_csv('virology.csv')\n",
    "covidCT = pd.read_csv('covidCT.csv')"
   ]
  },
  {
   "cell_type": "code",
   "execution_count": 4,
   "metadata": {},
   "outputs": [],
   "source": [
    "# Dummy Measures data to ensure all categories are plotted, and in correct order\n",
    "dummy_values = [np.nan]*25\n",
    "dummy_dates = [0]*25\n",
    "dummy_measures = ['BE', 'HB', 'NLR', 'Neutrophils', 'Lymphocytes', 'WCC', 'CO2', 'O2', 'poctpH', 'poctLAC', 'eGFR', 'CRP', 'PLT', 'APTT', 'PT', 'Glucose', 'fib', 'PCT', 'FER', 'DDM', 'trop', 'trig', 'HBA1c', 'LDH', 'BNP']\n",
    "dummy_data = pd.DataFrame({'Numeric.Result':dummy_values,'date':dummy_dates,'Measure':dummy_measures})"
   ]
  },
  {
   "cell_type": "markdown",
   "metadata": {},
   "source": [
    "## `patient_viz` function\n",
    "### Parameters\n",
    "- `id`: The patient ID\n",
    "- `label_type`:\n",
    "    - 'graph' where key event labels are on the plot itself\n",
    "    - 'legend' where key event labels are in the legend, sorted chronologically"
   ]
  },
  {
   "cell_type": "code",
   "execution_count": 5,
   "metadata": {},
   "outputs": [],
   "source": [
    "def patient_viz(id,label_type):\n",
    "    # Ensure dates list has at least one value, and calculate difference in days between date and admission\n",
    "    def vali_date(query):\n",
    "        if len(query) > 0: \n",
    "            days = []\n",
    "            for date in query:\n",
    "                days.append((dt.strptime(date,\"%Y-%m-%d\") - dt.strptime(first_adm,\"%Y-%m-%d\"))/pd.Timedelta(days=1))\n",
    "            return days\n",
    "        else:\n",
    "            return pd.Series(dtype='int')\n",
    "    # Get admission date as reference for days since admission\n",
    "    # Outcomes for patient\n",
    "    p_outcome = outcomes[outcomes.uob_ID==id]\n",
    "    # Grab and sort admission dates\n",
    "    first_adm = p_outcome['admissionDate'].dropna().tolist()[0]\n",
    "\n",
    "    p_labs = labs[labs.uob_ID==id]\n",
    "    p_labs['date'] = vali_date(p_labs['date'])\n",
    "    p_labs = pd.concat([dummy_data,p_labs],axis=0)\n",
    "\n",
    "    # Key event dates\n",
    "    # Each key event specifies a colour, name and date, and will be plotted as a dashed line. \n",
    "    \n",
    "    adm_d = {'Dates':vali_date(p_outcome['admissionDate'].dropna().tolist()),'Colour':'#1e90ff','name':'Admission to Hospital','dash':'dot','offset':0.1}\n",
    "    covid_d = {'Dates':vali_date(covidCT[covidCT.uob_ID==id].date.dropna().tolist()),'Colour':'#ff8c00','name':'Covid +ve date','dash':'dot','offset':0}\n",
    "    icu_adm_d = {'Dates':vali_date(p_outcome['ITU_Start'].dropna().tolist()),'Colour':'#0000ff','name':'Admission to ICU','dash':'dot','offset':0.1}\n",
    "    icu_dis_d = {'Dates':vali_date(p_outcome['ITU_End'].dropna().tolist()),'Colour':'#66cdaa','name':'Discharge from ICU','dash':'dot','offset':-0.1}\n",
    "    death_d = {'Dates':vali_date(p_outcome['deathDate'].dropna().tolist()),'Colour':'#ff1493','name':'Date of Death','dash':'dot','offset':0}\n",
    "    dis_d = {'Dates':vali_date(p_outcome['dischargeDate'].dropna().tolist()),'Colour':'#00ff00','name':'Date of Discharge','dash':'dot','offset':0.1}\n",
    "    # Collect all key events into 'outcomes_list'\n",
    "    outcomes_list = [covid_d,adm_d,icu_adm_d,icu_dis_d,death_d,dis_d]\n",
    "\n",
    "\n",
    "\n",
    "    # Sort by date function, to plot traces/legend in chronological order\n",
    "    def sortByDate(e):\n",
    "        return min(e['Dates'], default=100)\n",
    "\n",
    "    if label_type == \"legend\":\n",
    "        outcomes_list.sort(key=sortByDate)\n",
    "        \n",
    "\n",
    "    # Plot lab results\n",
    "    fig = go.Figure(data=go.Heatmap(\n",
    "        z=p_labs['Numeric.Result'], # Value of biomarker\n",
    "        x=p_labs['date'], # Date of biomarker reading\n",
    "        y=p_labs['Measure'], # Biomarker\n",
    "        colorscale='thermal', # Shows most contrast IMO\n",
    "        ygap=1, # Spacing between bricks for clarity\n",
    "        colorbar=dict(yanchor=\"top\", y=1, x=-0.28), # Offset to stop overlap of colorbar with y-axis title\n",
    "        connectgaps=False \n",
    "    ))\n",
    "\n",
    "    # Plot key dates\n",
    "    # For each date, plot a dashed line, with\n",
    "    if label_type == \"legend\":\n",
    "        for outcome in outcomes_list:\n",
    "            for date in outcome['Dates']:\n",
    "                fig.add_trace(\n",
    "                    go.Scatter(\n",
    "                        x=[date-outcome['offset'],date-outcome['offset']],\n",
    "                        y=['BNP','BE'], # Dashed line between bottomost and uppermost values on y-axis\n",
    "                        line_width=2,\n",
    "                        line_dash=outcome['dash'],\n",
    "                        line_color=outcome['Colour'],\n",
    "                        name = outcome['name'],\n",
    "                        mode='lines'\n",
    "                    )\n",
    "                )         \n",
    "\n",
    "    if label_type == \"graph\":\n",
    "        for outcome in outcomes_list:\n",
    "            if(len(outcome['Dates']) > 0):\n",
    "                for date in outcome['Dates']:\n",
    "                    fig.add_vline(\n",
    "                        x=date,\n",
    "                        line_width=2,\n",
    "                        line_dash=\"dash\",\n",
    "                        line_color=outcome['Colour'],\n",
    "                        annotation={\n",
    "                            \"text\":outcome['name'],\n",
    "                            \"textangle\":45,\n",
    "                            \"font_color\":outcome['Colour'],\n",
    "                            \"opacity\":0.5,\n",
    "                            \"bgcolor\":\"white\",\n",
    "                            \"bordercolor\":outcome['Colour'],\n",
    "                            \"borderwidth\":2,\n",
    "                            \"opacity\":0.7,\n",
    "                            \"xanchor\":\"right\", # x and yanchor make sure the bottom right of the text box touch the relevant line\n",
    "                            \"yanchor\":\"bottom\",\n",
    "                            \"xshift\":14 # because of angle of textbox, xshift needed to align corner with line \n",
    "                            })\n",
    "            \n",
    "    range_lower = min(p_labs['date']) - 1\n",
    "    range_upper = max(p_labs['date']) + 2\n",
    "            \n",
    "    fig.update_layout(\n",
    "        title='Patient Visualisation',\n",
    "        autosize = False,\n",
    "        width = 1100,\n",
    "        height = 600,\n",
    "        margin=dict(\n",
    "            l=50,\n",
    "            r=50,\n",
    "            b=50,\n",
    "            t=50,\n",
    "            pad=4\n",
    "        ),\n",
    "        yaxis={\n",
    "            \"title\":'Biomarker',\n",
    "            \"title_standoff\":0,\n",
    "            \"tickson\":\"boundaries\", # Sets color brick to have gridlines either side, instead of in centre of brick.\n",
    "            \"dtick\":1 # Ensures all category labels are shown\n",
    "            },\n",
    "        xaxis={\n",
    "            \"title\":'Day (relative to admission date)',\n",
    "            \"minor_griddash\":\"dot\",\n",
    "            \"range\":[range_lower,range_upper]\n",
    "            }\n",
    "    )\n",
    "    app = JupyterDash(__name__)\n",
    "    server = app.server\n",
    "    app.layout = html.Div([\n",
    "        dcc.Graph(figure = fig)\n",
    "    ])\n",
    "    #app.run_server(mode='inline',debug=True)\n",
    "    file_name = \"patient-viz_%s.svg\" % id\n",
    "    fig.write_image(file_name)"
   ]
  },
  {
   "cell_type": "code",
   "execution_count": null,
   "metadata": {},
   "outputs": [],
   "source": [
    "# patient_examples = ['8810','05a4','23f0','3075','1b49','1a99','0adc']\n",
    "os.chdir(output_dir)\n",
    "for patient in masterlist['uob_ID']:\n",
    "    try:\n",
    "        patient_viz(patient,'legend')\n",
    "    except:\n",
    "        continue"
   ]
  },
  {
   "cell_type": "code",
   "execution_count": 6,
   "metadata": {},
   "outputs": [
    {
     "name": "stderr",
     "output_type": "stream",
     "text": [
      "C:\\Users\\gq19765\\AppData\\Local\\Temp\\ipykernel_14556\\1192023823.py:18: SettingWithCopyWarning: \n",
      "A value is trying to be set on a copy of a slice from a DataFrame.\n",
      "Try using .loc[row_indexer,col_indexer] = value instead\n",
      "\n",
      "See the caveats in the documentation: https://pandas.pydata.org/pandas-docs/stable/user_guide/indexing.html#returning-a-view-versus-a-copy\n",
      "  p_labs['date'] = vali_date(p_labs['date'])\n"
     ]
    }
   ],
   "source": [
    "patient_viz('002f','legend')"
   ]
  },
  {
   "cell_type": "code",
   "execution_count": null,
   "metadata": {},
   "outputs": [],
   "source": [
    "test = \"patient-viz_%s.svg\" % '002f'\n",
    "print(test)"
   ]
  },
  {
   "cell_type": "code",
   "execution_count": null,
   "metadata": {},
   "outputs": [],
   "source": []
  }
 ],
 "metadata": {
  "kernelspec": {
   "display_name": "Python 3 (ipykernel)",
   "language": "python",
   "name": "python3"
  },
  "language_info": {
   "codemirror_mode": {
    "name": "ipython",
    "version": 3
   },
   "file_extension": ".py",
   "mimetype": "text/x-python",
   "name": "python",
   "nbconvert_exporter": "python",
   "pygments_lexer": "ipython3",
   "version": "3.9.13"
  },
  "vscode": {
   "interpreter": {
    "hash": "3ffe837dbf05848b412ebe6b89b33a39f1e3f38e6a5ea13c78150c342efb4679"
   }
  }
 },
 "nbformat": 4,
 "nbformat_minor": 4
}
