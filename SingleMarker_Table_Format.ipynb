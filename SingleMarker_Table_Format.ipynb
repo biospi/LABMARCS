{
 "cells": [
  {
   "cell_type": "code",
   "execution_count": 34,
   "id": "18333dcb-92ef-4e45-ba59-c408164e3cdc",
   "metadata": {},
   "outputs": [],
   "source": [
    "\n",
    "## This takes the output from the Singlebiomarker crossvalidation and puts it in aformat more simlar to Tables \n",
    "import pandas as pd\n",
    "import os\n",
    "import glob\n",
    "\n",
    "data_path = 'C://Users//bs16044//OneDrive - University of Bristol//HDR-UK-AMR//LABMARCS//source//output//'\n",
    "csv_files = glob.glob(data_path + '*intermediate.csv')\n"
   ]
  },
  {
   "cell_type": "code",
   "execution_count": null,
   "id": "625de432-d75c-4696-a8fe-40fa8e35d035",
   "metadata": {},
   "outputs": [],
   "source": [
    "\n",
    "a_ls = []\n",
    "for fn in csv_files:\n",
    "    df = pd.read_csv(fn)\n",
    "\n",
    "    df_str1=df[['AUC CV CI 50', 'AUC CV CI 2.5', 'AUC CV CI 97.5', 'AUC Difference CV CI 50', 'AUC Difference CV CI 2.5', 'AUC Difference CV CI 97.5']]\n",
    "    df_str2=df[['Bayes AUC CV CI 50', 'Bayes AUC CV CI 2.5', 'Bayes AUC CV CI 97.5', 'Bayes AUC Difference CV CI 50', 'Bayes AUC Difference CV CI 2.5', 'Bayes AUC Difference CV CI 97.5']]\n",
    "    df_str3=df[['Bayes HS AUC CV CI 50', 'Bayes HS AUC CV CI 2.5', 'Bayes HS AUC CV CI 97.5', 'Bayes HS AUC Difference CV CI 50', 'Bayes HS AUC Difference CV CI 2.5', 'Bayes HS AUC Difference CV CI 97.5']]\n",
    "\n",
    "    for i in range(0,df.shape[0]):\n",
    "        a_str1=df_str1.iloc[i,:]\n",
    "        a_str2=df_str2.iloc[i,:]\n",
    "        a_str3=df_str3.iloc[i,:]\n",
    "        a0=df.VarGroup[i]\n",
    "        a1=f'{a_str1.iloc[0]:.2f} [{a_str1.iloc[1]:.2f}, {a_str1.iloc[2]:.2f}]' \n",
    "        a2=f'{a_str1.iloc[3]:.2f} [{a_str1.iloc[4]:.2f}, {a_str1.iloc[5]:.2f}]' \n",
    "        a3=f'{a_str2.iloc[0]:.2f} [{a_str2.iloc[1]:.2f}, {a_str2.iloc[2]:.2f}]'\n",
    "        a4=f'{a_str2.iloc[3]:.2f} [{a_str2.iloc[4]:.2f}, {a_str2.iloc[5]:.2f}]'\n",
    "        a5=f'{a_str3.iloc[0]:.2f} [{a_str3.iloc[1]:.2f}, {a_str3.iloc[2]:.2f}]'\n",
    "        a6=f'{a_str3.iloc[3]:.2f} [{a_str3.iloc[4]:.2f}, {a_str3.iloc[5]:.2f}]'\n",
    "\n",
    "        a_ls.append([a0,a1,a2,a3,a4,a5,a6])\n",
    "\n",
    "out_df=pd.DataFrame(a_ls)\n",
    "nan_idx=out_df[1]=='nan [nan, nan]'\n",
    "out_df[~nan_idx].drop_duplicates().to_csv('SingleBioMarker_TableFormat_AUC.csv')\n"
   ]
  },
  {
   "cell_type": "code",
   "execution_count": 4,
   "id": "549696fc-2476-4a7f-8647-6100ab44076b",
   "metadata": {},
   "outputs": [
    {
     "data": {
      "text/plain": [
       "0.75"
      ]
     },
     "execution_count": 4,
     "metadata": {},
     "output_type": "execute_result"
    }
   ],
   "source": []
  },
  {
   "cell_type": "code",
   "execution_count": 36,
   "id": "830fd643-f14a-4391-923f-a7972a85b67b",
   "metadata": {},
   "outputs": [],
   "source": [
    "\n",
    "a_ls = []\n",
    "for fn in csv_files:\n",
    "    df = pd.read_csv(fn)\n",
    "    \n",
    "    df_str1 = df[['Odds Ratio', 'CI2.5', 'CI97.5']]\n",
    "    df_str2 = df[['Bayes Odds Ratio', 'Bayes CI2.5', 'Bayes CI97.5', ]]\n",
    "    df_str3 = df[['Bayes HS Odds Ratio', 'Bayes HS CI2.5', 'Bayes HS CI97.5']]\n",
    "\n",
    "    for i in range(0,df.shape[0]):\n",
    "        a_str1=df_str1.iloc[i,:]\n",
    "        a_str2=df_str2.iloc[i,:]\n",
    "        a_str3=df_str3.iloc[i,:]\n",
    "        a0=df.VarGroup[i]\n",
    "        a1=f'{a_str1.iloc[0]:.2f} [{a_str1.iloc[1]:.2f}, {a_str1.iloc[2]:.2f}]' \n",
    "        a2=f'{a_str2.iloc[0]:.2f} [{a_str2.iloc[1]:.2f}, {a_str2.iloc[2]:.2f}]'\n",
    "        a3=f'{a_str3.iloc[0]:.2f} [{a_str3.iloc[1]:.2f}, {a_str3.iloc[2]:.2f}]'\n",
    "        a_ls.append([a0,a1,a2,a3])\n",
    "\n",
    "out_df=pd.DataFrame(a_ls)\n",
    "nan_idx=out_df[1]=='nan [nan, nan]'\n",
    "out_df[~nan_idx].drop_duplicates().to_csv('SingleBioMarker_TableFormat_ODDS.csv')\n"
   ]
  }
 ],
 "metadata": {
  "kernelspec": {
   "display_name": "Python 3 (ipykernel)",
   "language": "python",
   "name": "python3"
  },
  "language_info": {
   "codemirror_mode": {
    "name": "ipython",
    "version": 3
   },
   "file_extension": ".py",
   "mimetype": "text/x-python",
   "name": "python",
   "nbconvert_exporter": "python",
   "pygments_lexer": "ipython3",
   "version": "3.9.16"
  }
 },
 "nbformat": 4,
 "nbformat_minor": 5
}
