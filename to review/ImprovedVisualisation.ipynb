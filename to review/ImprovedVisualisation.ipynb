{
 "cells": [
  {
   "cell_type": "markdown",
   "metadata": {},
   "source": [
    "# LABMARCS Visualisation\n",
    "## Libraries"
   ]
  },
  {
   "cell_type": "code",
   "execution_count": null,
   "metadata": {},
   "outputs": [],
   "source": [
    "library(ggplot2)\n",
    "library(hrbrthemes)\n",
    "library(tidyverse)\n",
    "library(plotly)\n",
    "library(BBmisc)\n",
    "library(scales)\n",
    "library(dplyr)\n",
    "library(naniar)\n",
    "library(gridExtra)\n",
    "library(knitr)\n",
    "library(moments)\n",
    "library(formattable)\n",
    "library(IRdisplay)\n",
    "library(repr)"
   ]
  },
  {
   "cell_type": "code",
   "execution_count": null,
   "metadata": {},
   "outputs": [],
   "source": [
    "getwd()"
   ]
  },
  {
   "cell_type": "markdown",
   "metadata": {},
   "source": [
    "## Load in data files\n",
    "### Outcome data\n",
    "#### NBT Outcomes"
   ]
  },
  {
   "cell_type": "code",
   "execution_count": null,
   "metadata": {},
   "outputs": [],
   "source": [
    "NBT_outcomes <- read.csv(file(\"NBT_outcomes.csv\"))\n",
    "NBT_outcomes = NBT_outcomes %>% \n",
    "  rename(\n",
    "    admissionDate = admission_date,\n",
    "  )\n",
    "NBT_outcomes$admissionDate = as.Date(NBT_outcomes$admissionDate, format=\"%d/%m/%Y\")\n",
    "NBT_outcomes = NBT_outcomes %>% \n",
    "  rename(\n",
    "    dischargeDate = discharge_date,\n",
    "  )\n",
    "NBT_outcomes$dischargeDate = as.Date(NBT_outcomes$dischargeDate, format=\"%d/%m/%Y\")\n",
    "NBT_outcomes_deaths = NBT_outcomes %>%\n",
    "  filter(DischargeOutcomeDesc == \"Patient Died\")\n",
    "NBT_outcomes_deaths$deathDate = NBT_outcomes_deaths$dischargeDate\n",
    "NBT_outcomes <- merge(NBT_outcomes,NBT_outcomes_deaths,all=TRUE)\n",
    "NBT_outcomes$ITU_Start = as.Date(NBT_outcomes$ITU_Start, format=\"%d/%m/%Y\")\n",
    "NBT_outcomes$ITU_End = as.Date(NBT_outcomes$ITU_End, format=\"%d/%m/%Y\")\n",
    "NBT_outcomes2 = NBT_outcomes %>% select(ID,admissionDate,dischargeDate,ITU_Start,ITU_End,deathDate)"
   ]
  },
  {
   "cell_type": "markdown",
   "metadata": {},
   "source": [
    "#### UHB Outcomes"
   ]
  },
  {
   "cell_type": "code",
   "execution_count": null,
   "metadata": {},
   "outputs": [],
   "source": [
    "UHB_outcomes1 <- read.csv(file(\"UHB_outcomes1.csv\"))\n",
    "UHB_outcomes1 = UHB_outcomes1 %>% \n",
    "  rename(\n",
    "    admissionDate = attend_date,\n",
    "  )\n",
    "UHB_outcomes1$admissionDate = as.Date(UHB_outcomes1$admissionDate, format=\"%d/%m/%Y\")\n",
    "UHB_outcomes1$dischargeDate = as.Date(UHB_outcomes1$admissionDate + as.integer(UHB_outcomes1$hospital_length_of_stay))\n",
    "UHB_outcomes1 = UHB_outcomes1 %>% \n",
    "  rename(\n",
    "    deathDate = fu_death_date,\n",
    "  )\n",
    "UHB_outcomes1$deathDate = as.Date(UHB_outcomes1$deathDate, format=\"%d/%m/%Y\")\n",
    "UHB_outcomes1$ITU_Start <- as.Date(NA)\n",
    "UHB_outcomes1$ITU_End <- as.Date(NA)\n",
    "UHB_outcomes12 = UHB_outcomes1 %>% select(ID,admissionDate,dischargeDate,ITU_Start,ITU_End,deathDate)\n",
    "\n",
    "UHB_outcomes2 <- read.csv(file(\"UHB_outcomes2.csv\"))\n",
    "UHB_outcomes2 = UHB_outcomes2 %>% \n",
    "  rename(\n",
    "    admissionDate = attend_dte,\n",
    "  )\n",
    "UHB_outcomes2$admissionDate = as.Date(UHB_outcomes2$admissionDate, format=\"%d/%m/%Y\")\n",
    "UHB_outcomes2 = UHB_outcomes2 %>% \n",
    "  rename(\n",
    "    dischargeDate = outcome_dte,\n",
    "  )\n",
    "UHB_outcomes2$dischargeDate = as.Date(UHB_outcomes2$dischargeDate, format=\"%d/%m/%Y\")\n",
    "UHB_outcomes2_deaths = UHB_outcomes2 %>%\n",
    "  filter(outcome == 3)\n",
    "UHB_outcomes2_deaths$deathDate = UHB_outcomes2_deaths$dischargeDate\n",
    "UHB_outcomes2 <- merge(UHB_outcomes2,UHB_outcomes2_deaths,all=TRUE)\n",
    "UHB_outcomes2$ITU_Start <- as.Date(NA)\n",
    "UHB_outcomes2$ITU_End <- as.Date(NA)\n",
    "UHB_outcomes22 = UHB_outcomes2 %>% select(ID,admissionDate,dischargeDate,ITU_Start,ITU_End,deathDate)"
   ]
  },
  {
   "cell_type": "markdown",
   "metadata": {},
   "source": [
    "#### Weston Outcomes"
   ]
  },
  {
   "cell_type": "code",
   "execution_count": null,
   "metadata": {},
   "outputs": [],
   "source": [
    "WestonOutcomes <- read.csv(file(\"Weston Outcomes.csv\"))\n",
    "WestonOutcomes = WestonOutcomes %>% \n",
    "  rename(\n",
    "    admissionDate = Admission.date,\n",
    "  )\n",
    "WestonOutcomes$admissionDate = as.Date(WestonOutcomes$admissionDate, format=\"%d/%m/%Y\")\n",
    "WestonOutcomes = WestonOutcomes %>% \n",
    "  rename(\n",
    "    dischargeDate = Discharge.date,\n",
    "  )\n",
    "WestonOutcomes$dischargeDate = as.Date(WestonOutcomes$dischargeDate, format=\"%d/%m/%Y\")\n",
    "WestonOutcomes = WestonOutcomes %>% \n",
    "  rename(\n",
    "    ITU_Start = ICU.Admission.Date\n",
    "  )\n",
    "WestonOutcomes$ITU_Start = as.Date(WestonOutcomes$ITU_Start, format=\"%d/%m/%Y\")\n",
    "WestonOutcomes = WestonOutcomes %>% \n",
    "  rename(\n",
    "    ITU_End = ICU.Discharge.Date\n",
    "  )\n",
    "WestonOutcomes$ITU_End = as.Date(WestonOutcomes$ITU_End, format=\"%d/%m/%Y\")\n",
    "WestonOutcomes = WestonOutcomes %>% \n",
    "  rename(\n",
    "    deathDate = Date.of.Death\n",
    "  )\n",
    "WestonOutcomes$deathDate = as.Date(WestonOutcomes$deathDate, format=\"%d/%m/%Y\")\n",
    "WestonOutcomes2 = WestonOutcomes %>% select(ID,admissionDate,dischargeDate,ITU_Start,ITU_End,deathDate)"
   ]
  },
  {
   "cell_type": "markdown",
   "metadata": {},
   "source": [
    "### Merge Outcome data"
   ]
  },
  {
   "cell_type": "code",
   "execution_count": null,
   "metadata": {},
   "outputs": [],
   "source": [
    "# Merge outcomes data\n",
    "totalOutcomes <- rbind(UHB_outcomes12,UHB_outcomes22,NBT_outcomes2,WestonOutcomes2) # NBT Outcomes must be excluded as inconsistent\n",
    "totalOutcomes$deathDate = as.Date(totalOutcomes$deathDate, format=\"%d/%m/%Y\")\n",
    "totalOutcomes$ITU_Start = as.Date(totalOutcomes$ITU_Start, format=\"%d/%m/%Y\")\n",
    "totalOutcomes$ITU_End = as.Date(totalOutcomes$ITU_End, format=\"%d/%m/%Y\")\n",
    "totalOutcomes$dischargeDate = as.Date(totalOutcomes$dischargeDate, format=\"%d/%m/%Y\")"
   ]
  },
  {
   "cell_type": "markdown",
   "metadata": {},
   "source": [
    "### Load variable data\n",
    "#### BE - Bicarbonate Excess"
   ]
  },
  {
   "cell_type": "code",
   "execution_count": null,
   "metadata": {},
   "outputs": [],
   "source": [
    "BE <- read.csv(file(\"BE.csv\"))\n",
    "BE$Date.Booked.In = as.Date(BE$Date.Booked.In, format=\"%d/%m/%Y\")\n",
    "BE = BE %>% \n",
    "  rename(\n",
    "    date = Date.Booked.In,\n",
    "  )\n",
    "BE = BE %>%\n",
    "  rename(\n",
    "    BE_val = Numeric.Result\n",
    "  )"
   ]
  },
  {
   "cell_type": "markdown",
   "metadata": {},
   "source": [
    "#### BNP - B-type natriuretic peptide"
   ]
  },
  {
   "cell_type": "code",
   "execution_count": null,
   "metadata": {},
   "outputs": [],
   "source": [
    "BNP <- read.csv(file(\"BNP.csv\"))\n",
    "BNP$Date.Booked.In = as.Date(BNP$Date.Booked.In, format=\"%d/%m/%Y\")\n",
    "BNP = BNP %>% \n",
    "  rename(\n",
    "    date = Date.Booked.In,\n",
    "  )\n",
    "BNP = BNP %>%\n",
    "  rename(\n",
    "    BNP_val = Numeric.Result\n",
    "  )\n",
    "BNP_transform <- BNP"
   ]
  },
  {
   "cell_type": "markdown",
   "metadata": {},
   "source": [
    "#### CRP - C-Reactive Protein"
   ]
  },
  {
   "cell_type": "code",
   "execution_count": null,
   "metadata": {},
   "outputs": [],
   "source": [
    "CRP <- read.csv(file(\"CRP.csv\"))\n",
    "CRP$Date.Booked.In = as.Date(CRP$Date.Booked.In, format=\"%d/%m/%Y\")\n",
    "CRP = CRP %>% \n",
    "  rename(\n",
    "    date = Date.Booked.In,\n",
    "  )\n",
    "CRP = CRP %>%\n",
    "  rename(\n",
    "    CRP_val = Numeric.Result\n",
    "  )"
   ]
  },
  {
   "cell_type": "markdown",
   "metadata": {},
   "source": [
    "#### CovidCT - Cycle Threshold (CT) value of PCR for COVID"
   ]
  },
  {
   "cell_type": "code",
   "execution_count": null,
   "metadata": {},
   "outputs": [],
   "source": [
    "CovidCT <- read.csv(file(\"CovidCT.csv\"))\n",
    "CovidCT['Measure']='CovidCT'\n",
    "CovidCT$Specimen.Date = as.Date(CovidCT$Specimen.Date, format=\"%d/%m/%Y\")\n",
    "CovidCT = CovidCT %>% \n",
    "  rename(\n",
    "    date = Specimen.Date,\n",
    "  )"
   ]
  },
  {
   "cell_type": "markdown",
   "metadata": {},
   "source": [
    "#### DDM - D-Dimer "
   ]
  },
  {
   "cell_type": "code",
   "execution_count": null,
   "metadata": {},
   "outputs": [],
   "source": [
    "DDM <- read.csv(file(\"DDM.csv\"))\n",
    "DDM$Date.Booked.In = as.Date(DDM$Date.Booked.In, format=\"%d/%m/%Y\")\n",
    "DDM = DDM %>% \n",
    "  rename(\n",
    "    date = Date.Booked.In,\n",
    "  )\n",
    "DDM = DDM %>%\n",
    "  rename(\n",
    "    DDM_val = Numeric.Result\n",
    "  )"
   ]
  },
  {
   "cell_type": "markdown",
   "metadata": {},
   "source": [
    "#### eGFR - Estimated Glomerular Filtration Rate"
   ]
  },
  {
   "cell_type": "code",
   "execution_count": null,
   "metadata": {},
   "outputs": [],
   "source": [
    "eGFR <- read.csv(file(\"eGFR.csv\"))\n",
    "eGFR$Date.Booked.In = as.Date(eGFR$Date.Booked.In, format=\"%d/%m/%Y\")\n",
    "eGFR = eGFR %>% \n",
    "  rename(\n",
    "    date = Date.Booked.In,\n",
    "  )\n",
    "eGFR = eGFR %>%\n",
    "  rename(\n",
    "    eGFR_val = Numeric.Result\n",
    "  )"
   ]
  },
  {
   "cell_type": "markdown",
   "metadata": {},
   "source": [
    "#### FER - Ferritin"
   ]
  },
  {
   "cell_type": "code",
   "execution_count": null,
   "metadata": {},
   "outputs": [],
   "source": [
    "FER <- read.csv(file(\"FER.csv\"))\n",
    "FER$Date.Booked.In = as.Date(FER$Date.Booked.In, format=\"%d/%m/%Y\")\n",
    "FER = FER %>% \n",
    "  rename(\n",
    "    date = Date.Booked.In,\n",
    "  )\n",
    "FER = FER %>%\n",
    "  rename(\n",
    "    FER_val = Numeric.Result\n",
    "  )"
   ]
  },
  {
   "cell_type": "markdown",
   "metadata": {},
   "source": [
    "#### Fib - Fibrinogen"
   ]
  },
  {
   "cell_type": "code",
   "execution_count": null,
   "metadata": {},
   "outputs": [],
   "source": [
    "fib <- read.csv(file(\"fib.csv\"))\n",
    "fib$Date.Booked.In = as.Date(fib$Date.Booked.In, format=\"%d/%m/%Y\")\n",
    "fib = fib %>% \n",
    "  rename(\n",
    "    date = Date.Booked.In,\n",
    "  )\n",
    "fib = fib %>%\n",
    "  rename(\n",
    "    fib_val = Numeric.Result\n",
    "  )"
   ]
  },
  {
   "cell_type": "markdown",
   "metadata": {},
   "source": [
    "#### Glucose"
   ]
  },
  {
   "cell_type": "code",
   "execution_count": null,
   "metadata": {},
   "outputs": [],
   "source": [
    "Glucose <- read.csv(file(\"Glucose.csv\"))\n",
    "Glucose$Date.Booked.In = as.Date(Glucose$Date.Booked.In, format=\"%d/%m/%Y\")\n",
    "Glucose = Glucose %>% \n",
    "  rename(\n",
    "    date = Date.Booked.In,\n",
    "  )\n",
    "Glucose = Glucose %>%\n",
    "  rename(\n",
    "    Glucose_val = Numeric.Result\n",
    "  )"
   ]
  },
  {
   "cell_type": "markdown",
   "metadata": {},
   "source": [
    "#### HB - Hemoglobin"
   ]
  },
  {
   "cell_type": "code",
   "execution_count": null,
   "metadata": {},
   "outputs": [],
   "source": [
    "HB <- read.csv(file(\"HB.csv\"))\n",
    "HB$Date.Booked.In = as.Date(HB$Date.Booked.In, format=\"%d/%m/%Y\")\n",
    "HB = HB %>% \n",
    "  rename(\n",
    "    date = Date.Booked.In,\n",
    "  )\n",
    "HB = HB %>%\n",
    "  rename(\n",
    "    HB_val = Numeric.Result\n",
    "  )"
   ]
  },
  {
   "cell_type": "markdown",
   "metadata": {},
   "source": [
    "#### HBA1c - glycated haemoglobin"
   ]
  },
  {
   "cell_type": "code",
   "execution_count": null,
   "metadata": {},
   "outputs": [],
   "source": [
    "HBA1c <- read.csv(file(\"HBA1c.csv\"))\n",
    "HBA1c$Date.Booked.In = as.Date(HBA1c$Date.Booked.In, format=\"%d/%m/%Y\")\n",
    "HBA1c = HBA1c %>% \n",
    "  rename(\n",
    "    date = Date.Booked.In,\n",
    "  )\n",
    "HBA1c = HBA1c %>%\n",
    "  rename(\n",
    "    HBA1c_val = Numeric.Result\n",
    "  )"
   ]
  },
  {
   "cell_type": "markdown",
   "metadata": {},
   "source": [
    "#### LDH - Lactate dehydrogenase"
   ]
  },
  {
   "cell_type": "code",
   "execution_count": null,
   "metadata": {},
   "outputs": [],
   "source": [
    "LDH <- read.csv(file(\"LDH.csv\"))\n",
    "LDH$Date.Booked.In = as.Date(LDH$Date.Booked.In, format=\"%d/%m/%Y\")\n",
    "LDH = LDH %>% \n",
    "  rename(\n",
    "    date = Date.Booked.In,\n",
    "  )\n",
    "LDH = LDH %>%\n",
    "  rename(\n",
    "    LDH_val = Numeric.Result\n",
    "  )"
   ]
  },
  {
   "cell_type": "markdown",
   "metadata": {},
   "source": [
    "#### PCT - Procalcitonin "
   ]
  },
  {
   "cell_type": "code",
   "execution_count": null,
   "metadata": {},
   "outputs": [],
   "source": [
    "PCT <- read.csv(file(\"PCT.csv\"))\n",
    "PCT$Date.Booked.In = as.Date(PCT$Date.Booked.In, format=\"%d/%m/%Y\")\n",
    "PCT = PCT %>% \n",
    "  rename(\n",
    "    date = Date.Booked.In,\n",
    "  )\n",
    "PCT = PCT %>%\n",
    "  rename(\n",
    "    PCT_val = Numeric.Result\n",
    "  )"
   ]
  },
  {
   "cell_type": "markdown",
   "metadata": {},
   "source": [
    "#### PLT - Platelet Count"
   ]
  },
  {
   "cell_type": "code",
   "execution_count": null,
   "metadata": {},
   "outputs": [],
   "source": [
    "PLT <- read.csv(file(\"PLT.csv\"))\n",
    "PLT$Date.Booked.In = as.Date(PLT$Date.Booked.In, format=\"%d/%m/%Y\")\n",
    "PLT = PLT %>% \n",
    "  rename(\n",
    "    date = Date.Booked.In,\n",
    "  )\n",
    "PLT = PLT %>%\n",
    "  rename(\n",
    "    PLT_val = Numeric.Result\n",
    "  )"
   ]
  },
  {
   "cell_type": "markdown",
   "metadata": {},
   "source": [
    "#### Trig - Triglycerides"
   ]
  },
  {
   "cell_type": "code",
   "execution_count": null,
   "metadata": {},
   "outputs": [],
   "source": [
    "trig <- read.csv(file(\"trig.csv\"))\n",
    "trig$Date.Booked.In = as.Date(trig$Date.Booked.In, format=\"%d/%m/%Y\")\n",
    "trig = trig %>% \n",
    "  rename(\n",
    "    date = Date.Booked.In,\n",
    "  )\n",
    "trig = trig %>%\n",
    "  rename(\n",
    "    trig_val = Numeric.Result\n",
    "  )"
   ]
  },
  {
   "cell_type": "markdown",
   "metadata": {},
   "source": [
    "#### Trop - Troponin"
   ]
  },
  {
   "cell_type": "code",
   "execution_count": null,
   "metadata": {},
   "outputs": [],
   "source": [
    "trop <- read.csv(file(\"trop.csv\"))\n",
    "trop$Date.Booked.In = as.Date(trop$Date.Booked.In, format=\"%d/%m/%Y\")\n",
    "trop = trop %>% \n",
    "  rename(\n",
    "    date = Date.Booked.In,\n",
    "  )\n",
    "trop = trop %>%\n",
    "  rename(\n",
    "    trop_val = Numeric.Result\n",
    "  )"
   ]
  },
  {
   "cell_type": "markdown",
   "metadata": {},
   "source": [
    "#### Vir - Virology"
   ]
  },
  {
   "cell_type": "code",
   "execution_count": null,
   "metadata": {},
   "outputs": [],
   "source": [
    "Vir <- read.csv(file(\"Vir.csv\"))\n",
    "Vir['Measure']='Vir'\n",
    "Vir$Sample.Date = as.Date(Vir$Sample.Date, format=\"%d/%m/%Y\")\n",
    "Vir = Vir %>% \n",
    "  rename(\n",
    "    date = Sample.Date,\n",
    "  )\n",
    "Vir = Vir %>% \n",
    "  rename(\n",
    "    Adenovirus = Adenovirus..PCR.,\n",
    "  )\n",
    "Vir = Vir %>% \n",
    "  rename(\n",
    "    Human_Metapneumovirus = Human.metapneumovirus..PCR.,\n",
    "  )\n",
    "Vir = Vir %>% \n",
    "  rename(\n",
    "    Influenza_A = Influenza.A..PCR.,\n",
    "  )\n",
    "Vir = Vir %>% \n",
    "  rename(\n",
    "    Influenza_B = Influenza.B..PCR.,\n",
    "  )\n",
    "Vir = Vir %>% \n",
    "  rename(\n",
    "    Parainfluenza_Type_1 = Parainfluenza.Type.1..PCR.,\n",
    "  )\n",
    "Vir = Vir %>% \n",
    "  rename(\n",
    "    Parainfluenza_Type_2 = Parainfluenza.Type.2..PCR.,\n",
    "  )\n",
    "Vir = Vir %>% \n",
    "  rename(\n",
    "    Parainfluenza_Type_3 = Parainfluenza.Type.3..PCR.,\n",
    "  )\n",
    "Vir = Vir %>% \n",
    "  rename(\n",
    "    Parainfluenza_Type_4 = Parainfluenza.Type.4..PCR.,\n",
    "  )\n",
    "Vir = Vir %>% \n",
    "  rename(\n",
    "    Respiratory_Syncytial_Virus = Respiratory.Syncytial.Virus..PCR.,\n",
    "  )\n",
    "Vir = Vir %>% \n",
    "  rename(\n",
    "    Rhinovirus = Rhinovirus..PCR.,\n",
    "  )"
   ]
  },
  {
   "cell_type": "markdown",
   "metadata": {},
   "source": [
    "#### FBC - Full Blood Count\n",
    "Made up of:\n",
    "* Lymphocytes\n",
    "* Neutrophils\n",
    "* White Cell Count"
   ]
  },
  {
   "cell_type": "code",
   "execution_count": null,
   "metadata": {},
   "outputs": [],
   "source": [
    "FBC <- read.csv(file(\"FBC.csv\"))\n",
    "FBC$Date.Booked.In = as.Date(FBC$Date.Booked.In, format=\"%d/%m/%Y\")\n",
    "FBC = FBC %>% \n",
    "  rename(\n",
    "    date = Date.Booked.In,\n",
    "  )"
   ]
  },
  {
   "cell_type": "markdown",
   "metadata": {},
   "source": [
    "Split off Lymphocytes:"
   ]
  },
  {
   "cell_type": "code",
   "execution_count": null,
   "metadata": {},
   "outputs": [],
   "source": [
    "FBCLymph = FBC %>% select(ID,date,Result.Lymphocytes)\n",
    "FBCLymph = FBCLymph %>% \n",
    "  rename(\n",
    "    Lymphocytes = Result.Lymphocytes,\n",
    "  )"
   ]
  },
  {
   "cell_type": "markdown",
   "metadata": {},
   "source": [
    "Split off Neutrophils:"
   ]
  },
  {
   "cell_type": "code",
   "execution_count": null,
   "metadata": {},
   "outputs": [],
   "source": [
    "FBCNeutr = FBC %>% select(ID,date,Result.Neutrophils)\n",
    "FBCNeutr = FBCNeutr %>% \n",
    "  rename(\n",
    "    Neutrophils = Result.Neutrophils,\n",
    "  )"
   ]
  },
  {
   "cell_type": "markdown",
   "metadata": {},
   "source": [
    "Split off White Cell Count:"
   ]
  },
  {
   "cell_type": "code",
   "execution_count": null,
   "metadata": {},
   "outputs": [],
   "source": [
    "FBCWCC = FBC %>% select(ID,date,Result.WCC)\n",
    "FBCWCC = FBCWCC %>% \n",
    "  rename(\n",
    "    WCC = Result.WCC,\n",
    "  )"
   ]
  },
  {
   "cell_type": "markdown",
   "metadata": {},
   "source": [
    "Split off Neutrophil to Lymphocyte Ratio"
   ]
  },
  {
   "cell_type": "code",
   "execution_count": null,
   "metadata": {},
   "outputs": [],
   "source": [
    "FBCNLR = FBC %>% select(ID,date,NLR)\n",
    "FBCNLR = FBCNLR %>% \n",
    "  rename(\n",
    "    NLR_val = NLR,\n",
    "  )"
   ]
  },
  {
   "cell_type": "markdown",
   "metadata": {},
   "source": [
    "#### CovidCT - Cycle Threshold (CT) value of PCR for COVID"
   ]
  },
  {
   "cell_type": "code",
   "execution_count": null,
   "metadata": {},
   "outputs": [],
   "source": [
    "CovidCT <- read.csv(file(\"CovidCT.csv\"))\n",
    "CovidCT['Measure']='CovidCT'\n",
    "CovidCT$Specimen.Date = as.Date(CovidCT$Specimen.Date, format=\"%d/%m/%Y\")\n",
    "CovidCT = CovidCT %>% \n",
    "  rename(\n",
    "    date = Specimen.Date,\n",
    "  )"
   ]
  },
  {
   "cell_type": "markdown",
   "metadata": {},
   "source": [
    "#### Clot\n",
    "Made up of:\n",
    "* APTT - Activated Partial Thromboplastin Time\n",
    "* PT - Prothrombin Time"
   ]
  },
  {
   "cell_type": "code",
   "execution_count": null,
   "metadata": {},
   "outputs": [],
   "source": [
    "Clot <- read.csv(file(\"Clot.csv\"))\n",
    "Clot$Date.Booked.In = as.Date(Clot$Date.Booked.In, format=\"%d/%m/%Y\")\n",
    "Clot = Clot %>% \n",
    "  rename(\n",
    "    date = Date.Booked.In,\n",
    "  )"
   ]
  },
  {
   "cell_type": "markdown",
   "metadata": {},
   "source": [
    "Split off APTT:"
   ]
  },
  {
   "cell_type": "code",
   "execution_count": null,
   "metadata": {},
   "outputs": [],
   "source": [
    "ClotAPTT = Clot %>% select(ID,date,APTT)\n",
    "ClotAPTT = ClotAPTT %>% \n",
    "  rename(\n",
    "    APTT_val = APTT,\n",
    "  )"
   ]
  },
  {
   "cell_type": "markdown",
   "metadata": {},
   "source": [
    "Split off PT:"
   ]
  },
  {
   "cell_type": "code",
   "execution_count": null,
   "metadata": {},
   "outputs": [],
   "source": [
    "ClotPT = Clot %>% select(ID,date,PT)\n",
    "ClotPT = ClotPT %>% \n",
    "  rename(\n",
    "    PT_val = PT,\n",
    "  )"
   ]
  },
  {
   "cell_type": "markdown",
   "metadata": {},
   "source": [
    "#### Antigen "
   ]
  },
  {
   "cell_type": "code",
   "execution_count": null,
   "metadata": {},
   "outputs": [],
   "source": [
    "Antigen <- read.csv(file(\"Antigen.csv\"))\n",
    "Antigen = Antigen %>% \n",
    "  rename(\n",
    "    date = Date.of.Specimen,\n",
    "  )"
   ]
  },
  {
   "cell_type": "markdown",
   "metadata": {},
   "source": [
    "#### BC"
   ]
  },
  {
   "cell_type": "code",
   "execution_count": null,
   "metadata": {},
   "outputs": [],
   "source": [
    "BC <- read.csv(file(\"BC.csv\"))\n",
    "BC['Measure']='BC'\n",
    "BC$Date.of.Specimen = as.Date(BC$Date.of.Specimen, format=\"%d/%m/%Y\")\n",
    "BC = BC %>% \n",
    "  rename(\n",
    "    date = Date.of.Specimen,\n",
    "  )"
   ]
  },
  {
   "cell_type": "markdown",
   "metadata": {},
   "source": [
    "#### Resp"
   ]
  },
  {
   "cell_type": "code",
   "execution_count": null,
   "metadata": {},
   "outputs": [],
   "source": [
    "Resp <- read.csv(file(\"Resp.csv\"))\n",
    "Resp['Measure']='Resp'\n",
    "Resp$Date.of.Specimen = as.Date(Resp$Date.of.Specimen, format=\"%d/%m/%Y\")\n",
    "Resp = Resp %>% \n",
    "  rename(\n",
    "    date = Date.of.Specimen,\n",
    "  )"
   ]
  },
  {
   "cell_type": "markdown",
   "metadata": {},
   "source": [
    "#### Urine"
   ]
  },
  {
   "cell_type": "code",
   "execution_count": null,
   "metadata": {},
   "outputs": [],
   "source": [
    "Urine <- read.csv(file(\"Urine.csv\"))\n",
    "Urine['Measure']='Urine'\n",
    "Urine$Date.of.Specimen = as.Date(Urine$Date.of.Specimen, format=\"%d/%m/%Y\")\n",
    "Urine = Urine %>% \n",
    "  rename(\n",
    "    date = Date.of.Specimen,\n",
    "  )"
   ]
  },
  {
   "cell_type": "markdown",
   "metadata": {},
   "source": [
    "#### poctLAC - Point of Care Testing - Lactate"
   ]
  },
  {
   "cell_type": "code",
   "execution_count": null,
   "metadata": {},
   "outputs": [],
   "source": [
    "poctLAC <- read.csv(file(\"poctLAC.csv\"))\n",
    "#Format date\n",
    "poctLAC$Date.of.Specimen = as.Date(poctLAC$Date.of.Specimen, format=\"%d/%m/%Y\")\n",
    "poctLAC = poctLAC %>% \n",
    "  rename(\n",
    "    date = Date.of.Specimen,\n",
    "  )\n",
    "poctLAC = poctLAC %>% \n",
    "  rename(\n",
    "    time = Time.of.Specimen,\n",
    "  )\n",
    "poctLAC = poctLAC %>%\n",
    "  rename(\n",
    "    poctLAC_val = Numeric.Result\n",
    "  )\n",
    "#Combine date and time\n",
    "poctLAC$dateTime = as.POSIXct(paste(poctLAC$date, poctLAC$time), format=\"%Y-%m-%d %H:%M:%S\")\n",
    "# Select relevant variables"
   ]
  },
  {
   "cell_type": "markdown",
   "metadata": {},
   "source": [
    "#### poctO2 - Point of Care Testing - O2 and CO2\n",
    "Made up of:\n",
    "* O2\n",
    "* CO2"
   ]
  },
  {
   "cell_type": "code",
   "execution_count": null,
   "metadata": {},
   "outputs": [],
   "source": [
    "poctO2 <- read.csv(file(\"poctO2.csv\"))"
   ]
  },
  {
   "cell_type": "markdown",
   "metadata": {},
   "source": [
    "O2:"
   ]
  },
  {
   "cell_type": "code",
   "execution_count": null,
   "metadata": {},
   "outputs": [],
   "source": [
    "O2 <- poctO2 %>%\n",
    "  filter(Test.Desc == \"Arterial pO2\")\n",
    "O2$Date.of.Specimen = as.Date(O2$Date.of.Specimen, format=\"%d/%m/%Y\")\n",
    "O2 = O2 %>% \n",
    "  rename(\n",
    "    date = Date.of.Specimen,\n",
    "  )\n",
    "O2 = O2 %>% \n",
    "  rename(\n",
    "    time = Time.of.Specimen,\n",
    "  )\n",
    "O2 = O2 %>% \n",
    "  rename(\n",
    "    O2_val = Numeric.Result,\n",
    "  )\n",
    "#Combine date and time\n",
    "O2$dateTime = as.POSIXct(paste(O2$date, O2$time), format=\"%Y-%m-%d %H:%M:%S\")"
   ]
  },
  {
   "cell_type": "markdown",
   "metadata": {},
   "source": [
    "CO2:"
   ]
  },
  {
   "cell_type": "code",
   "execution_count": null,
   "metadata": {},
   "outputs": [],
   "source": [
    "CO2 <- poctO2 %>%\n",
    "  filter(Test.Desc == \"Arterial pCO2\")\n",
    "#Format date\n",
    "CO2$Date.of.Specimen = as.Date(CO2$Date.of.Specimen, format=\"%d/%m/%Y\")\n",
    "CO2 = CO2 %>% \n",
    "  rename(\n",
    "    date = Date.of.Specimen,\n",
    "  )\n",
    "CO2 = CO2 %>% \n",
    "  rename(\n",
    "    time = Time.of.Specimen,\n",
    "  )\n",
    "CO2 = CO2 %>% \n",
    "  rename(\n",
    "    CO2_val = Numeric.Result,\n",
    "  )\n",
    "#Combine date and time\n",
    "CO2$dateTime = as.POSIXct(paste(CO2$date, CO2$time), format=\"%Y-%m-%d %H:%M:%S\")"
   ]
  },
  {
   "cell_type": "markdown",
   "metadata": {},
   "source": [
    "#### poctpH - Point of Care Testing - pH"
   ]
  },
  {
   "cell_type": "code",
   "execution_count": null,
   "metadata": {},
   "outputs": [],
   "source": [
    "poctpH <- read.csv(file(\"poctpH.csv\"))\n",
    "#Format date\n",
    "poctpH$Date.of.Specimen = as.Date(poctpH$Date...Time.of.Specimen, format=\"%d/%m/%Y\")\n",
    "poctpH = poctpH %>% \n",
    "  rename(\n",
    "    date = Date...Time.of.Specimen,\n",
    "  )\n",
    "poctpH = poctpH %>% \n",
    "  rename(\n",
    "    time = Time.of.Specimen,\n",
    "  )\n",
    "poctpH = poctpH %>% \n",
    "  rename(\n",
    "    poctpH_val = Numeric.Result,\n",
    "  )\n",
    "#Combine date and time\n",
    "poctpH$dateTime = as.POSIXct(paste(poctpH$date, poctpH$time), format=\"%Y-%m-%d %H:%M:%S\")"
   ]
  },
  {
   "cell_type": "markdown",
   "metadata": {},
   "source": [
    "## AvonCap"
   ]
  },
  {
   "cell_type": "code",
   "execution_count": null,
   "metadata": {},
   "outputs": [],
   "source": [
    "AvonCap <- read.csv(file(\"AvonCap.csv\"))\n",
    "AvonCap = AvonCap %>%\n",
    "    rename(\n",
    "        Community_Acquired_Pneumonia_radiologically_confirmed = Final.Standard.of.Care.LRTD.related.diagnosis..choice.CAP...radiologically.confirmed.,\n",
    "        Community_Acquired_Pneumonia_clinically_confirmed = Final.Standard.of.Care.LRTD.related.diagnosis..choice.CAP...clinically.confirmed..but.not.on.radiology..,\n",
    "        Community_Acquired_Pneumonia_no_radiology_performed = Final.Standard.of.Care.LRTD.related.diagnosis..choice.CAP...no.radiology.performed.,\n",
    "        Acute_bronchitis = Final.Standard.of.Care.LRTD.related.diagnosis..choice.Acute.bronchitis.,\n",
    "        Exacerbation_of_COPD = Final.Standard.of.Care.LRTD.related.diagnosis..choice.Exacerbation.of.COPD.,\n",
    "        Empyema_lung_abscess = Final.Standard.of.Care.LRTD.related.diagnosis..choice.Empyema.lung.abscess.,\n",
    "        LRTI_not_further_specified = Final.Standard.of.Care.LRTD.related.diagnosis..choice.LRTI...not.further.specified.,\n",
    "        Congestive_heart_failure = Final.Standard.of.Care.LRTD.related.diagnosis..choice.Congestive.heart.failure.,\n",
    "        Non_infectious_process = Final.Standard.of.Care.LRTD.related.diagnosis..choice.Non.infectious.process.,\n",
    "        Non_LRTD_infection_related_diagnosis = Final.Standard.of.Care.LRTD.related.diagnosis..choice.Non.LRTD.infection.related.diagnosis.,\n",
    "        Other_LRTI_specified = Other.LRTI.Specified,\n",
    "        NYHA_Heart_failure = NYHA...Heart.Failure..nbsp.,\n",
    "        CRB65_Score = CRB65.Score,\n",
    "        NEWS2_Score = NEWS.2.Score,\n",
    "        Respiratory_Disease_None = Respiratory.Disease..choice.None.,\n",
    "        COPD = Respiratory.Disease..choice.COPD..Chronic.Obstructive.Pulmonary.Disease.Emphysema..,\n",
    "        Asthma = Respiratory.Disease..choice.Asthma.,\n",
    "        Bronchiectasis = Respiratory.Disease..choice.Bronchiectasis.,\n",
    "        Pulmonary_Fibrosis_Interstitial_Lung_Disease = Respiratory.Disease..choice.Pulmonary.Fibrosis.Interstitial.Lung.Disease.,\n",
    "        Respiratory_Disease_other = Respiratory.Disease..choice.Other.,\n",
    "        Chronic_heart_disease_none = Chronic.Heart.Disease..choice.None.,\n",
    "        Hypertension = Chronic.Heart.Disease..choice.Hypertension.,\n",
    "        Atrial_Fibrillation = Chronic.Heart.Disease..choice.Atrial.Fibrillation.,\n",
    "        Ischaemic_heart_disease = Chronic.Heart.Disease..choice.Ischaemic.heart.disease.,\n",
    "        Heart_failure = Chronic.Heart.Disease..choice.Heart.failure.CCF.,\n",
    "        Chronic_heart_disease_other = Chronic.Heart.Disease..choice.Other.,\n",
    "        Chronic_Kidney_Disease = Chronic.Kidney.Disease..CKD..Mod.Severe..eGFR..30..Cr.265.umol.L..dialysis..transplantation..uremic.syndrome,\n",
    "        Liver_disease = Liver.Disease.Mild...nbsp.cirrhosis.without.portal.HTN..chronic.hepatitis..Mod.Severe...nbsp.cirrhosis.with.portal.HTN.....variceal.bleeding,\n",
    "        Diabetes = Diabetes,\n",
    "        Cognitive_Impairment_Dementia_none = Cognitive.Impairment.Dementia..choice.None.,\n",
    "        Dementia = Cognitive.Impairment.Dementia..choice.Dementia.,\n",
    "        Cognitive_impairment = Cognitive.Impairment.Dementia..choice.Cognitive.Impairment.,\n",
    "        CVA_Stroke = Cognitive.Impairment.Dementia..choice.CVA..stroke..,\n",
    "        TIA_mini_stroke = Cognitive.Impairment.Dementia..choice.TIA..mini.stroke..,\n",
    "        Hemiplegiahemiplegia_or_paraplegia = Hemiplegiahemiplegia.or.paraplegia,\n",
    "        Peripheral_vascular_disease = Peripheral.Vascular.Disease.Intermittent.claudication..periph..arterial.bypass.for.insufficiency..gangrene..acute.arterial.insufficiency..untreated.aneurysm....6cm..nbsp.,\n",
    "        Immunosuppressive_medication = Immunosuppressive.Medication.includes.oral.steroids..biologics..chemotherapy.,\n",
    "        Immunodeficiency = Immunodeficiency.eg.SCID..hypogammaglobulinaemia..splenectomy.,\n",
    "        Connective_tissue_disease = Connective.Tissue.Disease..SLE..polymyositis..mixed.nbsp.Connective.Tissue.Disease..polymyalgia.rheumatica..moderate.to.severe.Rheumatoid.Arthritis.,\n",
    "        HIV_negative_or_not_tested = HIV.status..choice.Negative..no.HIV...or.not.tested.,\n",
    "        HIV_positive = HIV.status..choice.HIV.,\n",
    "        AIDS = HIV.status..choice.AIDS.,\n",
    "        Solid_organ_cancer_malignancy = Solid.Organ.Cancer.Malignancy.Initially.treated.in.the.last.5.years.exclude.non.melanomatous.skin.cancers.and.in.situ.cervical.carcinoma,\n",
    "        Haematological_malignancy_leukaemia_none = Haematological.Malignancy.Leukaemia...nbsp.CML..CLL..AML..ALL..Polycythaemia.Vera.Lymphoma...nbsp.NHL..Hodgkin.s..WaldenstrÃ.m..multiple.myeloma...choice.None.,\n",
    "        Leukaemia = Haematological.Malignancy.Leukaemia...nbsp.CML..CLL..AML..ALL..Polycythaemia.Vera.Lymphoma...nbsp.NHL..Hodgkin.s..WaldenstrÃ.m..multiple.myeloma...choice.Leukaemia.,\n",
    "        Lymphoma = Haematological.Malignancy.Leukaemia...nbsp.CML..CLL..AML..ALL..Polycythaemia.Vera.Lymphoma...nbsp.NHL..Hodgkin.s..WaldenstrÃ.m..multiple.myeloma...choice.Lymphoma.,\n",
    "        Organ_transplantation = Organ.Transplantation,\n",
    "        Pregnancy_post_partum = Pregnancy.Post.partum,\n",
    "        Gastric_Duodenal_Ulcer_disease = Gastric.Duodenal.Ulcer.Disease.Patients.who.have.required.treatment.for.PUD.nbsp.,\n",
    "        Rockwood_frailty_score = Rockwood.Frailty.Score,\n",
    "        Radiology_result = Radiology.Result\n",
    "    )"
   ]
  },
  {
   "cell_type": "markdown",
   "metadata": {},
   "source": [
    "## Demographics Table\n",
    "Age and gender for every individual"
   ]
  },
  {
   "cell_type": "code",
   "execution_count": null,
   "metadata": {},
   "outputs": [],
   "source": [
    "dem = Vir %>%\n",
    "  distinct(ID, .keep_all = TRUE)\n",
    "dem = dem %>%\n",
    "  select(ID,Gender,Age)"
   ]
  },
  {
   "cell_type": "markdown",
   "metadata": {},
   "source": [
    "## Distribution transformations\n",
    "### BE"
   ]
  },
  {
   "cell_type": "code",
   "execution_count": null,
   "metadata": {},
   "outputs": [],
   "source": [
    "BE_transform <- subset(BE, BE_val < 57.5)\n",
    "\n",
    "ggplot(data = BE_transform, aes(x=BE_val)) +\n",
    "  ggtitle(\"BE distribution\") +\n",
    "  labs(subtitle=\"Reference range = 22-29\") + \n",
    "  geom_histogram(color=\"darkblue\", fill=\"lightblue\", binwidth=0.75) + \n",
    "  geom_vline(xintercept=22,colour=\"red\") +\n",
    "  geom_vline(xintercept=29,colour=\"red\")\n",
    "\n",
    "print(paste0(\"Skewness: \", skewness(BE$BE_val, na.rm = TRUE)))"
   ]
  },
  {
   "cell_type": "markdown",
   "metadata": {},
   "source": [
    "It seems BE contains outliers, a slight positive-skew, and positive kurtosis"
   ]
  },
  {
   "cell_type": "markdown",
   "metadata": {},
   "source": [
    "### BNP"
   ]
  },
  {
   "cell_type": "code",
   "execution_count": null,
   "metadata": {},
   "outputs": [],
   "source": [
    "ggplot(data = BNP_transform, aes(x=BNP_val)) +\n",
    "  ggtitle(\"BNP distribution\") +\n",
    "  labs(subtitle=\"Men under 70: <100pg/ml, Women under 70: <150 pg/ml, All 70yr and over: <300 pg/ml\") + \n",
    "  geom_histogram(color=\"darkblue\", fill=\"lightblue\", binwidth=1000) + \n",
    "  geom_vline(xintercept=100,colour=\"red\") +\n",
    "  geom_vline(xintercept=150,colour=\"red\") + \n",
    "  geom_vline(xintercept=300,colour=\"red\") \n",
    "\n",
    "print(paste0(\"Skewness: \", skewness(BNP$BNP_val, na.rm = TRUE)))\n",
    "\n"
   ]
  },
  {
   "cell_type": "markdown",
   "metadata": {},
   "source": [
    "Outliers and positive-skew\n",
    "\n",
    "Log transformation:"
   ]
  },
  {
   "cell_type": "code",
   "execution_count": null,
   "metadata": {},
   "outputs": [],
   "source": [
    "BNP_transform <- BNP\n",
    "BNP_transform$BNP_val <- log10(BNP_transform$BNP_val)\n",
    "\n",
    "ggplot(data = BNP_transform, aes(x=BNP_val)) +\n",
    "  ggtitle(\"BNP distribution\") +\n",
    "  labs(subtitle=\"Men under 70: <100pg/ml, Women under 70: <150 pg/ml, All 70yr and over: <300 pg/ml\") + \n",
    "  geom_histogram(color=\"darkblue\", fill=\"lightblue\", binwidth=0.1) + \n",
    "  geom_vline(xintercept=log10(100),colour=\"red\") +\n",
    "  geom_vline(xintercept=log10(150),colour=\"red\") + \n",
    "  geom_vline(xintercept=log10(300),colour=\"red\") \n",
    "\n",
    "print(paste0(\"Skewness: \", skewness(BNP_transform$BNP_val, na.rm = TRUE)))\n",
    "print(paste0(\"Kurtosis: \", kurtosis(BNP_transform$BNP_val, na.rm = TRUE)))\n",
    "\n"
   ]
  },
  {
   "cell_type": "markdown",
   "metadata": {},
   "source": [
    "### Clot APTT"
   ]
  },
  {
   "cell_type": "code",
   "execution_count": null,
   "metadata": {},
   "outputs": [],
   "source": [
    "ggplot(data = ClotAPTT, aes(x=APTT_val)) +\n",
    "  ggtitle(\"APTT distribution\") +\n",
    "  labs(subtitle=\"Reference range = 21-33 seconds\") + \n",
    "  geom_histogram(color=\"darkblue\", fill=\"lightblue\", binwidth=1.5) +  geom_vline(xintercept=21,colour=\"red\") +\n",
    "  geom_vline(xintercept=33,colour=\"red\")\n",
    "\n",
    "print(paste0(\"Skewness: \", skewness(ClotAPTT$APTT_val, na.rm = TRUE)))\n",
    "print(paste0(\"Kurtosis: \", kurtosis(ClotAPTT$APTT_val, na.rm = TRUE)))\n"
   ]
  },
  {
   "cell_type": "markdown",
   "metadata": {},
   "source": [
    "Positive skew, positive kurtosis"
   ]
  },
  {
   "cell_type": "code",
   "execution_count": null,
   "metadata": {},
   "outputs": [],
   "source": [
    "ClotAPTT_transform <- ClotAPTT\n",
    "ClotAPTT_transform$APTT_val <- log10(ClotAPTT_transform$APTT_val)\n",
    "\n",
    "ggplot(data = ClotAPTT_transform, aes(x=APTT_val)) +\n",
    "  ggtitle(\"APTT distribution\") +\n",
    "  labs(subtitle=\"Reference range = 21-33 seconds\") + \n",
    "  geom_histogram(color=\"darkblue\", fill=\"lightblue\", binwidth=0.01) +\n",
    "  geom_vline(xintercept=log10(21),colour=\"red\") +\n",
    "  geom_vline(xintercept=log10(33),colour=\"red\")\n",
    "\n",
    "print(paste0(\"Skewness: \", skewness(ClotAPTT_transform$APTT_val, na.rm = TRUE)))\n",
    "print(paste0(\"Kurtosis: \", kurtosis(ClotAPTT_transform$APTT_val, na.rm = TRUE)))\n"
   ]
  },
  {
   "cell_type": "markdown",
   "metadata": {},
   "source": [
    "### Clot PT"
   ]
  },
  {
   "cell_type": "code",
   "execution_count": null,
   "metadata": {},
   "outputs": [],
   "source": [
    "ggplot(data = ClotPT, aes(x=PT_val)) +\n",
    "  ggtitle(\"PT distribution\") +\n",
    "  labs(subtitle=\"Reference range = 9.5-13 seconds\") + \n",
    "  geom_histogram(color=\"darkblue\", fill=\"lightblue\", binwidth=1) +\n",
    "  geom_vline(xintercept=9.5,colour=\"red\") +\n",
    "  geom_vline(xintercept=13,colour=\"red\")\n",
    "\n",
    "print(paste0(\"Skewness: \", skewness(ClotPT$PT_val, na.rm = TRUE)))\n",
    "\n",
    "ClotPT_transform <- ClotPT\n",
    "ClotPT_transform$PT_val <- log10(ClotPT_transform$PT_val)\n",
    "\n",
    "\n",
    "ggplot(data = ClotPT_transform, aes(x=PT_val)) +\n",
    "  ggtitle(\"PT distribution\") +\n",
    "  labs(subtitle=\"Reference range = 9.5-13 seconds\") + \n",
    "  geom_histogram(color=\"darkblue\", fill=\"lightblue\", binwidth=0.01) +\n",
    "  geom_vline(xintercept=log10(9.5),colour=\"red\") +\n",
    "  geom_vline(xintercept=log10(13),colour=\"red\")\n",
    "\n",
    "print(paste0(\"Skewness: \", skewness(ClotPT_transform$PT_val, na.rm = TRUE)))\n",
    "\n"
   ]
  },
  {
   "cell_type": "markdown",
   "metadata": {},
   "source": [
    "Outliers, positive skew, positive kurtosis"
   ]
  },
  {
   "cell_type": "markdown",
   "metadata": {},
   "source": [
    "### CO2"
   ]
  },
  {
   "cell_type": "code",
   "execution_count": null,
   "metadata": {},
   "outputs": [],
   "source": [
    "ggplot(data = CO2, aes(x=CO2_val)) +\n",
    "  ggtitle(\"CO2 distribution\") +\n",
    "  labs(subtitle=\"Reference range = 4.6-6.4 seconds\") + \n",
    "  geom_histogram(color=\"darkblue\", fill=\"lightblue\", binwidth=0.5) +\n",
    "  geom_vline(xintercept=4.6,colour=\"red\") +\n",
    "  geom_vline(xintercept=6.4,colour=\"red\")\n",
    "\n",
    "print(paste0(\"Skewness: \", skewness(CO2$CO2_val, na.rm = TRUE)))\n",
    "\n",
    "\n",
    "CO2_transform <- CO2\n",
    "CO2_transform$CO2_val <- log10(CO2_transform$CO2_val)\n",
    "\n",
    "ggplot(data = CO2_transform, aes(x=CO2_val)) +\n",
    "  ggtitle(\"CO2 distribution\") +\n",
    "  labs(subtitle=\"Reference range = 4.6-6.4 seconds\") + \n",
    "  geom_histogram(color=\"darkblue\", fill=\"lightblue\", binwidth=0.02) +\n",
    "  geom_vline(xintercept=log10(4.6),colour=\"red\") +\n",
    "  geom_vline(xintercept=log10(6.4),colour=\"red\")\n",
    "\n",
    "print(paste0(\"Skewness: \", skewness(CO2_transform$CO2_val, na.rm = TRUE)))"
   ]
  },
  {
   "cell_type": "markdown",
   "metadata": {},
   "source": [
    "Positive skew"
   ]
  },
  {
   "cell_type": "markdown",
   "metadata": {},
   "source": [
    "### O2"
   ]
  },
  {
   "cell_type": "code",
   "execution_count": null,
   "metadata": {},
   "outputs": [],
   "source": [
    "ggplot(data = O2, aes(x=O2_val)) +\n",
    "  ggtitle(\"O2 distribution\") +\n",
    "  labs(subtitle=\"Reference range = 11.0-14.4 seconds\") + \n",
    "  geom_histogram(color=\"darkblue\", fill=\"lightblue\", binwidth=1) +\n",
    "  geom_vline(xintercept=11,colour=\"red\") +\n",
    "  geom_vline(xintercept=14.4,colour=\"red\")\n",
    "\n",
    "print(paste0(\"Skewness: \", skewness(O2$O2_val, na.rm = TRUE)))\n",
    "\n",
    "O2_transform <- O2\n",
    "O2_transform$O2_val <- log10(O2_transform$O2_val)\n",
    "\n",
    "ggplot(data = O2_transform, aes(x=O2_val)) +\n",
    "  ggtitle(\"O2 distribution\") +\n",
    "  labs(subtitle=\"Reference range = 11.0-14.4 seconds\") + \n",
    "  geom_histogram(color=\"darkblue\", fill=\"lightblue\", binwidth=0.02) +\n",
    "  geom_vline(xintercept=log10(11),colour=\"red\") +\n",
    "  geom_vline(xintercept=log10(14.4),colour=\"red\")\n",
    "\n",
    "print(paste0(\"Skewness: \", skewness(O2_transform$O2_val, na.rm = TRUE)))"
   ]
  },
  {
   "cell_type": "markdown",
   "metadata": {},
   "source": [
    "Positive skew, positive kurtosis, outliers"
   ]
  },
  {
   "cell_type": "markdown",
   "metadata": {},
   "source": [
    "### CRP"
   ]
  },
  {
   "cell_type": "code",
   "execution_count": null,
   "metadata": {},
   "outputs": [],
   "source": [
    "ggplot(data = CRP, aes(x=CRP_val)) +\n",
    "  ggtitle(\"CRP distribution\") +\n",
    "  labs(subtitle=\"Reference range = < 6 mg/L\") + \n",
    "  geom_histogram(color=\"darkblue\", fill=\"lightblue\", binwidth=10) +\n",
    "  geom_vline(xintercept=6,colour=\"red\")\n",
    "\n",
    "print(paste0(\"Skewness: \", skewness(CRP$CRP_val, na.rm = TRUE)))\n",
    "\n",
    "CRP_transform <- CRP\n",
    "CRP_transform$CRP_val <- (CRP_transform$CRP_val)^(1/3)\n",
    "\n",
    "ggplot(data = CRP_transform, aes(x=CRP_val)) +\n",
    "  ggtitle(\"CRP distribution\") +\n",
    "  labs(subtitle=\"Reference range = < 6 mg/L\") + \n",
    "  geom_histogram(color=\"darkblue\", fill=\"lightblue\", binwidth=0.2) +\n",
    "  geom_vline(xintercept=6^(1/3),colour=\"red\")\n",
    "\n",
    "print(paste0(\"Skewness: \", skewness(CRP_transform$CRP_val, na.rm = TRUE)))"
   ]
  },
  {
   "cell_type": "markdown",
   "metadata": {},
   "source": [
    "Positive skew"
   ]
  },
  {
   "cell_type": "markdown",
   "metadata": {},
   "source": [
    "### DDM"
   ]
  },
  {
   "cell_type": "code",
   "execution_count": null,
   "metadata": {},
   "outputs": [],
   "source": [
    "ggplot(data = DDM, aes(x=DDM_val)) +\n",
    "  ggtitle(\"DDM distribution\") +\n",
    "  labs(subtitle=\"Reference range (ng/ml) = Age < 60: <500, Age 61-70: <600, Age 71-80: <700, Age 81-90: <800, Age > 90: <900\") + \n",
    "  geom_histogram(color=\"darkblue\", fill=\"lightblue\", binwidth=1000) +\n",
    "  geom_vline(xintercept=500,colour=\"red\") + \n",
    "  geom_vline(xintercept=600,colour=\"red\") + \n",
    "  geom_vline(xintercept=700,colour=\"red\") + \n",
    "  geom_vline(xintercept=800,colour=\"red\") + \n",
    "  geom_vline(xintercept=900,colour=\"red\") \n",
    "\n",
    "print(paste0(\"Skewness: \", skewness(DDM$DDM_val, na.rm = TRUE)))\n",
    "\n",
    "DDM_transform <- DDM\n",
    "DDM_transform$DDM_val <- log10(DDM_transform$DDM_val)\n",
    "\n",
    "\n",
    "ggplot(data = DDM_transform, aes(x=DDM_val)) +\n",
    "  ggtitle(\"DDM distribution\") +\n",
    "  labs(subtitle=\"Reference range (ng/ml) = Age < 60: <500, Age 61-70: <600, Age 71-80: <700, Age 81-90: <800, Age > 90: <900\") + \n",
    "  geom_histogram(color=\"darkblue\", fill=\"lightblue\", binwidth=0.05) +\n",
    "  geom_vline(xintercept=log10(500),colour=\"red\") + \n",
    "  geom_vline(xintercept=log10(600),colour=\"red\") + \n",
    "  geom_vline(xintercept=log10(700),colour=\"red\") + \n",
    "  geom_vline(xintercept=log10(800),colour=\"red\") + \n",
    "  geom_vline(xintercept=log10(900),colour=\"red\") \n",
    "\n",
    "print(paste0(\"Skewness: \", skewness(DDM_transform$DDM_val, na.rm = TRUE)))"
   ]
  },
  {
   "cell_type": "markdown",
   "metadata": {},
   "source": [
    "Outliers, positive skew"
   ]
  },
  {
   "cell_type": "markdown",
   "metadata": {},
   "source": [
    "### eGFR"
   ]
  },
  {
   "cell_type": "code",
   "execution_count": null,
   "metadata": {},
   "outputs": [],
   "source": [
    "eGFR_transform <- eGFR\n",
    "\n",
    "ggplot(data = eGFR_transform, aes(x=eGFR_val)) +\n",
    "  ggtitle(\"eGFR distribution\") +\n",
    "  labs(subtitle=\"Reference range = >90\") + \n",
    "  geom_histogram(color=\"darkblue\", fill=\"lightblue\", binwidth=1) +\n",
    "  geom_vline(xintercept=90,colour=\"red\")\n",
    "\n",
    "print(paste0(\"Skewness: \", skewness(eGFR$eGFR_val, na.rm = TRUE)))\n"
   ]
  },
  {
   "cell_type": "markdown",
   "metadata": {},
   "source": [
    "Negative skew, negative kurtosis?"
   ]
  },
  {
   "cell_type": "markdown",
   "metadata": {},
   "source": [
    "### FBC Lymphocytes"
   ]
  },
  {
   "cell_type": "code",
   "execution_count": null,
   "metadata": {},
   "outputs": [],
   "source": [
    "ggplot(data = FBCLymph, aes(x=Lymphocytes)) +\n",
    "  ggtitle(\"Lymphocytes distribution\") +\n",
    "  labs(subtitle=\"Reference range =  1.5-4.5 10^9/L\") + \n",
    "  geom_histogram(color=\"darkblue\", fill=\"lightblue\", binwidth=0.4) +\n",
    "  geom_vline(xintercept=1.5,colour=\"red\") + \n",
    "  geom_vline(xintercept=4.5,colour=\"red\")\n",
    "\n",
    "print(paste0(\"Skewness: \", skewness(FBCLymph$Lymphocytes, na.rm = TRUE)))\n",
    "\n",
    "FBCLymph_transform <- FBCLymph\n",
    "FBCLymph_transform$Lymphocytes <- log10(FBCLymph_transform$Lymphocytes)\n",
    "\n",
    "ggplot(data = FBCLymph_transform, aes(x=Lymphocytes)) +\n",
    "  ggtitle(\"Lymphocytes distribution\") +\n",
    "  labs(subtitle=\"Reference range =  1.5-4.5 10^9/L\") + \n",
    "  geom_histogram(color=\"darkblue\", fill=\"lightblue\", binwidth=0.05) +\n",
    "  geom_vline(xintercept=log10(1.5),colour=\"red\") + \n",
    "  geom_vline(xintercept=log10(4.5),colour=\"red\")\n",
    "\n",
    "print(paste0(\"Skewness: \", skewness(FBCLymph_transform$Lymphocytes, na.rm = TRUE)))"
   ]
  },
  {
   "cell_type": "markdown",
   "metadata": {},
   "source": [
    "Outliers, positive kurtosis, positive skew"
   ]
  },
  {
   "cell_type": "markdown",
   "metadata": {},
   "source": [
    "### Neutrophils"
   ]
  },
  {
   "cell_type": "code",
   "execution_count": null,
   "metadata": {},
   "outputs": [],
   "source": [
    "ggplot(data = FBCNeutr, aes(x=Neutrophils)) +\n",
    "  ggtitle(\"Neutrophils distribution\") +\n",
    "  labs(subtitle=\"Reference range = 2.0-7.5 10^9/L\") + \n",
    "  geom_histogram(color=\"darkblue\", fill=\"lightblue\", binwidth=1) +\n",
    "  geom_vline(xintercept=2.0,colour=\"red\") + \n",
    "  geom_vline(xintercept=7.5,colour=\"red\")\n",
    "\n",
    "print(paste0(\"Skewness: \", skewness(FBCNeutr$Neutrophils, na.rm = TRUE)))\n",
    "\n",
    "\n",
    "FBCNeutr_transform <- FBCNeutr\n",
    "FBCNeutr_transform$Neutrophils <- (FBCNeutr_transform$Neutrophils)^(1/3)\n",
    "\n",
    "ggplot(data = FBCNeutr_transform, aes(x=Neutrophils)) +\n",
    "  ggtitle(\"Neutrophils distribution\") +\n",
    "  labs(subtitle=\"Reference range = 2.0-7.5 10^9/L\") + \n",
    "  geom_histogram(color=\"darkblue\", fill=\"lightblue\", binwidth=0.05) +\n",
    "  geom_vline(xintercept=(2.0)^(1/3),colour=\"red\") + \n",
    "  geom_vline(xintercept=(7.5)^(1/3),colour=\"red\")\n",
    "\n",
    "print(paste0(\"Skewness: \", skewness(FBCNeutr_transform$Neutrophils, na.rm = TRUE)))"
   ]
  },
  {
   "cell_type": "markdown",
   "metadata": {},
   "source": [
    "### FBC NLR"
   ]
  },
  {
   "cell_type": "code",
   "execution_count": null,
   "metadata": {},
   "outputs": [],
   "source": [
    "ggplot(data = FBCNLR, aes(x=NLR_val)) +\n",
    "  ggtitle(\"NLR distribution\") +\n",
    "  labs(subtitle=\"Reference range = 0.78 and 3.53\") + \n",
    "  geom_histogram(color=\"darkblue\", fill=\"lightblue\", binwidth=10) +\n",
    "  geom_vline(xintercept=0.78,colour=\"red\") + \n",
    "  geom_vline(xintercept=3.53,colour=\"red\")\n",
    "\n",
    "print(paste0(\"Skewness: \", skewness(FBCNLR$NLR_val, na.rm = TRUE)))\n",
    "\n",
    "FBCNLR_transform <- FBCNLR\n",
    "FBCNLR_transform$NLR_val <- log10(FBCNLR_transform$NLR_val)\n",
    "\n",
    "ggplot(data = FBCNLR_transform, aes(x=NLR_val)) +\n",
    "  ggtitle(\"NLR distribution\") +\n",
    "  labs(subtitle=\"Reference range = 0.78 and 3.53\") + \n",
    "  geom_histogram(color=\"darkblue\", fill=\"lightblue\", binwidth=0.05) +\n",
    "  geom_vline(xintercept=log10(0.78),colour=\"red\") + \n",
    "  geom_vline(xintercept=log10(3.53),colour=\"red\")\n",
    "\n",
    "print(paste0(\"Skewness: \", skewness(FBCNLR_transform$NLR_val, na.rm = TRUE)))"
   ]
  },
  {
   "cell_type": "markdown",
   "metadata": {},
   "source": [
    "### WCC"
   ]
  },
  {
   "cell_type": "code",
   "execution_count": null,
   "metadata": {},
   "outputs": [],
   "source": [
    "ggplot(data = FBCWCC, aes(x=WCC)) +\n",
    "  ggtitle(\"WCC distribution\") +\n",
    "  labs(subtitle=\"Reference range = 4.0-11.0 10^9/L\") + \n",
    "  geom_histogram(color=\"darkblue\", fill=\"lightblue\", binwidth=1) +\n",
    "  geom_vline(xintercept=4.0,colour=\"red\") + \n",
    "  geom_vline(xintercept=11.0,colour=\"red\")\n",
    "\n",
    "print(paste0(\"Skewness: \", skewness(FBCWCC$WCC, na.rm = TRUE)))\n",
    "\n",
    "FBCWCC_transform <- FBCWCC\n",
    "FBCWCC_transform$WCC <- (FBCWCC_transform$WCC)^(1/3)\n",
    "\n",
    "\n",
    "ggplot(data = FBCWCC_transform, aes(x=WCC)) +\n",
    "  ggtitle(\"WCC distribution\") +\n",
    "  labs(subtitle=\"Reference range = 4.0-11.0 10^9/L\") + \n",
    "  geom_histogram(color=\"darkblue\", fill=\"lightblue\", binwidth=0.05) +\n",
    "  geom_vline(xintercept=(4.0)^(1/3),colour=\"red\") + \n",
    "  geom_vline(xintercept=(11.0)^(1/3),colour=\"red\")\n",
    "\n",
    "print(paste0(\"Skewness: \", skewness(FBCWCC_transform$WCC, na.rm = TRUE)))"
   ]
  },
  {
   "cell_type": "markdown",
   "metadata": {},
   "source": [
    "### FER"
   ]
  },
  {
   "cell_type": "code",
   "execution_count": null,
   "metadata": {},
   "outputs": [],
   "source": [
    "ggplot(data = FER, aes(x=FER_val)) +\n",
    "  ggtitle(\"FER distribution\") +\n",
    "  labs(subtitle=\"Reference range Male: 33-490, Female(0-44): 15-445, Female(45+yrs): 30-470\") + \n",
    "  geom_histogram(color=\"darkblue\", fill=\"lightblue\", binwidth=250) +\n",
    "  geom_vline(xintercept=15,colour=\"green\") + \n",
    "  geom_vline(xintercept=33,colour=\"blue\") + \n",
    "  geom_vline(xintercept=445,colour=\"green\") + \n",
    "  geom_vline(xintercept=470,colour=\"red\") + \n",
    "  geom_vline(xintercept=490,colour=\"blue\")\n",
    "\n",
    "print(paste0(\"Skewness: \", skewness(FER$FER_val, na.rm = TRUE)))\n",
    "\n",
    "FER_transform <- FER\n",
    "FER_transform$FER_val <- log10(FER_transform$FER_val)\n",
    "\n",
    "ggplot(data = FER_transform, aes(x=FER_val)) +\n",
    "  ggtitle(\"FER distribution\") +\n",
    "  labs(subtitle=\"Reference range Male: 33-490, Female(0-44): 15-445, Female(45+yrs): 30-470\") + \n",
    "  geom_histogram(color=\"darkblue\", fill=\"lightblue\", binwidth=0.075) +\n",
    "  geom_vline(xintercept=log10(15),colour=\"green\") + \n",
    "  geom_vline(xintercept=log10(33),colour=\"blue\") + \n",
    "  geom_vline(xintercept=log10(445),colour=\"green\") + \n",
    "  geom_vline(xintercept=log10(470),colour=\"red\") + \n",
    "  geom_vline(xintercept=log10(490),colour=\"blue\")\n",
    "\n",
    "print(paste0(\"Skewness: \", skewness(FER_transform$FER_val, na.rm = TRUE)))"
   ]
  },
  {
   "cell_type": "markdown",
   "metadata": {},
   "source": [
    "### Fib"
   ]
  },
  {
   "cell_type": "code",
   "execution_count": null,
   "metadata": {},
   "outputs": [],
   "source": [
    "fib_transform <- fib\n",
    "\n",
    "ggplot(data = fib_transform, aes(x=fib_val)) +\n",
    "  ggtitle(\"fib distribution\") +\n",
    "  labs(subtitle=\"Reference range = 1.8-4.0 g/L\") + \n",
    "  geom_histogram(color=\"darkblue\", fill=\"lightblue\", binwidth=0.1) +\n",
    "  geom_vline(xintercept=1.8,colour=\"red\") + \n",
    "  geom_vline(xintercept=4.0,colour=\"red\")\n",
    "\n",
    "print(paste0(\"Skewness: \", skewness(fib$fib_val, na.rm = TRUE)))\n",
    "\n"
   ]
  },
  {
   "cell_type": "markdown",
   "metadata": {},
   "source": [
    "May need to remove values at 0"
   ]
  },
  {
   "cell_type": "markdown",
   "metadata": {},
   "source": [
    "### Glucose"
   ]
  },
  {
   "cell_type": "code",
   "execution_count": null,
   "metadata": {},
   "outputs": [],
   "source": [
    "ggplot(data = Glucose, aes(x=Glucose_val)) +\n",
    "  ggtitle(\"Glucose distribution\") +\n",
    "  labs(subtitle=\"Reference range = Fasting: 3.0-6.0 mmol/L, Non-fasting: 3.0-7.8 mmol/L\") + \n",
    "  geom_histogram(color=\"darkblue\", fill=\"lightblue\", binwidth=1) +\n",
    "  geom_vline(xintercept=3,colour=\"red\") + \n",
    "  geom_vline(xintercept=6,colour=\"red\") + \n",
    "  geom_vline(xintercept=7.8,colour=\"red\")\n",
    "\n",
    "print(paste0(\"Skewness: \", skewness(Glucose$Glucose_val, na.rm = TRUE)))\n",
    "\n",
    "\n",
    "Glucose_transform <- Glucose\n",
    "Glucose_transform$Glucose_val <- log10(Glucose_transform$Glucose_val)\n",
    "\n",
    "\n",
    "ggplot(data = Glucose_transform, aes(x=Glucose_val)) +\n",
    "  ggtitle(\"Glucose distribution\") +\n",
    "  labs(subtitle=\"Reference range = Fasting: 3.0-6.0 mmol/L, Non-fasting: 3.0-7.8 mmol/L\") + \n",
    "  geom_histogram(color=\"darkblue\", fill=\"lightblue\", binwidth=0.03) +\n",
    "  geom_vline(xintercept=log10(3),colour=\"red\") + \n",
    "  geom_vline(xintercept=log10(6),colour=\"red\") + \n",
    "  geom_vline(xintercept=log10(7.8),colour=\"red\")\n",
    "\n",
    "print(paste0(\"Skewness: \", skewness(Glucose_transform$Glucose_val, na.rm = TRUE)))"
   ]
  },
  {
   "cell_type": "markdown",
   "metadata": {},
   "source": [
    "### HB"
   ]
  },
  {
   "cell_type": "code",
   "execution_count": null,
   "metadata": {},
   "outputs": [],
   "source": [
    "HB_transform <- HB\n",
    "\n",
    "ggplot(data = HB_transform, aes(x=HB_val)) +\n",
    "  ggtitle(\"HB distribution\") +\n",
    "  labs(subtitle=\"Reference range = Male 130-170 g/L, Female 120-150 g/L\") + \n",
    "  geom_histogram(color=\"darkblue\", fill=\"lightblue\", binwidth=3) +\n",
    "  geom_vline(xintercept=120,colour=\"red\") + \n",
    "  geom_vline(xintercept=130,colour=\"red\") + \n",
    "  geom_vline(xintercept=150,colour=\"red\") + \n",
    "  geom_vline(xintercept=170,colour=\"red\")\n",
    "\n",
    "print(paste0(\"Skewness: \", skewness(HB$HB_val, na.rm = TRUE)))\n",
    "\n"
   ]
  },
  {
   "cell_type": "markdown",
   "metadata": {},
   "source": [
    "### HBA1c"
   ]
  },
  {
   "cell_type": "code",
   "execution_count": null,
   "metadata": {},
   "outputs": [],
   "source": [
    "ggplot(data = HBA1c, aes(x=HBA1c_val)) +\n",
    "  ggtitle(\"HBA1c distribution\") +\n",
    "  labs(subtitle=\"Reference range = >/= 48 mmol/mol probable diabetes, 42-48 mmol/mol increased risk\") + \n",
    "  geom_histogram(color=\"darkblue\", fill=\"lightblue\", binwidth=4) +\n",
    "  geom_vline(xintercept=42,colour=\"red\") + \n",
    "  geom_vline(xintercept=48,colour=\"red\")\n",
    "\n",
    "print(paste0(\"Skewness: \", skewness(HBA1c$HBA1c_val, na.rm = TRUE)))\n",
    "\n",
    "HBA1c_transform <- HBA1c\n",
    "HBA1c_transform$HBA1c_val <- (HBA1c_transform$HBA1c_val)^(1/3)\n",
    "\n",
    "\n",
    "ggplot(data = HBA1c_transform, aes(x=HBA1c_val)) +\n",
    "  ggtitle(\"HBA1c distribution\") +\n",
    "  labs(subtitle=\"Reference range = >/= 48 mmol/mol probable diabetes, 42-48 mmol/mol increased risk\") + \n",
    "  geom_histogram(color=\"darkblue\", fill=\"lightblue\", binwidth=0.05) +\n",
    "  geom_vline(xintercept=(42)^(1/3),colour=\"red\") + \n",
    "  geom_vline(xintercept=(48)^(1/3),colour=\"red\")\n",
    "\n",
    "print(paste0(\"Skewness: \", skewness(HBA1c_transform$HBA1c_val, na.rm = TRUE)))"
   ]
  },
  {
   "cell_type": "markdown",
   "metadata": {},
   "source": [
    "### LDH"
   ]
  },
  {
   "cell_type": "code",
   "execution_count": null,
   "metadata": {},
   "outputs": [],
   "source": [
    "ggplot(data = LDH, aes(x=LDH_val)) +\n",
    "  ggtitle(\"LDH distribution\") +\n",
    "  labs(subtitle=\"Reference range = 240-480 IU/L\") + \n",
    "  geom_histogram(color=\"darkblue\", fill=\"lightblue\", binwidth=200) +\n",
    "  geom_vline(xintercept=240,colour=\"red\") + \n",
    "  geom_vline(xintercept=480,colour=\"red\")\n",
    "\n",
    "print(paste0(\"Skewness: \", skewness(LDH$LDH_val, na.rm = TRUE)))\n",
    "\n",
    "LDH_transform <- LDH\n",
    "LDH_transform$LDH_val <- log10(LDH_transform$LDH_val)\n",
    "\n",
    "ggplot(data = LDH_transform, aes(x=LDH_val)) +\n",
    "  ggtitle(\"LDH distribution\") +\n",
    "  labs(subtitle=\"Reference range = 240-480 IU/L\") + \n",
    "  geom_histogram(color=\"darkblue\", fill=\"lightblue\", binwidth=0.04) +\n",
    "  geom_vline(xintercept=log10(240),colour=\"red\") + \n",
    "  geom_vline(xintercept=log10(480),colour=\"red\")\n",
    "\n",
    "print(paste0(\"Skewness: \", skewness(LDH_transform$LDH_val, na.rm = TRUE)))\n",
    "\n"
   ]
  },
  {
   "cell_type": "markdown",
   "metadata": {},
   "source": [
    "### PCT"
   ]
  },
  {
   "cell_type": "code",
   "execution_count": null,
   "metadata": {},
   "outputs": [],
   "source": [
    "ggplot(data = PCT, aes(x=PCT_val)) +\n",
    "  ggtitle(\"PCT distribution\") +\n",
    "  labs(subtitle=\"Reference range = Normal range: <0.05ng/mL, <0.50ng/mL low risk of severe sepsis, >2.00ng/mL high risk severe sepsis\") + \n",
    "  geom_histogram(color=\"darkblue\", fill=\"lightblue\", binwidth=2) +\n",
    "  geom_vline(xintercept=0.05,colour=\"red\") + \n",
    "  geom_vline(xintercept=0.50,colour=\"red\") + \n",
    "  geom_vline(xintercept=2.0,colour=\"red\") \n",
    "\n",
    "print(paste0(\"Skewness: \", skewness(PCT$PCT_val, na.rm = TRUE)))\n",
    "\n",
    "\n",
    "PCT_transform <- PCT\n",
    "PCT_transform$PCT_val <- log10(PCT_transform$PCT_val)\n",
    "\n",
    "\n",
    "ggplot(data = PCT_transform, aes(x=PCT_val)) +\n",
    "  ggtitle(\"PCT distribution\") +\n",
    "  labs(subtitle=\"Reference range = Normal range: <0.05ng/mL, <0.50ng/mL low risk of severe sepsis, >2.00ng/mL high risk severe sepsis\") + \n",
    "  geom_histogram(color=\"darkblue\", fill=\"lightblue\", binwidth=0.2) +\n",
    "  geom_vline(xintercept=log10(0.05),colour=\"red\") + \n",
    "  geom_vline(xintercept=log10(0.50),colour=\"red\") + \n",
    "  geom_vline(xintercept=log10(2.0),colour=\"red\") \n",
    "\n",
    "print(paste0(\"Skewness: \", skewness(PCT_transform$PCT_val, na.rm = TRUE)))"
   ]
  },
  {
   "cell_type": "markdown",
   "metadata": {},
   "source": [
    "### PLT"
   ]
  },
  {
   "cell_type": "code",
   "execution_count": null,
   "metadata": {},
   "outputs": [],
   "source": [
    "ggplot(data = PLT, aes(x=PLT_val)) +\n",
    "  ggtitle(\"PLT distribution\") +\n",
    "  labs(subtitle=\"Reference range = 150-450 10^9/L\") + \n",
    "  geom_histogram(color=\"darkblue\", fill=\"lightblue\", binwidth=50) +\n",
    "  geom_vline(xintercept=150,colour=\"red\") + \n",
    "  geom_vline(xintercept=450,colour=\"red\") \n",
    "\n",
    "print(paste0(\"Skewness: \", skewness(PLT$PLT_val, na.rm = TRUE)))\n",
    "\n",
    "\n",
    "PLT_transform <- PLT\n",
    "PLT_transform$PLT_val <- sqrt(PLT_transform$PLT_val)\n",
    "\n",
    "\n",
    "ggplot(data = PLT_transform, aes(x=PLT_val)) +\n",
    "  ggtitle(\"PLT distribution\") +\n",
    "  labs(subtitle=\"Reference range = 150-450 10^9/L\") + \n",
    "  geom_histogram(color=\"darkblue\", fill=\"lightblue\", binwidth=1) +\n",
    "  geom_vline(xintercept=sqrt(150),colour=\"red\") + \n",
    "  geom_vline(xintercept=sqrt(450),colour=\"red\") \n",
    "\n",
    "print(paste0(\"Skewness: \", skewness(PLT_transform$PLT_val, na.rm = TRUE)))"
   ]
  },
  {
   "cell_type": "markdown",
   "metadata": {},
   "source": [
    "### poctLAC"
   ]
  },
  {
   "cell_type": "code",
   "execution_count": null,
   "metadata": {},
   "outputs": [],
   "source": [
    "ggplot(data = poctLAC, aes(x=poctLAC_val)) +\n",
    "  ggtitle(\"poctLAC distribution\") +\n",
    "  labs(subtitle=\"Reference range = 0.5-2.2 mmol/L\") + \n",
    "  geom_histogram(color=\"darkblue\", fill=\"lightblue\", binwidth=0.2) +\n",
    "  geom_vline(xintercept=0.5,colour=\"red\") + \n",
    "  geom_vline(xintercept=2.2,colour=\"red\") \n",
    "\n",
    "print(paste0(\"Skewness: \", skewness(poctLAC$poctLAC_val, na.rm = TRUE)))\n",
    "\n",
    "poctLAC_transform <- poctLAC\n",
    "poctLAC_transform$poctLAC_val <- log10(poctLAC_transform$poctLAC_val)\n",
    "\n",
    "ggplot(data = poctLAC_transform, aes(x=poctLAC_val)) +\n",
    "  ggtitle(\"poctLAC distribution\") +\n",
    "  labs(subtitle=\"Reference range = 0.5-2.2 mmol/L\") + \n",
    "  geom_histogram(color=\"darkblue\", fill=\"lightblue\", binwidth=0.05) +\n",
    "  geom_vline(xintercept=log10(0.5),colour=\"red\") + \n",
    "  geom_vline(xintercept=log10(2.2),colour=\"red\") \n",
    "\n",
    "print(paste0(\"Skewness: \", skewness(poctLAC_transform$poctLAC_val, na.rm = TRUE)))"
   ]
  },
  {
   "cell_type": "markdown",
   "metadata": {},
   "source": [
    "### poctpH"
   ]
  },
  {
   "cell_type": "code",
   "execution_count": null,
   "metadata": {},
   "outputs": [],
   "source": [
    "poctpH_transform <- poctpH\n",
    "\n",
    "ggplot(data = poctpH_transform, aes(x=poctpH_val)) +\n",
    "  ggtitle(\"poctpH distribution\") +\n",
    "  labs(subtitle=\"Reference range = 7.35-7.45\") + \n",
    "  geom_histogram(color=\"darkblue\", fill=\"lightblue\", binwidth=0.02) +\n",
    "  geom_vline(xintercept=7.35,colour=\"red\") + \n",
    "  geom_vline(xintercept=7.45,colour=\"red\")\n",
    "\n",
    "print(paste0(\"Skewness: \", skewness(poctpH$poctpH_val, na.rm = TRUE)))\n"
   ]
  },
  {
   "cell_type": "markdown",
   "metadata": {},
   "source": [
    "### Trig"
   ]
  },
  {
   "cell_type": "code",
   "execution_count": null,
   "metadata": {},
   "outputs": [],
   "source": [
    "ggplot(data = trig, aes(x=trig_val)) +\n",
    "  ggtitle(\"trig distribution\") +\n",
    "  labs(subtitle=\"Reference range = 0.5-1.7\") + \n",
    "  geom_histogram(color=\"darkblue\", fill=\"lightblue\", binwidth=0.3) +\n",
    "  geom_vline(xintercept=0.5,colour=\"red\") + \n",
    "  geom_vline(xintercept=1.7,colour=\"red\")\n",
    "\n",
    "print(paste0(\"Skewness: \", skewness(trig$trig_val, na.rm = TRUE)))\n",
    "\n",
    "trig_transform <- trig\n",
    "trig_transform$trig_val <- log10(trig_transform$trig_val)\n",
    "\n",
    "ggplot(data = trig_transform, aes(x=trig_val)) +\n",
    "  ggtitle(\"trig distribution\") +\n",
    "  labs(subtitle=\"Reference range = 0.5-1.7\") + \n",
    "  geom_histogram(color=\"darkblue\", fill=\"lightblue\", binwidth=0.03) +\n",
    "  geom_vline(xintercept=log10(0.5),colour=\"red\") + \n",
    "  geom_vline(xintercept=log10(1.7),colour=\"red\")\n",
    "\n",
    "print(paste0(\"Skewness: \", skewness(trig_transform$trig_val, na.rm = TRUE)))"
   ]
  },
  {
   "cell_type": "markdown",
   "metadata": {},
   "source": [
    "### Trop"
   ]
  },
  {
   "cell_type": "code",
   "execution_count": null,
   "metadata": {},
   "outputs": [],
   "source": [
    "ggplot(data = trop, aes(x=trop_val)) +\n",
    "  ggtitle(\"trop distribution\") +\n",
    "  labs(subtitle=\"Reference range = Normal: <14ng/L, Possible MI: 14-30 ng/L, Probable MI: >30 ng/L\") + \n",
    "  geom_histogram(color=\"darkblue\", fill=\"lightblue\", binwidth=200) +\n",
    "  geom_vline(xintercept=14,colour=\"red\") + \n",
    "  geom_vline(xintercept=30,colour=\"red\")\n",
    "print(paste0(\"Skewness: \", skewness(trop$trop_val, na.rm = TRUE)))\n",
    "\n",
    "\n",
    "trop_transform <- trop\n",
    "trop_transform$trop_val <- log10(trop_transform$trop_val)\n",
    "\n",
    "ggplot(data = trop_transform, aes(x=trop_val)) +\n",
    "  ggtitle(\"trop distribution\") +\n",
    "  labs(subtitle=\"Reference range = Normal: <14ng/L, Possible MI: 14-30 ng/L, Probable MI: >30 ng/L\") + \n",
    "  geom_histogram(color=\"darkblue\", fill=\"lightblue\", binwidth=0.05) +\n",
    "  geom_vline(xintercept=log10(14),colour=\"red\") + \n",
    "  geom_vline(xintercept=log10(30),colour=\"red\")\n",
    "print(paste0(\"Skewness: \", skewness(trop_transform$trop_val, na.rm = TRUE)))"
   ]
  },
  {
   "cell_type": "markdown",
   "metadata": {},
   "source": [
    "### Rescale tables, add \"Measure\" column so that it can act as factor, and combine tables"
   ]
  },
  {
   "cell_type": "code",
   "execution_count": null,
   "metadata": {},
   "outputs": [],
   "source": [
    "BE_transform$BE_val <- rescale(BE_transform$BE_val)\n",
    "BE_transform = BE_transform %>% select(ID,date,BE_val)\n",
    "BE_transform['Measure'] = 'BE'\n",
    "BE_transform = BE_transform %>%\n",
    "    rename ( \n",
    "        Numeric.Result = BE_val\n",
    "    )\n",
    "\n",
    "BNP_transform$BNP_val <- rescale(BNP_transform$BNP_val)\n",
    "BNP_transform = BNP_transform %>% select(ID,date,BNP_val)\n",
    "BNP_transform['Measure'] = 'BNP'\n",
    "BNP_transform = BNP_transform %>%\n",
    "    rename ( \n",
    "        Numeric.Result = BNP_val\n",
    "    )\n",
    "\n",
    "CRP_transform$CRP_val <- rescale(CRP_transform$CRP_val)\n",
    "CRP_transform = CRP_transform %>% select(ID,date,CRP_val)\n",
    "CRP_transform['Measure'] = 'CRP'\n",
    "CRP_transform = CRP_transform %>%\n",
    "    rename ( \n",
    "        Numeric.Result = CRP_val\n",
    "    )\n",
    "\n",
    "DDM_transform$DDM_val <- rescale(DDM_transform$DDM_val)\n",
    "DDM_transform = DDM_transform %>% select(ID,date,DDM_val)\n",
    "DDM_transform['Measure'] = 'DDM'\n",
    "DDM_transform = DDM_transform %>%\n",
    "    rename ( \n",
    "        Numeric.Result = DDM_val\n",
    "    )\n",
    "\n",
    "eGFR_transform$eGFR_val <- rescale(eGFR_transform$eGFR_val)\n",
    "eGFR_transform = eGFR_transform %>% select(ID,date,eGFR_val)\n",
    "eGFR_transform['Measure'] = 'eGFR'\n",
    "eGFR_transform = eGFR_transform %>%\n",
    "    rename ( \n",
    "        Numeric.Result = eGFR_val\n",
    "    )\n",
    "\n",
    "FER_transform$FER_val <- rescale(FER_transform$FER_val)\n",
    "FER_transform = FER_transform %>% select(ID,date,FER_val)\n",
    "FER_transform['Measure'] = 'FER'\n",
    "FER_transform = FER_transform %>%\n",
    "    rename ( \n",
    "        Numeric.Result = FER_val\n",
    "    )\n",
    "\n",
    "fib_transform$fib_val <- rescale(fib_transform$fib_val)\n",
    "fib_transform = fib_transform %>% select(ID,date,fib_val)\n",
    "fib_transform['Measure'] = 'fib'\n",
    "fib_transform = fib_transform %>%\n",
    "    rename ( \n",
    "        Numeric.Result = fib_val\n",
    "    )\n",
    "\n",
    "Glucose_transform$Glucose_val <- rescale(Glucose_transform$Glucose_val)\n",
    "Glucose_transform = Glucose_transform %>% select(ID,date,Glucose_val)\n",
    "Glucose_transform['Measure'] = 'Glucose'\n",
    "Glucose_transform = Glucose_transform %>%\n",
    "    rename ( \n",
    "        Numeric.Result = Glucose_val\n",
    "    )\n",
    "\n",
    "HB_transform$HB_val <- rescale(HB_transform$HB_val)\n",
    "HB_transform = HB_transform %>% select(ID,date,HB_val)\n",
    "HB_transform['Measure'] = 'HB'\n",
    "HB_transform = HB_transform %>%\n",
    "    rename ( \n",
    "        Numeric.Result = HB_val\n",
    "    )\n",
    "\n",
    "ClotAPTT_transform$APTT_val <- rescale(ClotAPTT_transform$APTT_val)\n",
    "ClotAPTT_transform = ClotAPTT_transform %>% select(ID,date,APTT_val)\n",
    "ClotAPTT_transform['Measure'] = 'APTT'\n",
    "ClotAPTT_transform = ClotAPTT_transform %>%\n",
    "    rename ( \n",
    "        Numeric.Result = APTT_val\n",
    "    )\n",
    "\n",
    "ClotPT_transform$PT_val <- rescale(ClotPT_transform$PT_val)\n",
    "ClotPT_transform = ClotPT_transform %>% select(ID,date,PT_val)\n",
    "ClotPT_transform['Measure'] = 'PT'\n",
    "ClotPT_transform = ClotPT_transform %>%\n",
    "    rename ( \n",
    "        Numeric.Result = PT_val\n",
    "    )\n",
    "\n",
    "CO2_transform$CO2_val <- rescale(CO2_transform$CO2_val)\n",
    "CO2_transform = CO2_transform %>% select(ID,date,CO2_val)\n",
    "CO2_transform['Measure'] = 'CO2'\n",
    "CO2_transform = CO2_transform %>%\n",
    "    rename ( \n",
    "        Numeric.Result = CO2_val\n",
    "    )\n",
    "\n",
    "O2_transform$O2_val <- rescale(O2_transform$O2_val)\n",
    "O2_transform = O2_transform %>% select(ID,date,O2_val)\n",
    "O2_transform['Measure'] = 'O2'\n",
    "O2_transform = O2_transform %>%\n",
    "    rename ( \n",
    "        Numeric.Result = O2_val\n",
    "    )\n",
    "\n",
    "FBCLymph_transform$Lymphocytes <- rescale(FBCLymph_transform$Lymphocytes)\n",
    "FBCLymph_transform = FBCLymph_transform %>% select(ID,date,Lymphocytes)\n",
    "FBCLymph_transform['Measure'] = 'Lymphocytes'\n",
    "FBCLymph_transform = FBCLymph_transform %>%\n",
    "    rename ( \n",
    "        Numeric.Result = Lymphocytes\n",
    "    )\n",
    "\n",
    "FBCNeutr_transform$Neutrophils <- rescale(FBCNeutr_transform$Neutrophils)\n",
    "FBCNeutr_transform = FBCNeutr_transform %>% select(ID,date,Neutrophils)\n",
    "FBCNeutr_transform['Measure'] = 'Neutrophils'\n",
    "FBCNeutr_transform = FBCNeutr_transform %>%\n",
    "    rename ( \n",
    "        Numeric.Result = Neutrophils\n",
    "    )\n",
    "\n",
    "FBCNLR_transform$NLR_val <- rescale(FBCNLR_transform$NLR_val)\n",
    "FBCNLR_transform = FBCNLR_transform %>% select(ID,date,NLR_val)\n",
    "FBCNLR_transform['Measure'] = 'NLR'\n",
    "FBCNLR_transform = FBCNLR_transform %>%\n",
    "    rename ( \n",
    "        Numeric.Result = NLR_val\n",
    "    )\n",
    "\n",
    "FBCWCC_transform$WCC <- rescale(FBCWCC_transform$WCC)\n",
    "FBCWCC_transform = FBCWCC_transform %>% select(ID,date,WCC)\n",
    "FBCWCC_transform['Measure'] = 'WCC'\n",
    "FBCWCC_transform = FBCWCC_transform %>%\n",
    "    rename ( \n",
    "        Numeric.Result = WCC\n",
    "    )\n",
    "\n",
    "HBA1c_transform$HBA1c_val <- rescale(HBA1c_transform$HBA1c_val)\n",
    "HBA1c_transform = HBA1c_transform %>% select(ID,date,HBA1c_val)\n",
    "HBA1c_transform['Measure'] = 'HBA1c'\n",
    "HBA1c_transform = HBA1c_transform %>%\n",
    "    rename ( \n",
    "        Numeric.Result = HBA1c_val\n",
    "    )\n",
    "\n",
    "poctpH_transform$poctpH_val <- rescale(poctpH_transform$poctpH_val)\n",
    "poctpH_transform = poctpH_transform %>% select(ID,date,poctpH_val)\n",
    "poctpH_transform['Measure'] = 'poctpH'\n",
    "poctpH_transform$date = as.Date(poctpH$date, format=\"%d/%m/%Y\")\n",
    "poctpH_transform = poctpH_transform %>%\n",
    "    rename ( \n",
    "        Numeric.Result = poctpH_val\n",
    "    )\n",
    "\n",
    "\n",
    "poctLAC_transform$poctLAC_val <- rescale(poctLAC_transform$poctLAC_val)\n",
    "poctLAC_transform = poctLAC_transform %>% select(ID,date,poctLAC_val)\n",
    "poctLAC_transform['Measure'] = 'poctLAC'\n",
    "poctLAC_transform = poctLAC_transform %>%\n",
    "    rename ( \n",
    "        Numeric.Result = poctLAC_val\n",
    "    )\n",
    "\n",
    "LDH_transform$LDH_val <- rescale(LDH_transform$LDH_val)\n",
    "LDH_transform = LDH_transform %>% select(ID,date,LDH_val)\n",
    "LDH_transform['Measure'] = 'LDH'\n",
    "LDH_transform = LDH_transform %>%\n",
    "    rename ( \n",
    "        Numeric.Result = LDH_val\n",
    "    )\n",
    "\n",
    "PCT_transform$PCT_val <- rescale(PCT_transform$PCT_val)\n",
    "PCT_transform = PCT_transform %>% select(ID,date,PCT_val)\n",
    "PCT_transform['Measure'] = 'PCT'\n",
    "PCT_transform = PCT_transform %>%\n",
    "    rename ( \n",
    "        Numeric.Result = PCT_val\n",
    "    )\n",
    "\n",
    "PLT_transform$PLT_val <- rescale(PLT_transform$PLT_val)\n",
    "PLT_transform = PLT_transform %>% select(ID,date,PLT_val)\n",
    "PLT_transform['Measure'] = 'PLT'\n",
    "PLT_transform = PLT_transform %>%\n",
    "    rename ( \n",
    "        Numeric.Result = PLT_val\n",
    "    )\n",
    "\n",
    "trig_transform$trig_val <- rescale(trig_transform$trig_val)\n",
    "trig_transform = trig_transform %>% select(ID,date,trig_val)\n",
    "trig_transform['Measure'] = 'trig'\n",
    "trig_transform = trig_transform %>%\n",
    "    rename ( \n",
    "        Numeric.Result = trig_val\n",
    "    )\n",
    "\n",
    "trop_transform$trop_val <- rescale(trop_transform$trop_val)\n",
    "trop_transform = trop_transform %>% select(ID,date,trop_val)\n",
    "trop_transform['Measure'] = 'trop'\n",
    "trop_transform = trop_transform %>%\n",
    "    rename ( \n",
    "        Numeric.Result = trop_val\n",
    "    )\n",
    "\n"
   ]
  },
  {
   "cell_type": "markdown",
   "metadata": {},
   "source": [
    "### Merge tables"
   ]
  },
  {
   "cell_type": "code",
   "execution_count": null,
   "metadata": {},
   "outputs": [],
   "source": [
    "total <- rbind(BE_transform,BNP_transform,CRP_transform,DDM_transform,eGFR_transform,FER_transform,fib_transform,Glucose_transform,HB_transform,ClotAPTT_transform,ClotPT_transform,CO2_transform,O2_transform,FBCLymph_transform,FBCNeutr_transform,FBCNLR_transform,FBCWCC_transform,HBA1c_transform,poctpH_transform,poctLAC_transform,LDH_transform,PCT_transform,PLT_transform,trig_transform,trop_transform)\n",
    "total$Measure <- as.factor(total$Measure)"
   ]
  },
  {
   "cell_type": "markdown",
   "metadata": {},
   "source": [
    "## Demographics Table\n",
    "Age and gender for every individual"
   ]
  },
  {
   "cell_type": "code",
   "execution_count": null,
   "metadata": {},
   "outputs": [],
   "source": [
    "dem = Vir %>%\n",
    "  distinct(ID, .keep_all = TRUE)\n",
    "dem = dem %>%\n",
    "  select(ID,Gender,Age)"
   ]
  },
  {
   "cell_type": "code",
   "execution_count": null,
   "metadata": {},
   "outputs": [],
   "source": []
  },
  {
   "cell_type": "markdown",
   "metadata": {},
   "source": [
    "## Individual Patient Visualisation\n",
    "To show individual patient data, please use this function, of the form \n",
    "\n",
    "    show_patient_info(patientID)"
   ]
  },
  {
   "cell_type": "code",
   "execution_count": null,
   "metadata": {},
   "outputs": [],
   "source": [
    "show_patient_viz <- function(patientID) {\n",
    "  val_outcome = subset(dem, ID==patientID)[1,]\n",
    "  gender = val_outcome$Gender\n",
    "  age = val_outcome$Age\n",
    "  date = (total %>% filter(ID==patientID))[1,]$date\n",
    "  p <- ( ggplot() + \n",
    "           ggtitle(paste(\"Patient\",patientID,\"summary\")) + \n",
    "           labs(subtitle=paste(\"Gender:\",val_outcome$Gender,\"Age\",val_outcome$Age)) +\n",
    "           geom_tile(data=total %>% filter(ID==patientID), mapping=aes(date, Measure, fill= Numeric.Result)) + \n",
    "           scale_fill_viridis_c(na.value = \"grey50\",option = \"plasma\")+\n",
    "           scale_y_discrete(drop=FALSE)\n",
    "  )\n",
    "  # Plot Covid Positive test\n",
    "  if(length((CovidCT %>% filter(CovidCT$ID==patientID))$date) > 0){\n",
    "    if(!is.null((CovidCT %>% filter(CovidCT$ID==patientID))$date) && !is.na((CovidCT %>% filter(CovidCT$ID==patientID))$date)){\n",
    "      positiveDate = (CovidCT %>% filter(CovidCT$ID==patientID))[1,]$date\n",
    "      p = p + geom_text(data= (CovidCT %>% filter(CovidCT$ID==patientID))[1,], mapping=aes(x=date,y=1,label=\"Positive\"),colour=\"red\",show.legend = FALSE) +\n",
    "        geom_vline(data= (CovidCT %>% filter(CovidCT$ID==patientID))[1,], mapping=aes(xintercept = date, colour=\"red\"),show.legend = FALSE)\n",
    "    }\n",
    "  }\n",
    "  # Plot hospital admission\n",
    "  if(length((totalOutcomes %>% filter(totalOutcomes$ID==patientID))$admissionDate) > 0){\n",
    "    if(!is.null((totalOutcomes %>% filter(totalOutcomes$ID==patientID))$admissionDate) && !is.na((totalOutcomes %>% filter(totalOutcomes$ID==patientID))$admissionDate)){\n",
    "      for(val2 in 1:length(totalOutcomes %>% filter(totalOutcomes$ID==patientID))){\n",
    "        admissionDate = (totalOutcomes %>% filter(totalOutcomes$ID==patientID))[val2,]$admissionDate\n",
    "        p = p + geom_text(data= (totalOutcomes %>% filter(totalOutcomes$ID==patientID))[val2,], mapping=aes(x=admissionDate,y=2,label=\"Admission\"),colour=\"blue\",show.legend = FALSE) + \n",
    "        geom_vline(xintercept = admissionDate, colour=\"blue\",show.legend = FALSE)\n",
    "      }\n",
    "    }\n",
    "  }\n",
    "  # Plot ICU admission\n",
    "  if(length((totalOutcomes %>% filter(totalOutcomes$ID==patientID))$ITU_Start) > 0){\n",
    "    if(!is.null((totalOutcomes %>% filter(totalOutcomes$ID==patientID))$ITU_Start) && !is.na((totalOutcomes %>% filter(totalOutcomes$ID==patientID))$ITU_Start)){\n",
    "      for(val2 in 1:length(totalOutcomes %>% filter(totalOutcomes$ID==patientID))){\n",
    "        ITU_Start = (totalOutcomes %>% filter(totalOutcomes$ID==patientID))[val2,]$ITU_Start\n",
    "        p = p + geom_text(data= (totalOutcomes %>% filter(totalOutcomes$ID==patientID))[val2,], mapping=aes(x=ITU_Start,y=3,label=\"ICU Start\"),colour=\"blue\",show.legend = FALSE) + \n",
    "        geom_vline(xintercept = ITU_Start, colour=\"blue\",show.legend = FALSE)\n",
    "      }\n",
    "    }\n",
    "  }\n",
    "  # Plot ICU discharge\n",
    "  if(length((totalOutcomes %>% filter(totalOutcomes$ID==patientID))$ITU_End) > 0){\n",
    "    if(!is.null((totalOutcomes %>% filter(totalOutcomes$ID==patientID))$ITU_End) && !is.na((totalOutcomes %>% filter(totalOutcomes$ID==patientID))$ITU_End)){\n",
    "      for(val2 in 1:length(totalOutcomes %>% filter(totalOutcomes$ID==patientID))){\n",
    "        ITU_End = (totalOutcomes %>% filter(totalOutcomes$ID==patientID))[val2,]$ITU_End\n",
    "        p = p + geom_text(data= (totalOutcomes %>% filter(totalOutcomes$ID==patientID))[val2,], mapping=aes(x=ITU_End,y=4,label=\"ICU End\"),colour=\"blue\",show.legend = FALSE) + \n",
    "        geom_vline(xintercept = ITU_End, colour=\"blue\",show.legend = FALSE)\n",
    "      }\n",
    "    }\n",
    "  }\n",
    "  # Plot date of death\n",
    "  if(length((totalOutcomes %>% filter(totalOutcomes$ID==patientID))$deathDate) > 0){\n",
    "    if(!is.na((totalOutcomes %>% filter(totalOutcomes$ID==patientID))$deathDate)){\n",
    "      deathDate = (totalOutcomes %>% filter(totalOutcomes$ID==patientID))[1,]$deathDate\n",
    "      p = p + geom_text(data= (totalOutcomes %>% filter(totalOutcomes$ID==patientID))[1,], mapping=aes(x=deathDate,y=5,label=\"Death\"),colour=\"red\",show.legend = FALSE) +\n",
    "      geom_vline(xintercept = deathDate, colour=\"red\",show.legend = FALSE)\n",
    "    }else{\n",
    "      for(val2 in 1:length(totalOutcomes %>% filter(totalOutcomes$ID==patientID))){\n",
    "        dischargeDate = (totalOutcomes %>% filter(totalOutcomes$ID==patientID))[val2,]$dischargeDate\n",
    "        # Plot discharge\n",
    "        p = p + geom_text(data= (totalOutcomes %>% filter(totalOutcomes$ID==patientID))[val2,], mapping=aes(x=dischargeDate,y=6,label=\"Discharged\"),colour=\"green\",show.legend = FALSE) +\n",
    "        geom_vline(xintercept = dischargeDate, colour=\"green\",show.legend = FALSE)\n",
    "      }\n",
    "    }\n",
    "  }\n",
    "  \n",
    "  #fig <- ggplotly(p)\n",
    "  display_markdown(paste(\"#### Visualisation\"))\n",
    "  display(p)\n",
    "}\n"
   ]
  },
  {
   "cell_type": "code",
   "execution_count": null,
   "metadata": {},
   "outputs": [],
   "source": [
    "total_outcome_info <- function(patientID) {\n",
    "    display_markdown(paste(\"#### Outcomes\"))\n",
    "    display(totalOutcomes[totalOutcomes$ID==patientID,])\n",
    "}     "
   ]
  },
  {
   "cell_type": "code",
   "execution_count": null,
   "metadata": {},
   "outputs": [],
   "source": [
    "vir_info <- function(patientID) {\n",
    "    display_markdown(paste(\"#### Virology\"))\n",
    "    info <- filter(Vir,Vir$ID==patientID)\n",
    "    info <- info %>% select(ID,date,SARS.CoV.2.RNA,Adenovirus,Human_Metapneumovirus,Influenza_A,Influenza_B,Parainfluenza_Type_1,Parainfluenza_Type_2,Parainfluenza_Type_3,Parainfluenza_Type_4,Respiratory_Syncytial_Virus,Rhinovirus)\n",
    "    display(info)\n",
    "}"
   ]
  },
  {
   "cell_type": "code",
   "execution_count": null,
   "metadata": {},
   "outputs": [],
   "source": [
    "bc_info <- function(patientID) {\n",
    "    display_markdown(paste(\"#### Blood Culture\"))\n",
    "    info <- filter(BC,BC$ID==patientID)\n",
    "    display(info)\n",
    "}"
   ]
  },
  {
   "cell_type": "code",
   "execution_count": null,
   "metadata": {},
   "outputs": [],
   "source": [
    "avonCap_info <- function(patientID) {\n",
    "    info <- filter(AvonCap,AvonCap$ID==patientID)\n",
    "    if(length(info[,1]) > 0){\n",
    "        display_markdown(paste(\"#### AvonCap\"))\n",
    "        info <- info %>% select(ID,Community_Acquired_Pneumonia_radiologically_confirmed, Community_Acquired_Pneumonia_clinically_confirmed, Community_Acquired_Pneumonia_no_radiology_performed, Acute_bronchitis, Exacerbation_of_COPD, Empyema_lung_abscess, LRTI_not_further_specified, Congestive_heart_failure, Non_infectious_process, Non_LRTD_infection_related_diagnosis, Other_LRTI_specified, NYHA_Heart_failure, CRB65_Score, NEWS2_Score, Respiratory_Disease_None, COPD, Asthma, Bronchiectasis, Pulmonary_Fibrosis_Interstitial_Lung_Disease, Respiratory_Disease_other, Chronic_heart_disease_none, Hypertension, Atrial_Fibrillation, Ischaemic_heart_disease, Heart_failure, Chronic_heart_disease_other, Chronic_Kidney_Disease, Liver_disease, Diabetes, Cognitive_Impairment_Dementia_none, Dementia, Cognitive_impairment, CVA_Stroke, TIA_mini_stroke, Hemiplegiahemiplegia_or_paraplegia, Peripheral_vascular_disease, Immunosuppressive_medication, Immunodeficiency, Connective_tissue_disease, HIV_negative_or_not_tested, HIV_positive, AIDS, Solid_organ_cancer_malignancy, Haematological_malignancy_leukaemia_none, Leukaemia, Lymphoma, Organ_transplantation, Pregnancy_post_partum, Gastric_Duodenal_Ulcer_disease, Rockwood_frailty_score, Radiology_result)\n",
    "        info <- as.data.frame(t(info))\n",
    "        display(info)\n",
    "    }\n",
    "}"
   ]
  },
  {
   "cell_type": "code",
   "execution_count": null,
   "metadata": {},
   "outputs": [],
   "source": [
    "\n",
    "for (i in 1:10){\n",
    "    display_markdown(paste(\"### Visualisation of patient\", i))\n",
    "    total_outcome_info(i)\n",
    "    bc_info(i)\n",
    "    vir_info(i)\n",
    "    avonCap_info(i)\n",
    "    suppressWarnings(show_patient_viz(i))\n",
    "}\n"
   ]
  },
  {
   "cell_type": "markdown",
   "metadata": {},
   "source": [
    "```{r cars-plot, dev='png', fig.show='hide'}\n",
    "plot(cars)\n",
    "```"
   ]
  },
  {
   "cell_type": "markdown",
   "metadata": {},
   "source": [
    "![A nice plot.](`r knitr::fig_chunk('cars-plot', 'png')`)"
   ]
  },
  {
   "cell_type": "code",
   "execution_count": null,
   "metadata": {},
   "outputs": [],
   "source": [
    "is((CovidCT %>% filter(CovidCT$ID==3))$date)[1]"
   ]
  },
  {
   "cell_type": "code",
   "execution_count": null,
   "metadata": {},
   "outputs": [],
   "source": []
  }
 ],
 "metadata": {
  "kernelspec": {
   "display_name": "R",
   "language": "R",
   "name": "ir"
  },
  "language_info": {
   "codemirror_mode": "r",
   "file_extension": ".r",
   "mimetype": "text/x-r-source",
   "name": "R",
   "pygments_lexer": "r",
   "version": "3.6.1"
  }
 },
 "nbformat": 4,
 "nbformat_minor": 4
}
