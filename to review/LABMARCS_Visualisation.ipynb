{
 "cells": [
  {
   "cell_type": "markdown",
   "metadata": {},
   "source": [
    "# LABMARCS Visualisation\n",
    "## Libraries"
   ]
  },
  {
   "cell_type": "code",
   "execution_count": 1,
   "metadata": {},
   "outputs": [
    {
     "name": "stderr",
     "output_type": "stream",
     "text": [
      "Registered S3 methods overwritten by 'ggplot2':\n",
      "  method         from \n",
      "  [.quosures     rlang\n",
      "  c.quosures     rlang\n",
      "  print.quosures rlang\n"
     ]
    },
    {
     "ename": "ERROR",
     "evalue": "Error in library(hrbrthemes): there is no package called 'hrbrthemes'\n",
     "output_type": "error",
     "traceback": [
      "Error in library(hrbrthemes): there is no package called 'hrbrthemes'\nTraceback:\n",
      "1. library(hrbrthemes)"
     ]
    }
   ],
   "source": [
    "library(ggplot2)\n",
    "library(hrbrthemes)\n",
    "library(tidyverse)\n",
    "library(plotly)\n",
    "library(BBmisc)\n",
    "library(scales)\n",
    "library(dplyr)\n",
    "library(naniar)\n",
    "library(gridExtra)\n",
    "library(knitr)"
   ]
  },
  {
   "cell_type": "code",
   "execution_count": 3,
   "metadata": {},
   "outputs": [],
   "source": [
    "setwd('..')"
   ]
  },
  {
   "cell_type": "markdown",
   "metadata": {},
   "source": [
    "## Load in data files\n",
    "### Outcome data\n",
    "#### NBT Outcomes"
   ]
  },
  {
   "cell_type": "code",
   "execution_count": 190,
   "metadata": {},
   "outputs": [],
   "source": [
    "NBT_outcomes <- read.csv(file(\"NBT_outcomes.csv\"))\n",
    "NBT_outcomes = NBT_outcomes %>% \n",
    "  rename(\n",
    "    admissionDate = admission_date,\n",
    "  )\n",
    "NBT_outcomes$admissionDate = as.Date(NBT_outcomes$admissionDate, format=\"%d/%m/%Y\")\n",
    "NBT_outcomes = NBT_outcomes %>% \n",
    "  rename(\n",
    "    dischargeDate = discharge_date,\n",
    "  )\n",
    "NBT_outcomes$dischargeDate = as.Date(NBT_outcomes$dischargeDate, format=\"%d/%m/%Y\")\n",
    "NBT_outcomes_deaths = NBT_outcomes %>%\n",
    "  filter(DischargeOutcomeDesc == \"Patient Died\")\n",
    "NBT_outcomes_deaths$deathDate = NBT_outcomes_deaths$dischargeDate\n",
    "NBT_outcomes <- merge(NBT_outcomes,NBT_outcomes_deaths,all=TRUE)\n",
    "NBT_outcomes$ITU_Start = as.Date(NBT_outcomes$ITU_Start, format=\"%d/%m/%Y\")\n",
    "NBT_outcomes$ITU_End = as.Date(NBT_outcomes$ITU_End, format=\"%d/%m/%Y\")\n",
    "NBT_outcomes2 = NBT_outcomes %>% select(ID,admissionDate,dischargeDate,ITU_Start,ITU_End,deathDate)"
   ]
  },
  {
   "cell_type": "markdown",
   "metadata": {},
   "source": [
    "#### UHB Outcomes"
   ]
  },
  {
   "cell_type": "code",
   "execution_count": 191,
   "metadata": {},
   "outputs": [],
   "source": [
    "UHB_outcomes1 <- read.csv(file(\"UHB_outcomes1.csv\"))\n",
    "UHB_outcomes1 = UHB_outcomes1 %>% \n",
    "  rename(\n",
    "    admissionDate = attend_date,\n",
    "  )\n",
    "UHB_outcomes1$admissionDate = as.Date(UHB_outcomes1$admissionDate, format=\"%d/%m/%Y\")\n",
    "UHB_outcomes1$dischargeDate = as.Date(UHB_outcomes1$admissionDate + as.integer(UHB_outcomes1$hospital_length_of_stay))\n",
    "UHB_outcomes1 = UHB_outcomes1 %>% \n",
    "  rename(\n",
    "    deathDate = fu_death_date,\n",
    "  )\n",
    "UHB_outcomes1$deathDate = as.Date(UHB_outcomes1$deathDate, format=\"%d/%m/%Y\")\n",
    "UHB_outcomes1$ITU_Start <- as.Date(NA)\n",
    "UHB_outcomes1$ITU_End <- as.Date(NA)\n",
    "UHB_outcomes12 = UHB_outcomes1 %>% select(ID,admissionDate,dischargeDate,ITU_Start,ITU_End,deathDate)\n",
    "\n",
    "UHB_outcomes2 <- read.csv(file(\"UHB_outcomes2.csv\"))\n",
    "UHB_outcomes2 = UHB_outcomes2 %>% \n",
    "  rename(\n",
    "    admissionDate = attend_dte,\n",
    "  )\n",
    "UHB_outcomes2$admissionDate = as.Date(UHB_outcomes2$admissionDate, format=\"%d/%m/%Y\")\n",
    "UHB_outcomes2 = UHB_outcomes2 %>% \n",
    "  rename(\n",
    "    dischargeDate = outcome_dte,\n",
    "  )\n",
    "UHB_outcomes2$dischargeDate = as.Date(UHB_outcomes2$dischargeDate, format=\"%d/%m/%Y\")\n",
    "UHB_outcomes2_deaths = UHB_outcomes2 %>%\n",
    "  filter(outcome == 3)\n",
    "UHB_outcomes2_deaths$deathDate = UHB_outcomes2_deaths$dischargeDate\n",
    "UHB_outcomes2 <- merge(UHB_outcomes2,UHB_outcomes2_deaths,all=TRUE)\n",
    "UHB_outcomes2$ITU_Start <- as.Date(NA)\n",
    "UHB_outcomes2$ITU_End <- as.Date(NA)\n",
    "UHB_outcomes22 = UHB_outcomes2 %>% select(ID,admissionDate,dischargeDate,ITU_Start,ITU_End,deathDate)"
   ]
  },
  {
   "cell_type": "markdown",
   "metadata": {},
   "source": [
    "#### Weston Outcomes"
   ]
  },
  {
   "cell_type": "code",
   "execution_count": 192,
   "metadata": {},
   "outputs": [],
   "source": [
    "WestonOutcomes <- read.csv(file(\"Weston Outcomes.csv\"))\n",
    "WestonOutcomes = WestonOutcomes %>% \n",
    "  rename(\n",
    "    admissionDate = Admission.date,\n",
    "  )\n",
    "WestonOutcomes$admissionDate = as.Date(WestonOutcomes$admissionDate, format=\"%d/%m/%Y\")\n",
    "WestonOutcomes = WestonOutcomes %>% \n",
    "  rename(\n",
    "    dischargeDate = Discharge.date,\n",
    "  )\n",
    "WestonOutcomes$dischargeDate = as.Date(WestonOutcomes$dischargeDate, format=\"%d/%m/%Y\")\n",
    "WestonOutcomes = WestonOutcomes %>% \n",
    "  rename(\n",
    "    ITU_Start = ICU.Admission.Date\n",
    "  )\n",
    "WestonOutcomes$ITU_Start = as.Date(WestonOutcomes$ITU_Start, format=\"%d/%m/%Y\")\n",
    "WestonOutcomes = WestonOutcomes %>% \n",
    "  rename(\n",
    "    ITU_End = ICU.Discharge.Date\n",
    "  )\n",
    "WestonOutcomes$ITU_End = as.Date(WestonOutcomes$ITU_End, format=\"%d/%m/%Y\")\n",
    "WestonOutcomes = WestonOutcomes %>% \n",
    "  rename(\n",
    "    deathDate = Date.of.Death\n",
    "  )\n",
    "WestonOutcomes$deathDate = as.Date(WestonOutcomes$deathDate, format=\"%d/%m/%Y\")\n",
    "WestonOutcomes2 = WestonOutcomes %>% select(ID,admissionDate,dischargeDate,ITU_Start,ITU_End,deathDate)"
   ]
  },
  {
   "cell_type": "markdown",
   "metadata": {},
   "source": [
    "### Merge Outcome data"
   ]
  },
  {
   "cell_type": "code",
   "execution_count": 193,
   "metadata": {},
   "outputs": [],
   "source": [
    "# Merge outcomes data\n",
    "totalOutcomes <- rbind(UHB_outcomes12,UHB_outcomes22,NBT_outcomes2,WestonOutcomes2) # NBT Outcomes must be excluded as inconsistent\n",
    "totalOutcomes$deathDate = as.Date(totalOutcomes$deathDate, format=\"%d/%m/%Y\")\n",
    "totalOutcomes$ITU_Start = as.Date(totalOutcomes$ITU_Start, format=\"%d/%m/%Y\")\n",
    "totalOutcomes$ITU_End = as.Date(totalOutcomes$ITU_End, format=\"%d/%m/%Y\")\n",
    "totalOutcomes$dischargeDate = as.Date(totalOutcomes$dischargeDate, format=\"%d/%m/%Y\")"
   ]
  },
  {
   "cell_type": "markdown",
   "metadata": {},
   "source": [
    "### Load variable data\n",
    "#### BE - Bicarbonate Excess"
   ]
  },
  {
   "cell_type": "code",
   "execution_count": 194,
   "metadata": {},
   "outputs": [],
   "source": [
    "BE <- read.csv(file(\"BE.csv\"))\n",
    "BE['Measure']='BE'\n",
    "BE$Date.Booked.In = as.Date(BE$Date.Booked.In, format=\"%d/%m/%Y\")\n",
    "BE = BE %>% \n",
    "  rename(\n",
    "    date = Date.Booked.In,\n",
    "  )\n",
    "BE2 = BE %>% select(ID,date,Measure,Numeric.Result)\n",
    "BE2R = BE2\n",
    "BE2$Numeric.Result = rescale(BE2$Numeric.Result)"
   ]
  },
  {
   "cell_type": "markdown",
   "metadata": {},
   "source": [
    "#### BNP - B-type natriuretic peptide"
   ]
  },
  {
   "cell_type": "code",
   "execution_count": 195,
   "metadata": {},
   "outputs": [],
   "source": [
    "BNP <- read.csv(file(\"BNP.csv\"))\n",
    "BNP['Measure']='BNP'\n",
    "BNP$Date.Booked.In = as.Date(BNP$Date.Booked.In, format=\"%d/%m/%Y\")\n",
    "BNP = BNP %>% \n",
    "  rename(\n",
    "    date = Date.Booked.In,\n",
    "  )\n",
    "BNP2 = BNP %>% select(ID,date,Measure,Numeric.Result)\n",
    "BNP2R = BNP2\n",
    "BNP2$Numeric.Result = rescale(BNP2$Numeric.Result)"
   ]
  },
  {
   "cell_type": "markdown",
   "metadata": {},
   "source": [
    "#### CRP - C-Reactive Protein"
   ]
  },
  {
   "cell_type": "code",
   "execution_count": 196,
   "metadata": {},
   "outputs": [],
   "source": [
    "CRP <- read.csv(file(\"CRP.csv\"))\n",
    "CRP['Measure']='CRP'\n",
    "CRP$Date.Booked.In = as.Date(CRP$Date.Booked.In, format=\"%d/%m/%Y\")\n",
    "CRP = CRP %>% \n",
    "  rename(\n",
    "    date = Date.Booked.In,\n",
    "  )\n",
    "CRP2 = CRP %>% select(ID,date,Measure,Numeric.Result)\n",
    "CRP2R = CRP2\n",
    "CRP2$Numeric.Result = rescale(CRP2$Numeric.Result)"
   ]
  },
  {
   "cell_type": "markdown",
   "metadata": {},
   "source": [
    "#### DDM - D-Dimer "
   ]
  },
  {
   "cell_type": "code",
   "execution_count": 197,
   "metadata": {},
   "outputs": [],
   "source": [
    "DDM <- read.csv(file(\"DDM.csv\"))\n",
    "DDM['Measure']='DDM'\n",
    "DDM$Date.Booked.In = as.Date(DDM$Date.Booked.In, format=\"%d/%m/%Y\")\n",
    "DDM = DDM %>% \n",
    "  rename(\n",
    "    date = Date.Booked.In,\n",
    "  )\n",
    "DDM2 = DDM %>% select(ID,date,Measure,Numeric.Result)\n",
    "DDM2R = DDM2\n",
    "DDM2$Numeric.Result = rescale(DDM2$Numeric.Result)"
   ]
  },
  {
   "cell_type": "markdown",
   "metadata": {},
   "source": [
    "#### eGFR - Estimated Glomerular Filtration Rate"
   ]
  },
  {
   "cell_type": "code",
   "execution_count": 198,
   "metadata": {},
   "outputs": [],
   "source": [
    "eGFR <- read.csv(file(\"eGFR.csv\"))\n",
    "eGFR['Measure']='eGFR'\n",
    "eGFR$Date.Booked.In = as.Date(eGFR$Date.Booked.In, format=\"%d/%m/%Y\")\n",
    "eGFR = eGFR %>% \n",
    "  rename(\n",
    "    date = Date.Booked.In,\n",
    "  )\n",
    "eGFR2 = eGFR %>% select(ID,date,Measure,Numeric.Result)\n",
    "eGFR2R = eGFR2\n",
    "eGFR2$Numeric.Result = rescale(eGFR2$Numeric.Result)"
   ]
  },
  {
   "cell_type": "markdown",
   "metadata": {},
   "source": [
    "#### FER - Ferritin"
   ]
  },
  {
   "cell_type": "code",
   "execution_count": 199,
   "metadata": {},
   "outputs": [],
   "source": [
    "FER <- read.csv(file(\"FER.csv\"))\n",
    "FER['Measure']='FER'\n",
    "FER$Date.Booked.In = as.Date(FER$Date.Booked.In, format=\"%d/%m/%Y\")\n",
    "FER = FER %>% \n",
    "  rename(\n",
    "    date = Date.Booked.In,\n",
    "  )\n",
    "FER2 = FER %>% select(ID,date,Measure,Numeric.Result)\n",
    "FER2R = FER2\n",
    "FER2$Numeric.Result = rescale(FER2$Numeric.Result)"
   ]
  },
  {
   "cell_type": "markdown",
   "metadata": {},
   "source": [
    "#### Fib - Fibrinogen"
   ]
  },
  {
   "cell_type": "code",
   "execution_count": 200,
   "metadata": {},
   "outputs": [],
   "source": [
    "fib <- read.csv(file(\"fib.csv\"))\n",
    "fib['Measure']='fib'\n",
    "fib$Date.Booked.In = as.Date(fib$Date.Booked.In, format=\"%d/%m/%Y\")\n",
    "fib = fib %>% \n",
    "  rename(\n",
    "    date = Date.Booked.In,\n",
    "  )\n",
    "fib2 = fib %>% select(ID,date,Measure,Numeric.Result)\n",
    "fib2R = fib2\n",
    "fib2$Numeric.Result = rescale(fib2$Numeric.Result)"
   ]
  },
  {
   "cell_type": "markdown",
   "metadata": {},
   "source": [
    "#### Glucose"
   ]
  },
  {
   "cell_type": "code",
   "execution_count": 201,
   "metadata": {},
   "outputs": [],
   "source": [
    "Glucose <- read.csv(file(\"Glucose.csv\"))\n",
    "Glucose['Measure']='Glucose'\n",
    "Glucose$Date.Booked.In = as.Date(Glucose$Date.Booked.In, format=\"%d/%m/%Y\")\n",
    "Glucose = Glucose %>% \n",
    "  rename(\n",
    "    date = Date.Booked.In,\n",
    "  )\n",
    "Glucose2 = Glucose %>% select(ID,date,Measure,Numeric.Result)\n",
    "Glucose2R = Glucose2\n",
    "Glucose2$Numeric.Result = rescale(Glucose2$Numeric.Result)"
   ]
  },
  {
   "cell_type": "markdown",
   "metadata": {},
   "source": [
    "#### HB - Hemoglobin"
   ]
  },
  {
   "cell_type": "code",
   "execution_count": 202,
   "metadata": {},
   "outputs": [],
   "source": [
    "HB <- read.csv(file(\"HB.csv\"))\n",
    "HB['Measure']='HB'\n",
    "HB$Date.Booked.In = as.Date(HB$Date.Booked.In, format=\"%d/%m/%Y\")\n",
    "HB = HB %>% \n",
    "  rename(\n",
    "    date = Date.Booked.In,\n",
    "  )\n",
    "HB2 = HB %>% select(ID,date,Measure,Numeric.Result)\n",
    "HB2R = HB2\n",
    "HB2$Numeric.Result = rescale(HB2$Numeric.Result)"
   ]
  },
  {
   "cell_type": "markdown",
   "metadata": {},
   "source": [
    "#### HBA1c - glycated haemoglobin"
   ]
  },
  {
   "cell_type": "code",
   "execution_count": 203,
   "metadata": {},
   "outputs": [],
   "source": [
    "HBA1c <- read.csv(file(\"HBA1c.csv\"))\n",
    "HBA1c['Measure']='HBA1c'\n",
    "HBA1c$Date.Booked.In = as.Date(HBA1c$Date.Booked.In, format=\"%d/%m/%Y\")\n",
    "HBA1c = HBA1c %>% \n",
    "  rename(\n",
    "    date = Date.Booked.In,\n",
    "  )\n",
    "HBA1c2 = HBA1c %>% select(ID,date,Measure,Numeric.Result)\n",
    "HBA1c2R = HBA1c2\n",
    "HBA1c2$Numeric.Result = rescale(HBA1c2$Numeric.Result)"
   ]
  },
  {
   "cell_type": "markdown",
   "metadata": {},
   "source": [
    "#### LDH - Lactate dehydrogenase"
   ]
  },
  {
   "cell_type": "code",
   "execution_count": 204,
   "metadata": {},
   "outputs": [],
   "source": [
    "LDH <- read.csv(file(\"LDH.csv\"))\n",
    "LDH['Measure']='LDH'\n",
    "LDH$Date.Booked.In = as.Date(LDH$Date.Booked.In, format=\"%d/%m/%Y\")\n",
    "LDH = LDH %>% \n",
    "  rename(\n",
    "    date = Date.Booked.In,\n",
    "  )\n",
    "LDH2 = LDH %>% select(ID,date,Measure,Numeric.Result)\n",
    "LDH2R = LDH2\n",
    "LDH2$Numeric.Result = rescale(LDH2$Numeric.Result)\n"
   ]
  },
  {
   "cell_type": "markdown",
   "metadata": {},
   "source": [
    "#### PCT - Procalcitonin "
   ]
  },
  {
   "cell_type": "code",
   "execution_count": 205,
   "metadata": {},
   "outputs": [],
   "source": [
    "PCT <- read.csv(file(\"PCT.csv\"))\n",
    "PCT['Measure']='PCT'\n",
    "PCT$Date.Booked.In = as.Date(PCT$Date.Booked.In, format=\"%d/%m/%Y\")\n",
    "PCT = PCT %>% \n",
    "  rename(\n",
    "    date = Date.Booked.In,\n",
    "  )\n",
    "PCT2 = PCT %>% select(ID,date,Measure,Numeric.Result)\n",
    "PCT2R = PCT2\n",
    "PCT2$Numeric.Result = rescale(PCT2$Numeric.Result)"
   ]
  },
  {
   "cell_type": "markdown",
   "metadata": {},
   "source": [
    "#### PLT - Platelet Count"
   ]
  },
  {
   "cell_type": "code",
   "execution_count": 206,
   "metadata": {},
   "outputs": [],
   "source": [
    "PLT <- read.csv(file(\"PLT.csv\"))\n",
    "PLT['Measure']='PLT'\n",
    "PLT$Date.Booked.In = as.Date(PLT$Date.Booked.In, format=\"%d/%m/%Y\")\n",
    "PLT = PLT %>% \n",
    "  rename(\n",
    "    date = Date.Booked.In,\n",
    "  )\n",
    "PLT2 = PLT %>% select(ID,date,Measure,Numeric.Result)\n",
    "PLT2R = PLT2\n",
    "PLT2$Numeric.Result = rescale(PLT2$Numeric.Result)"
   ]
  },
  {
   "cell_type": "markdown",
   "metadata": {},
   "source": [
    "#### Trig - Triglycerides"
   ]
  },
  {
   "cell_type": "code",
   "execution_count": 207,
   "metadata": {},
   "outputs": [],
   "source": [
    "trig <- read.csv(file(\"trig.csv\"))\n",
    "trig['Measure']='trig'\n",
    "trig$Date.Booked.In = as.Date(trig$Date.Booked.In, format=\"%d/%m/%Y\")\n",
    "trig = trig %>% \n",
    "  rename(\n",
    "    date = Date.Booked.In,\n",
    "  )\n",
    "trig2 = trig %>% select(ID,date,Measure,Numeric.Result)\n",
    "trig2R = trig2\n",
    "trig2$Numeric.Result = rescale(trig2$Numeric.Result)"
   ]
  },
  {
   "cell_type": "markdown",
   "metadata": {},
   "source": [
    "#### Trop - Troponin"
   ]
  },
  {
   "cell_type": "code",
   "execution_count": 208,
   "metadata": {},
   "outputs": [],
   "source": [
    "trop <- read.csv(file(\"trop.csv\"))\n",
    "trop['Measure']='trop'\n",
    "trop$Date.Booked.In = as.Date(trop$Date.Booked.In, format=\"%d/%m/%Y\")\n",
    "trop = trop %>% \n",
    "  rename(\n",
    "    date = Date.Booked.In,\n",
    "  )\n",
    "trop2 = trop %>% select(ID,date,Measure,Numeric.Result)\n",
    "trop2R = trop2\n",
    "trop2$Numeric.Result = rescale(trop2$Numeric.Result)"
   ]
  },
  {
   "cell_type": "markdown",
   "metadata": {},
   "source": [
    "#### Vir - Virology"
   ]
  },
  {
   "cell_type": "code",
   "execution_count": 209,
   "metadata": {},
   "outputs": [],
   "source": [
    "Vir <- read.csv(file(\"Vir.csv\"))\n",
    "Vir['Measure']='Vir'\n",
    "Vir$Sample.Date = as.Date(Vir$Sample.Date, format=\"%d/%m/%Y\")\n",
    "Vir = Vir %>% \n",
    "  rename(\n",
    "    date = Sample.Date,\n",
    "  )"
   ]
  },
  {
   "cell_type": "markdown",
   "metadata": {},
   "source": [
    "#### FBC - Full Blood Count\n",
    "Made up of:\n",
    "* Lymphocytes\n",
    "* Neutrophils\n",
    "* White Cell Count"
   ]
  },
  {
   "cell_type": "code",
   "execution_count": 210,
   "metadata": {},
   "outputs": [],
   "source": [
    "FBC <- read.csv(file(\"FBC.csv\"))\n",
    "FBC['Measure']='FBC'\n",
    "FBC$Date.Booked.In = as.Date(FBC$Date.Booked.In, format=\"%d/%m/%Y\")\n",
    "FBC = FBC %>% \n",
    "  rename(\n",
    "    date = Date.Booked.In,\n",
    "  )"
   ]
  },
  {
   "cell_type": "markdown",
   "metadata": {},
   "source": [
    "Split off Lymphocytes:"
   ]
  },
  {
   "cell_type": "code",
   "execution_count": 211,
   "metadata": {},
   "outputs": [],
   "source": [
    "FBCLymph = FBC %>% select(ID,date,Measure,Result.Lymphocytes)\n",
    "FBCLymph['Measure']='Lymphocytes'\n",
    "FBCLymph = FBCLymph %>% \n",
    "  rename(\n",
    "    Numeric.Result = Result.Lymphocytes,\n",
    "  )\n",
    "FBCLymphR = FBCLymph\n",
    "FBCLymph$Numeric.Result = rescale(FBCLymph$Numeric.Result)"
   ]
  },
  {
   "cell_type": "markdown",
   "metadata": {},
   "source": [
    "Split off Neutrophils:"
   ]
  },
  {
   "cell_type": "code",
   "execution_count": 212,
   "metadata": {},
   "outputs": [],
   "source": [
    "FBCNeutr = FBC %>% select(ID,date,Measure,Result.Neutrophils)\n",
    "FBCNeutr['Measure']='Neutrophils'\n",
    "FBCNeutr = FBCNeutr %>% \n",
    "  rename(\n",
    "    Numeric.Result = Result.Neutrophils,\n",
    "  )\n",
    "FBCNeutrR = FBCNeutr\n",
    "FBCNeutr$Numeric.Result = rescale(FBCNeutr$Numeric.Result)"
   ]
  },
  {
   "cell_type": "markdown",
   "metadata": {},
   "source": [
    "Split off White Cell Count:"
   ]
  },
  {
   "cell_type": "code",
   "execution_count": 213,
   "metadata": {},
   "outputs": [],
   "source": [
    "FBCWCC = FBC %>% select(ID,date,Measure,Result.WCC)\n",
    "FBCWCC['Measure']='WCC'\n",
    "FBCWCC = FBCWCC %>% \n",
    "  rename(\n",
    "    Numeric.Result = Result.WCC,\n",
    "  )\n",
    "FBCWCCR = FBCWCC\n",
    "FBCWCC$Numeric.Result = rescale(FBCWCC$Numeric.Result)"
   ]
  },
  {
   "cell_type": "markdown",
   "metadata": {},
   "source": [
    "Split off Neutrophil to Lymphocyte Ratio"
   ]
  },
  {
   "cell_type": "code",
   "execution_count": 214,
   "metadata": {},
   "outputs": [],
   "source": [
    "FBCNLR = FBC %>% select(ID,date,Measure,NLR)\n",
    "FBCNLR['Measure']='NLR'\n",
    "FBCNLR = FBCNLR %>% \n",
    "  rename(\n",
    "    Numeric.Result = NLR,\n",
    "  )\n",
    "FBCNLRR = FBCNLR\n",
    "FBCNLR$Numeric.Result = rescale(FBCNLR$Numeric.Result)\n"
   ]
  },
  {
   "cell_type": "markdown",
   "metadata": {},
   "source": [
    "#### CovidCT - Cycle Threshold (CT) value of PCR for COVID"
   ]
  },
  {
   "cell_type": "code",
   "execution_count": 215,
   "metadata": {},
   "outputs": [],
   "source": [
    "CovidCT <- read.csv(file(\"CovidCT.csv\"))\n",
    "CovidCT['Measure']='CovidCT'\n",
    "CovidCT$Specimen.Date = as.Date(CovidCT$Specimen.Date, format=\"%d/%m/%Y\")\n",
    "CovidCT = CovidCT %>% \n",
    "  rename(\n",
    "    date = Specimen.Date,\n",
    "  )"
   ]
  },
  {
   "cell_type": "markdown",
   "metadata": {},
   "source": [
    "#### Clot\n",
    "Made up of:\n",
    "* APTT - Activated Partial Thromboplastin Time\n",
    "* PT - Prothrombin Time"
   ]
  },
  {
   "cell_type": "code",
   "execution_count": 216,
   "metadata": {},
   "outputs": [],
   "source": [
    "Clot <- read.csv(file(\"Clot.csv\"))\n",
    "Clot['Measure']='Clot'\n",
    "Clot$Date.Booked.In = as.Date(Clot$Date.Booked.In, format=\"%d/%m/%Y\")\n",
    "Clot = Clot %>% \n",
    "  rename(\n",
    "    date = Date.Booked.In,\n",
    "  )"
   ]
  },
  {
   "cell_type": "markdown",
   "metadata": {},
   "source": [
    "Split off APTT:"
   ]
  },
  {
   "cell_type": "code",
   "execution_count": 217,
   "metadata": {},
   "outputs": [],
   "source": [
    "ClotAPTT = Clot %>% select(ID,date,Measure,APTT)\n",
    "Clot['Measure']='APTT'\n",
    "ClotAPTT = ClotAPTT %>% \n",
    "  rename(\n",
    "    Numeric.Result = APTT,\n",
    "  )\n",
    "ClotAPTTR = ClotAPTT\n",
    "ClotAPTT$Numeric.Result = rescale(ClotAPTT$Numeric.Result)"
   ]
  },
  {
   "cell_type": "markdown",
   "metadata": {},
   "source": [
    "Split off PT:"
   ]
  },
  {
   "cell_type": "code",
   "execution_count": 218,
   "metadata": {},
   "outputs": [],
   "source": [
    "ClotPT = Clot %>% select(ID,date,Measure,PT)\n",
    "Clot['Measure']='PT'\n",
    "ClotPT = ClotPT %>% \n",
    "  rename(\n",
    "    Numeric.Result = PT,\n",
    "  )\n",
    "ClotPTR = ClotPT\n",
    "ClotPT$Numeric.Result = rescale(ClotPT$Numeric.Result)"
   ]
  },
  {
   "cell_type": "markdown",
   "metadata": {},
   "source": [
    "#### Antigen "
   ]
  },
  {
   "cell_type": "code",
   "execution_count": 219,
   "metadata": {},
   "outputs": [],
   "source": [
    "Antigen <- read.csv(file(\"Antigen.csv\"))\n",
    "Antigen = Antigen %>% \n",
    "  rename(\n",
    "    date = Date.of.Specimen,\n",
    "  )"
   ]
  },
  {
   "cell_type": "markdown",
   "metadata": {},
   "source": [
    "#### BC"
   ]
  },
  {
   "cell_type": "code",
   "execution_count": 220,
   "metadata": {},
   "outputs": [],
   "source": [
    "BC <- read.csv(file(\"BC.csv\"))\n",
    "BC['Measure']='BC'\n",
    "BC$Date.of.Specimen = as.Date(BC$Date.of.Specimen, format=\"%d/%m/%Y\")\n",
    "BC = BC %>% \n",
    "  rename(\n",
    "    date = Date.of.Specimen,\n",
    "  )"
   ]
  },
  {
   "cell_type": "markdown",
   "metadata": {},
   "source": [
    "#### Resp"
   ]
  },
  {
   "cell_type": "code",
   "execution_count": 221,
   "metadata": {},
   "outputs": [],
   "source": [
    "Resp <- read.csv(file(\"Resp.csv\"))\n",
    "Resp['Measure']='Resp'\n",
    "Resp$Date.of.Specimen = as.Date(Resp$Date.of.Specimen, format=\"%d/%m/%Y\")\n",
    "Resp = Resp %>% \n",
    "  rename(\n",
    "    date = Date.of.Specimen,\n",
    "  )"
   ]
  },
  {
   "cell_type": "markdown",
   "metadata": {},
   "source": [
    "#### Urine"
   ]
  },
  {
   "cell_type": "code",
   "execution_count": 222,
   "metadata": {},
   "outputs": [],
   "source": [
    "Urine <- read.csv(file(\"Urine.csv\"))\n",
    "Urine['Measure']='Urine'\n",
    "Urine$Date.of.Specimen = as.Date(Urine$Date.of.Specimen, format=\"%d/%m/%Y\")\n",
    "Urine = Urine %>% \n",
    "  rename(\n",
    "    date = Date.of.Specimen,\n",
    "  )"
   ]
  },
  {
   "cell_type": "markdown",
   "metadata": {},
   "source": [
    "#### poctLAC - Point of Care Testing - Lactate"
   ]
  },
  {
   "cell_type": "code",
   "execution_count": 223,
   "metadata": {},
   "outputs": [],
   "source": [
    "poctLAC <- read.csv(file(\"poctLAC.csv\"))\n",
    "poctLAC['Measure']='poctLAC'\n",
    "#Format date\n",
    "poctLAC$Date.of.Specimen = as.Date(poctLAC$Date.of.Specimen, format=\"%d/%m/%Y\")\n",
    "poctLAC = poctLAC %>% \n",
    "  rename(\n",
    "    date = Date.of.Specimen,\n",
    "  )\n",
    "poctLAC = poctLAC %>% \n",
    "  rename(\n",
    "    time = Time.of.Specimen,\n",
    "  )\n",
    "#Combine date and time\n",
    "poctLAC$dateTime = as.POSIXct(paste(poctLAC$date, poctLAC$time), format=\"%Y-%m-%d %H:%M:%S\")\n",
    "# Select relevant variables\n",
    "poctLAC = poctLAC %>% select(ID,date,Measure,Numeric.Result)\n",
    "poctLACR = poctLAC\n",
    "poctLAC$Numeric.Result = rescale(poctLAC$Numeric.Result)"
   ]
  },
  {
   "cell_type": "markdown",
   "metadata": {},
   "source": [
    "#### poctO2 - Point of Care Testing - O2 and CO2\n",
    "Made up of:\n",
    "* O2\n",
    "* CO2"
   ]
  },
  {
   "cell_type": "code",
   "execution_count": 224,
   "metadata": {},
   "outputs": [],
   "source": [
    "poctO2 <- read.csv(file(\"poctO2.csv\"))"
   ]
  },
  {
   "cell_type": "markdown",
   "metadata": {},
   "source": [
    "O2:"
   ]
  },
  {
   "cell_type": "code",
   "execution_count": 225,
   "metadata": {},
   "outputs": [],
   "source": [
    "O2 <- poctO2 %>%\n",
    "  filter(Test.Desc == \"Arterial pO2\")\n",
    "O2['Measure']='O2'\n",
    "O2$Date.of.Specimen = as.Date(O2$Date.of.Specimen, format=\"%d/%m/%Y\")\n",
    "O2 = O2 %>% \n",
    "  rename(\n",
    "    date = Date.of.Specimen,\n",
    "  )\n",
    "O2 = O2 %>% \n",
    "  rename(\n",
    "    time = Time.of.Specimen,\n",
    "  )\n",
    "#Combine date and time\n",
    "O2$dateTime = as.POSIXct(paste(O2$date, O2$time), format=\"%Y-%m-%d %H:%M:%S\")\n",
    "# Select relevant variables\n",
    "O2 = O2 %>% select(ID,date,Measure,Numeric.Result)\n",
    "O2R = O2\n",
    "O2$Numeric.Result = rescale(O2$Numeric.Result)"
   ]
  },
  {
   "cell_type": "markdown",
   "metadata": {},
   "source": [
    "CO2:"
   ]
  },
  {
   "cell_type": "code",
   "execution_count": 226,
   "metadata": {},
   "outputs": [],
   "source": [
    "CO2 <- poctO2 %>%\n",
    "  filter(Test.Desc == \"Arterial pCO2\")\n",
    "CO2['Measure']='CO2'\n",
    "#Format date\n",
    "CO2$Date.of.Specimen = as.Date(CO2$Date.of.Specimen, format=\"%d/%m/%Y\")\n",
    "CO2 = CO2 %>% \n",
    "  rename(\n",
    "    date = Date.of.Specimen,\n",
    "  )\n",
    "CO2 = CO2 %>% \n",
    "  rename(\n",
    "    time = Time.of.Specimen,\n",
    "  )\n",
    "#Combine date and time\n",
    "CO2$dateTime = as.POSIXct(paste(CO2$date, CO2$time), format=\"%Y-%m-%d %H:%M:%S\")\n",
    "# Select relevant variables\n",
    "CO2 = CO2 %>% select(ID,date,Measure,Numeric.Result)\n",
    "CO2R = CO2\n",
    "CO2$Numeric.Result = rescale(CO2$Numeric.Result)"
   ]
  },
  {
   "cell_type": "markdown",
   "metadata": {},
   "source": [
    "#### poctpH - Point of Care Testing - pH"
   ]
  },
  {
   "cell_type": "code",
   "execution_count": 227,
   "metadata": {},
   "outputs": [],
   "source": [
    "poctpH <- read.csv(file(\"poctpH.csv\"))\n",
    "poctpH['Measure']='poctpH'\n",
    "#Format date\n",
    "poctpH$Date.of.Specimen = as.Date(poctpH$Date...Time.of.Specimen, format=\"%d/%m/%Y\")\n",
    "poctpH = poctpH %>% \n",
    "  rename(\n",
    "    date = Date.of.Specimen,\n",
    "  )\n",
    "poctpH = poctpH %>% \n",
    "  rename(\n",
    "    time = Time.of.Specimen,\n",
    "  )\n",
    "#Combine date and time\n",
    "poctpH$dateTime = as.POSIXct(paste(poctpH$date, poctpH$time), format=\"%Y-%m-%d %H:%M:%S\")\n",
    "# Select relevant variables\n",
    "poctpH = poctpH %>% select(ID,date,Measure,Numeric.Result)\n",
    "poctpHR = poctpH\n",
    "poctpH$Numeric.Result = rescale(poctpH$Numeric.Result)\n"
   ]
  },
  {
   "cell_type": "markdown",
   "metadata": {},
   "source": [
    "## Merge Tables"
   ]
  },
  {
   "cell_type": "code",
   "execution_count": 228,
   "metadata": {},
   "outputs": [],
   "source": [
    "total <- rbind(poctpH,poctLAC,O2,CO2,BE2,BNP2,ClotAPTT,ClotPT,CRP2,DDM2,eGFR2,FBCLymph,FBCNeutr,FBCWCC,FBCNLR,FER2,fib2,Glucose2,HB2,HBA1c2,LDH2,PCT2,PLT2,trig2,trop2)\n",
    "total$Measure <- as.factor(total$Measure)"
   ]
  },
  {
   "cell_type": "markdown",
   "metadata": {},
   "source": [
    "## Demographics Table\n",
    "Age and gender for every individual"
   ]
  },
  {
   "cell_type": "code",
   "execution_count": 229,
   "metadata": {},
   "outputs": [],
   "source": [
    "dem = Vir %>%\n",
    "  distinct(ID, .keep_all = TRUE)\n",
    "dem = dem %>%\n",
    "  select(ID,Gender,Age)"
   ]
  },
  {
   "cell_type": "markdown",
   "metadata": {},
   "source": [
    "## Histogram plots of variables with clinical reference ranges"
   ]
  },
  {
   "cell_type": "markdown",
   "metadata": {},
   "source": [
    "### Bicarbonate Excess"
   ]
  },
  {
   "cell_type": "code",
   "execution_count": 230,
   "metadata": {},
   "outputs": [],
   "source": [
    "BE_histogram <- subset(BE, Numeric.Result < 60)"
   ]
  },
  {
   "cell_type": "code",
   "execution_count": 231,
   "metadata": {},
   "outputs": [
    {
     "data": {
      "image/png": "[encoded data removed]",
      "text/plain": [
       "plot without title"
      ]
     },
     "metadata": {},
     "output_type": "display_data"
    }
   ],
   "source": [
    "ggplot(data = BE_histogram, aes(x=Numeric.Result)) +\n",
    "  ggtitle(\"BE distribution\") +\n",
    "  labs(subtitle=\"Reference range = 22-29\") + \n",
    "  geom_histogram(binwidth=1, colour=\"black\", fill=\"white\") +\n",
    "  geom_vline(xintercept=22,colour=\"red\") +\n",
    "  geom_vline(xintercept=29,colour=\"red\")"
   ]
  },
  {
   "cell_type": "markdown",
   "metadata": {},
   "source": [
    "### B-type natriuretic peptide"
   ]
  },
  {
   "cell_type": "markdown",
   "metadata": {},
   "source": [
    "Simple threshold introduced to show clearer histogram"
   ]
  },
  {
   "cell_type": "code",
   "execution_count": 232,
   "metadata": {},
   "outputs": [],
   "source": [
    "BNPHistogram <- subset(BNP, Numeric.Result < 5000)"
   ]
  },
  {
   "cell_type": "code",
   "execution_count": 233,
   "metadata": {},
   "outputs": [
    {
     "data": {
      "image/png": "[encoded data removed]",
      "text/plain": [
       "plot without title"
      ]
     },
     "metadata": {},
     "output_type": "display_data"
    }
   ],
   "source": [
    "# Histograms against thresholds\n",
    "ggplot(data = BNPHistogram, aes(x=Numeric.Result)) +\n",
    "  ggtitle(\"BNP distribution\") +\n",
    "  labs(subtitle=\"Men under 70: <100pg/ml, Women under 70: <150 pg/ml, All 70yr and over: <300 pg/ml\") + \n",
    "  geom_histogram(binwidth=50, colour=\"black\", fill=\"white\") +\n",
    "  geom_vline(xintercept=100,colour=\"red\") +\n",
    "  geom_vline(xintercept=150,colour=\"red\") + \n",
    "  geom_vline(xintercept=300,colour=\"red\")"
   ]
  },
  {
   "cell_type": "markdown",
   "metadata": {},
   "source": [
    "### APTT - Activated Partial Thromboplastin Time"
   ]
  },
  {
   "cell_type": "code",
   "execution_count": 234,
   "metadata": {},
   "outputs": [],
   "source": [
    "ClotAPTTHistogram <- subset(ClotAPTTR, Numeric.Result < 75)"
   ]
  },
  {
   "cell_type": "code",
   "execution_count": 235,
   "metadata": {},
   "outputs": [
    {
     "data": {
      "image/png": "[encoded data removed]",
      "text/plain": [
       "plot without title"
      ]
     },
     "metadata": {},
     "output_type": "display_data"
    }
   ],
   "source": [
    "ggplot(data = ClotAPTTHistogram, aes(x=Numeric.Result)) +\n",
    "  ggtitle(\"APTT distribution\") +\n",
    "  labs(subtitle=\"Reference range = 21-33 seconds\") + \n",
    "  geom_histogram(binwidth=1, colour=\"black\", fill=\"white\") +\n",
    "  geom_vline(xintercept=21,colour=\"red\") +\n",
    "  geom_vline(xintercept=33,colour=\"red\")"
   ]
  },
  {
   "cell_type": "markdown",
   "metadata": {},
   "source": [
    "### PT - Partial Thromboplastin"
   ]
  },
  {
   "cell_type": "code",
   "execution_count": 236,
   "metadata": {},
   "outputs": [],
   "source": [
    "PT_Histogram <- subset(ClotPTR, Numeric.Result < 20)"
   ]
  },
  {
   "cell_type": "code",
   "execution_count": 237,
   "metadata": {},
   "outputs": [
    {
     "data": {
      "image/png": "[encoded data removed]",
      "text/plain": [
       "plot without title"
      ]
     },
     "metadata": {},
     "output_type": "display_data"
    }
   ],
   "source": [
    "ggplot(data = PT_Histogram, aes(x=Numeric.Result)) +\n",
    "  ggtitle(\"PT distribution\") +\n",
    "  labs(subtitle=\"Reference range = 9.5-13 seconds\") + \n",
    "  geom_histogram(binwidth=0.2, colour=\"black\", fill=\"white\") +\n",
    "  geom_vline(xintercept=9.5,colour=\"red\") +\n",
    "  geom_vline(xintercept=13,colour=\"red\")"
   ]
  },
  {
   "cell_type": "markdown",
   "metadata": {},
   "source": [
    "### CO2"
   ]
  },
  {
   "cell_type": "code",
   "execution_count": 238,
   "metadata": {},
   "outputs": [
    {
     "name": "stderr",
     "output_type": "stream",
     "text": [
      "Warning message:\n",
      "\"Removed 8 rows containing non-finite values (stat_bin).\""
     ]
    },
    {
     "data": {
      "image/png": "[encoded data removed]",
      "text/plain": [
       "plot without title"
      ]
     },
     "metadata": {},
     "output_type": "display_data"
    }
   ],
   "source": [
    "ggplot(data = CO2R, aes(x=Numeric.Result)) +\n",
    "  ggtitle(\"CO2 distribution\") +\n",
    "  labs(subtitle=\"Reference range = 4.6-6.4 seconds\") + \n",
    "  geom_histogram(binwidth=0.25, colour=\"black\", fill=\"white\") +\n",
    "  geom_vline(xintercept=4.6,colour=\"red\") +\n",
    "  geom_vline(xintercept=6.4,colour=\"red\")"
   ]
  },
  {
   "cell_type": "markdown",
   "metadata": {},
   "source": [
    "### O2"
   ]
  },
  {
   "cell_type": "code",
   "execution_count": 239,
   "metadata": {},
   "outputs": [],
   "source": [
    "O2_histogram <- subset(O2R, Numeric.Result < 30)"
   ]
  },
  {
   "cell_type": "code",
   "execution_count": 240,
   "metadata": {},
   "outputs": [
    {
     "data": {
      "image/png": "[encoded data removed]",
      "text/plain": [
       "plot without title"
      ]
     },
     "metadata": {},
     "output_type": "display_data"
    }
   ],
   "source": [
    "ggplot(data = O2_histogram, aes(x=Numeric.Result)) +\n",
    "  ggtitle(\"O2 distribution\") +\n",
    "  labs(subtitle=\"Reference range = 11.0-14.4 seconds\") + \n",
    "  geom_histogram(binwidth=0.5, colour=\"black\", fill=\"white\") +\n",
    "  geom_vline(xintercept=11,colour=\"red\") +\n",
    "  geom_vline(xintercept=14.4,colour=\"red\")"
   ]
  },
  {
   "cell_type": "markdown",
   "metadata": {},
   "source": [
    "### C Reactive Protein"
   ]
  },
  {
   "cell_type": "code",
   "execution_count": 241,
   "metadata": {},
   "outputs": [],
   "source": [
    "CRP_histogram <- subset(CRP, Numeric.Result < 400)"
   ]
  },
  {
   "cell_type": "code",
   "execution_count": 242,
   "metadata": {},
   "outputs": [
    {
     "data": {
      "image/png": "[encoded data removed]",
      "text/plain": [
       "plot without title"
      ]
     },
     "metadata": {},
     "output_type": "display_data"
    }
   ],
   "source": [
    "ggplot(data = CRP_histogram, aes(x=Numeric.Result)) +\n",
    "  ggtitle(\"CRP distribution\") +\n",
    "  labs(subtitle=\"Reference range = < 6 mg/L\") + \n",
    "  geom_histogram(binwidth=5, colour=\"black\", fill=\"white\") +\n",
    "  geom_vline(xintercept=6,colour=\"red\")"
   ]
  },
  {
   "cell_type": "markdown",
   "metadata": {},
   "source": [
    "### D-Dimer"
   ]
  },
  {
   "cell_type": "code",
   "execution_count": 243,
   "metadata": {},
   "outputs": [],
   "source": [
    "DDM_histogram <- subset(DDM, Numeric.Result < 20000)"
   ]
  },
  {
   "cell_type": "code",
   "execution_count": 244,
   "metadata": {},
   "outputs": [
    {
     "data": {
      "image/png": "[encoded data removed]",
      "text/plain": [
       "plot without title"
      ]
     },
     "metadata": {},
     "output_type": "display_data"
    }
   ],
   "source": [
    "ggplot(data = DDM_histogram, aes(x=Numeric.Result)) +\n",
    "  ggtitle(\"DDM distribution\") +\n",
    "  labs(subtitle=\"Reference range (ng/ml) = Age < 60: <500, Age 61-70: <600, Age 71-80: <700, Age 81-90: <800, Age > 90: <900\") + \n",
    "  geom_histogram(binwidth=100, colour=\"black\", fill=\"white\") +\n",
    "  geom_vline(xintercept=500,colour=\"red\") + \n",
    "  geom_vline(xintercept=600,colour=\"red\") + \n",
    "  geom_vline(xintercept=700,colour=\"red\") + \n",
    "  geom_vline(xintercept=800,colour=\"red\") + \n",
    "  geom_vline(xintercept=900,colour=\"red\") "
   ]
  },
  {
   "cell_type": "markdown",
   "metadata": {},
   "source": [
    "### eGFR - Estimated Glomerular Filtration Rate\n",
    "\n",
    "----------**Note that values over 90 were listed as \"NA\", this needs fixing**---------"
   ]
  },
  {
   "cell_type": "code",
   "execution_count": 245,
   "metadata": {},
   "outputs": [
    {
     "name": "stderr",
     "output_type": "stream",
     "text": [
      "Warning message:\n",
      "\"Removed 2666 rows containing non-finite values (stat_bin).\""
     ]
    },
    {
     "data": {
      "image/png": "[encoded data removed]",
      "text/plain": [
       "plot without title"
      ]
     },
     "metadata": {},
     "output_type": "display_data"
    }
   ],
   "source": [
    "ggplot(data = eGFR, aes(x=Numeric.Result)) +\n",
    "  ggtitle(\"eGFR distribution\") +\n",
    "  labs(subtitle=\"Reference range = >90\") + \n",
    "  geom_histogram(binwidth=1, colour=\"black\", fill=\"white\") +\n",
    "  geom_vline(xintercept=90,colour=\"red\")"
   ]
  },
  {
   "cell_type": "markdown",
   "metadata": {},
   "source": [
    "### Lymphocytes"
   ]
  },
  {
   "cell_type": "code",
   "execution_count": 246,
   "metadata": {},
   "outputs": [],
   "source": [
    "Lymph_histogram <- subset(FBCLymphR, Numeric.Result < 10)"
   ]
  },
  {
   "cell_type": "code",
   "execution_count": 247,
   "metadata": {},
   "outputs": [
    {
     "data": {
      "image/png": "[encoded data removed]",
      "text/plain": [
       "plot without title"
      ]
     },
     "metadata": {},
     "output_type": "display_data"
    }
   ],
   "source": [
    "ggplot(data = Lymph_histogram, aes(x=Numeric.Result)) +\n",
    "  ggtitle(\"Lymphocytes distribution\") +\n",
    "  labs(subtitle=\"Reference range =  1.5-4.5 10^9/L\") + \n",
    "  geom_histogram(binwidth=0.1, colour=\"black\", fill=\"white\") +\n",
    "  geom_vline(xintercept=1.5,colour=\"red\") + \n",
    "  geom_vline(xintercept=4.5,colour=\"red\")"
   ]
  },
  {
   "cell_type": "markdown",
   "metadata": {},
   "source": [
    "### Neutrophils"
   ]
  },
  {
   "cell_type": "code",
   "execution_count": 248,
   "metadata": {},
   "outputs": [],
   "source": [
    "Neutr_histogram <- subset(FBCNeutrR, Numeric.Result < 30)"
   ]
  },
  {
   "cell_type": "code",
   "execution_count": 249,
   "metadata": {},
   "outputs": [
    {
     "data": {
      "image/png": "[encoded data removed]",
      "text/plain": [
       "plot without title"
      ]
     },
     "metadata": {},
     "output_type": "display_data"
    }
   ],
   "source": [
    "ggplot(data = Neutr_histogram, aes(x=Numeric.Result)) +\n",
    "  ggtitle(\"Neutrophils distribution\") +\n",
    "  labs(subtitle=\"Reference range = 2.0-7.5 10^9/L\") + \n",
    "  geom_histogram(binwidth=0.2, colour=\"black\", fill=\"white\") +\n",
    "  geom_vline(xintercept=2.0,colour=\"red\") + \n",
    "  geom_vline(xintercept=7.5,colour=\"red\")"
   ]
  },
  {
   "cell_type": "markdown",
   "metadata": {},
   "source": [
    "### Neutrophils to Lymphocytes Ratio"
   ]
  },
  {
   "cell_type": "code",
   "execution_count": 250,
   "metadata": {},
   "outputs": [],
   "source": [
    "NLR_histogram <- subset(FBCNLRR, Numeric.Result < 40)"
   ]
  },
  {
   "cell_type": "code",
   "execution_count": 251,
   "metadata": {},
   "outputs": [
    {
     "data": {
      "image/png": "[encoded data removed]",
      "text/plain": [
       "plot without title"
      ]
     },
     "metadata": {},
     "output_type": "display_data"
    }
   ],
   "source": [
    "ggplot(data = NLR_histogram, aes(x=Numeric.Result)) +\n",
    "  ggtitle(\"NLR distribution\") +\n",
    "  labs(subtitle=\"Reference range = 0.78 and 3.53\") + \n",
    "  geom_histogram(binwidth=0.2, colour=\"black\", fill=\"white\") +\n",
    "  geom_vline(xintercept=0.78,colour=\"red\") + \n",
    "  geom_vline(xintercept=3.53,colour=\"red\")"
   ]
  },
  {
   "cell_type": "markdown",
   "metadata": {},
   "source": [
    "### White Cell Count"
   ]
  },
  {
   "cell_type": "code",
   "execution_count": 252,
   "metadata": {},
   "outputs": [
    {
     "data": {
      "image/png": "[encoded data removed]",
      "text/plain": [
       "plot without title"
      ]
     },
     "metadata": {},
     "output_type": "display_data"
    }
   ],
   "source": [
    "ggplot(data = FBCWCCR, aes(x=Numeric.Result)) +\n",
    "  ggtitle(\"WCC distribution\") +\n",
    "  labs(subtitle=\"Reference range = 4.0-11.0 10^9/L\") + \n",
    "  geom_histogram(binwidth=0.5, colour=\"black\", fill=\"white\") +\n",
    "  geom_vline(xintercept=4.0,colour=\"red\") + \n",
    "  geom_vline(xintercept=11.0,colour=\"red\")"
   ]
  },
  {
   "cell_type": "markdown",
   "metadata": {},
   "source": [
    "### Ferritin "
   ]
  },
  {
   "cell_type": "code",
   "execution_count": 253,
   "metadata": {},
   "outputs": [],
   "source": [
    "FER_histogram <- subset(FER, Numeric.Result < 2500)"
   ]
  },
  {
   "cell_type": "code",
   "execution_count": 254,
   "metadata": {},
   "outputs": [
    {
     "data": {
      "image/png": "[encoded data removed]",
      "text/plain": [
       "plot without title"
      ]
     },
     "metadata": {},
     "output_type": "display_data"
    }
   ],
   "source": [
    "ggplot(data = FER_histogram, aes(x=Numeric.Result)) +\n",
    "  ggtitle(\"FER distribution\") +\n",
    "  labs(subtitle=\"Reference range Male: 33-490, Female(0-44): 15-445, Female(45+yrs): 30-470\") + \n",
    "  geom_histogram(binwidth=20, colour=\"black\", fill=\"white\") +\n",
    "  geom_vline(xintercept=15,colour=\"blue\") + \n",
    "  geom_vline(xintercept=33,colour=\"red\") + \n",
    "  geom_vline(xintercept=445,colour=\"blue\") + \n",
    "  geom_vline(xintercept=470,colour=\"green\") + \n",
    "  geom_vline(xintercept=490,colour=\"red\")"
   ]
  },
  {
   "cell_type": "markdown",
   "metadata": {},
   "source": [
    "### Fibrinogen"
   ]
  },
  {
   "cell_type": "code",
   "execution_count": 255,
   "metadata": {},
   "outputs": [],
   "source": [
    "fib_histogram <- subset(fib, Numeric.Result > 0)"
   ]
  },
  {
   "cell_type": "code",
   "execution_count": 256,
   "metadata": {},
   "outputs": [
    {
     "data": {
      "image/png": "[encoded data removed]",
      "text/plain": [
       "plot without title"
      ]
     },
     "metadata": {},
     "output_type": "display_data"
    }
   ],
   "source": [
    "ggplot(data = fib_histogram, aes(x=Numeric.Result)) +\n",
    "  ggtitle(\"fib distribution\") +\n",
    "  labs(subtitle=\"Reference range = 1.8-4.0 g/L\") + \n",
    "  geom_histogram(binwidth=0.2, colour=\"black\", fill=\"white\") +\n",
    "  geom_vline(xintercept=1.8,colour=\"red\") + \n",
    "  geom_vline(xintercept=4.0,colour=\"red\")"
   ]
  },
  {
   "cell_type": "markdown",
   "metadata": {},
   "source": [
    "### Glucose"
   ]
  },
  {
   "cell_type": "code",
   "execution_count": 257,
   "metadata": {},
   "outputs": [],
   "source": [
    "glucose_histogram <- subset(Glucose, Numeric.Result < 25)"
   ]
  },
  {
   "cell_type": "code",
   "execution_count": 258,
   "metadata": {},
   "outputs": [
    {
     "data": {
      "image/png": "[encoded data removed]",
      "text/plain": [
       "plot without title"
      ]
     },
     "metadata": {},
     "output_type": "display_data"
    }
   ],
   "source": [
    "ggplot(data = glucose_histogram, aes(x=Numeric.Result)) +\n",
    "  ggtitle(\"Glucose distribution\") +\n",
    "  labs(subtitle=\"Reference range = Fasting: 3.0-6.0 mmol/L, Non-fasting: 3.0-7.8 mmol/L\") + \n",
    "  geom_histogram(binwidth=0.3, colour=\"black\", fill=\"white\") +\n",
    "  geom_vline(xintercept=3,colour=\"blue\") + \n",
    "  geom_vline(xintercept=6,colour=\"green\") + \n",
    "  geom_vline(xintercept=7.8,colour=\"red\")"
   ]
  },
  {
   "cell_type": "markdown",
   "metadata": {},
   "source": [
    "### Hemoglobin"
   ]
  },
  {
   "cell_type": "code",
   "execution_count": 259,
   "metadata": {},
   "outputs": [
    {
     "name": "stderr",
     "output_type": "stream",
     "text": [
      "Warning message:\n",
      "\"Removed 159 rows containing non-finite values (stat_bin).\""
     ]
    },
    {
     "data": {
      "image/png": "[encoded data removed]",
      "text/plain": [
       "plot without title"
      ]
     },
     "metadata": {},
     "output_type": "display_data"
    }
   ],
   "source": [
    "ggplot(data = HB, aes(x=Numeric.Result)) +\n",
    "  ggtitle(\"HB distribution\") +\n",
    "  labs(subtitle=\"Reference range = Male 130-170 g/L, Female 120-150 g/L\") + \n",
    "  geom_histogram(binwidth=2, colour=\"black\", fill=\"white\") +\n",
    "  geom_vline(xintercept=120,colour=\"green\") + \n",
    "  geom_vline(xintercept=130,colour=\"blue\") + \n",
    "  geom_vline(xintercept=150,colour=\"green\") + \n",
    "  geom_vline(xintercept=170,colour=\"blue\")"
   ]
  },
  {
   "cell_type": "markdown",
   "metadata": {},
   "source": [
    "### HBA1c - glycated haemoglobin"
   ]
  },
  {
   "cell_type": "code",
   "execution_count": 260,
   "metadata": {},
   "outputs": [
    {
     "name": "stderr",
     "output_type": "stream",
     "text": [
      "Warning message:\n",
      "\"Removed 2 rows containing non-finite values (stat_bin).\""
     ]
    },
    {
     "data": {
      "image/png": "[encoded data removed]",
      "text/plain": [
       "plot without title"
      ]
     },
     "metadata": {},
     "output_type": "display_data"
    }
   ],
   "source": [
    "ggplot(data = HBA1c, aes(x=Numeric.Result)) +\n",
    "  ggtitle(\"HBA1c distribution\") +\n",
    "  labs(subtitle=\"Reference range = >/= 48 mmol/mol probable diabetes, 42-48 mmol/mol increased risk\") + \n",
    "  geom_histogram(binwidth=1, colour=\"black\", fill=\"white\") +\n",
    "  geom_vline(xintercept=42,colour=\"red\") + \n",
    "  geom_vline(xintercept=48,colour=\"red\")\n"
   ]
  },
  {
   "cell_type": "markdown",
   "metadata": {},
   "source": [
    "### Lactate dehydrogenase"
   ]
  },
  {
   "cell_type": "code",
   "execution_count": 261,
   "metadata": {},
   "outputs": [],
   "source": [
    "LDH_histogram <- subset(LDH, Numeric.Result < 2000)"
   ]
  },
  {
   "cell_type": "code",
   "execution_count": 262,
   "metadata": {},
   "outputs": [
    {
     "data": {
      "image/png": "[encoded data removed]",
      "text/plain": [
       "plot without title"
      ]
     },
     "metadata": {},
     "output_type": "display_data"
    }
   ],
   "source": [
    "ggplot(data = LDH_histogram, aes(x=Numeric.Result)) +\n",
    "  ggtitle(\"LDH distribution\") +\n",
    "  labs(subtitle=\"Reference range = 240-480 IU/L\") + \n",
    "  geom_histogram(binwidth=30, colour=\"black\", fill=\"white\") +\n",
    "  geom_vline(xintercept=240,colour=\"red\") + \n",
    "  geom_vline(xintercept=480,colour=\"red\")"
   ]
  },
  {
   "cell_type": "markdown",
   "metadata": {},
   "source": [
    "### Procalcitonin"
   ]
  },
  {
   "cell_type": "code",
   "execution_count": 263,
   "metadata": {},
   "outputs": [],
   "source": [
    "PCT_histogram <- subset(PCT, Numeric.Result < 7.5)"
   ]
  },
  {
   "cell_type": "code",
   "execution_count": 264,
   "metadata": {},
   "outputs": [
    {
     "data": {
      "image/png": "[encoded data removed]",
      "text/plain": [
       "plot without title"
      ]
     },
     "metadata": {},
     "output_type": "display_data"
    }
   ],
   "source": [
    "ggplot(data = PCT_histogram, aes(x=Numeric.Result)) +\n",
    "  ggtitle(\"PCT distribution\") +\n",
    "  labs(subtitle=\"Reference range = Normal range: <0.05ng/mL, <0.50ng/mL low risk of severe sepsis, >2.00ng/mL high risk severe sepsis\") + \n",
    "  geom_histogram(binwidth=0.1, colour=\"black\", fill=\"white\") +\n",
    "  geom_vline(xintercept=0.05,colour=\"green\") + \n",
    "  geom_vline(xintercept=0.50,colour=\"orange\") + \n",
    "  geom_vline(xintercept=2.0,colour=\"red\") "
   ]
  },
  {
   "cell_type": "markdown",
   "metadata": {},
   "source": [
    "### Platelets"
   ]
  },
  {
   "cell_type": "code",
   "execution_count": 265,
   "metadata": {},
   "outputs": [
    {
     "name": "stderr",
     "output_type": "stream",
     "text": [
      "Warning message:\n",
      "\"Removed 185 rows containing non-finite values (stat_bin).\""
     ]
    },
    {
     "data": {
      "image/png": "[encoded data removed]",
      "text/plain": [
       "plot without title"
      ]
     },
     "metadata": {},
     "output_type": "display_data"
    }
   ],
   "source": [
    "ggplot(data = PLT, aes(x=Numeric.Result)) +\n",
    "  ggtitle(\"PLT distribution\") +\n",
    "  labs(subtitle=\"Reference range = 150-450 10^9/L\") + \n",
    "  geom_histogram(binwidth=10, colour=\"black\", fill=\"white\") +\n",
    "  geom_vline(xintercept=150,colour=\"red\") + \n",
    "  geom_vline(xintercept=450,colour=\"red\") "
   ]
  },
  {
   "cell_type": "markdown",
   "metadata": {},
   "source": [
    "### Blood Lactate"
   ]
  },
  {
   "cell_type": "code",
   "execution_count": 266,
   "metadata": {},
   "outputs": [],
   "source": [
    "poctLAC_histogram <- subset(poctLACR, Numeric.Result < 6)"
   ]
  },
  {
   "cell_type": "code",
   "execution_count": 267,
   "metadata": {},
   "outputs": [
    {
     "data": {
      "image/png": "[encoded data removed]",
      "text/plain": [
       "plot without title"
      ]
     },
     "metadata": {},
     "output_type": "display_data"
    }
   ],
   "source": [
    "ggplot(data = poctLAC_histogram, aes(x=Numeric.Result)) +\n",
    "  ggtitle(\"poctLAC distribution\") +\n",
    "  labs(subtitle=\"Reference range = 0.5-2.2 mmol/L\") + \n",
    "  geom_histogram(binwidth=0.1, colour=\"black\", fill=\"white\") +\n",
    "  geom_vline(xintercept=0.5,colour=\"red\") + \n",
    "  geom_vline(xintercept=2.2,colour=\"red\") "
   ]
  },
  {
   "cell_type": "markdown",
   "metadata": {},
   "source": [
    "### Blood pH"
   ]
  },
  {
   "cell_type": "code",
   "execution_count": 268,
   "metadata": {},
   "outputs": [
    {
     "name": "stderr",
     "output_type": "stream",
     "text": [
      "Warning message:\n",
      "\"Removed 20 rows containing non-finite values (stat_bin).\""
     ]
    },
    {
     "data": {
      "image/png": "[encoded data removed]",
      "text/plain": [
       "plot without title"
      ]
     },
     "metadata": {},
     "output_type": "display_data"
    }
   ],
   "source": [
    "ggplot(data = poctpHR, aes(x=Numeric.Result)) +\n",
    "  ggtitle(\"poctpH distribution\") +\n",
    "  labs(subtitle=\"Reference range = 7.35-7.45\") + \n",
    "  geom_histogram(binwidth=0.01, colour=\"black\", fill=\"white\") +\n",
    "  geom_vline(xintercept=7.35,colour=\"red\") + \n",
    "  geom_vline(xintercept=7.45,colour=\"red\")"
   ]
  },
  {
   "cell_type": "markdown",
   "metadata": {},
   "source": [
    "### Triglycerides"
   ]
  },
  {
   "cell_type": "code",
   "execution_count": 269,
   "metadata": {},
   "outputs": [],
   "source": [
    "trig_histogram <- subset(trig, Numeric.Result < 6)"
   ]
  },
  {
   "cell_type": "code",
   "execution_count": 270,
   "metadata": {},
   "outputs": [
    {
     "data": {
      "image/png": "[encoded data removed]",
      "text/plain": [
       "plot without title"
      ]
     },
     "metadata": {},
     "output_type": "display_data"
    }
   ],
   "source": [
    "ggplot(data = trig_histogram, aes(x=Numeric.Result)) +\n",
    "  ggtitle(\"trig distribution\") +\n",
    "  labs(subtitle=\"Reference range = 0.5-1.7\") + \n",
    "  geom_histogram(binwidth=0.2, colour=\"black\", fill=\"white\") +\n",
    "  geom_vline(xintercept=0.5,colour=\"red\") + \n",
    "  geom_vline(xintercept=1.7,colour=\"red\")"
   ]
  },
  {
   "cell_type": "markdown",
   "metadata": {},
   "source": [
    "### Troponin"
   ]
  },
  {
   "cell_type": "code",
   "execution_count": 271,
   "metadata": {},
   "outputs": [],
   "source": [
    "trop_histogram <- subset(trop, Numeric.Result < 350)"
   ]
  },
  {
   "cell_type": "code",
   "execution_count": 272,
   "metadata": {},
   "outputs": [
    {
     "data": {
      "image/png": "[encoded data removed]",
      "text/plain": [
       "plot without title"
      ]
     },
     "metadata": {},
     "output_type": "display_data"
    }
   ],
   "source": [
    "ggplot(data = trop_histogram, aes(x=Numeric.Result)) +\n",
    "  ggtitle(\"trop distribution\") +\n",
    "  labs(subtitle=\"Reference range = Normal: <14ng/L, Possible MI: 14-30 ng/L, Probable MI: >30 ng/L\") + \n",
    "  geom_histogram(binwidth=2, colour=\"black\", fill=\"white\") +\n",
    "  geom_vline(xintercept=14,colour=\"red\") + \n",
    "  geom_vline(xintercept=30,colour=\"red\")"
   ]
  },
  {
   "cell_type": "markdown",
   "metadata": {},
   "source": [
    "## Individual Patient Visualisation\n",
    "To show individual patient data, please use this function, of the form \n",
    "\n",
    "    show_patient_info(patientID)"
   ]
  },
  {
   "cell_type": "code",
   "execution_count": 273,
   "metadata": {},
   "outputs": [],
   "source": [
    "show_patient_info <- function(patientID) {\n",
    "  val_outcome = subset(dem, ID==patientID)[1,]\n",
    "  gender = val_outcome$Gender\n",
    "  age = val_outcome$Age\n",
    "  date = (total %>% filter(ID==patientID))[1,]$date\n",
    "  p <- ( ggplot() + \n",
    "           ggtitle(paste(\"Patient\",patientID,\"summary\")) + \n",
    "           labs(subtitle=paste(\"Gender:\",val_outcome$Gender,\"Age\",val_outcome$Age)) +\n",
    "           geom_tile(data=total %>% filter(ID==patientID), mapping=aes(date, Measure, fill= Numeric.Result)) + \n",
    "           scale_fill_viridis_b()+\n",
    "           scale_y_discrete(drop=FALSE)\n",
    "  )\n",
    "  # Plot Covid Positive test\n",
    "  if(length((CovidCT %>% filter(CovidCT$ID==patientID))$date) > 0){\n",
    "    if(!is.null((CovidCT %>% filter(CovidCT$ID==patientID))$date) & !is.na((CovidCT %>% filter(CovidCT$ID==patientID))$date)){\n",
    "      positiveDate = (CovidCT %>% filter(CovidCT$ID==patientID))[1,]$date\n",
    "      p = p + geom_text(data= (CovidCT %>% filter(CovidCT$ID==patientID))[1,], mapping=aes(x=date,y=1,label=\"Positive\",colour=\"orange\")) +\n",
    "        geom_vline(data= (CovidCT %>% filter(CovidCT$ID==patientID))[1,], mapping=aes(xintercept = date, colour=\"red\"))\n",
    "    }\n",
    "  }\n",
    "  # Plot hospital admission\n",
    "  if(length((totalOutcomes %>% filter(totalOutcomes$ID==patientID))$admissionDate) > 0){\n",
    "    if(!is.null((totalOutcomes %>% filter(totalOutcomes$ID==patientID))$admissionDate) & !is.na((totalOutcomes %>% filter(totalOutcomes$ID==patientID))$admissionDate)){\n",
    "      for(val2 in 1:length(totalOutcomes %>% filter(totalOutcomes$ID==patientID))){\n",
    "        admissionDate = (totalOutcomes %>% filter(totalOutcomes$ID==patientID))[val2,]$admissionDate\n",
    "        p = p + geom_point(data= (totalOutcomes %>% filter(totalOutcomes$ID==patientID))[val2,], mapping=aes(x=admissionDate,y=0)) +\n",
    "          geom_text(data= (totalOutcomes %>% filter(totalOutcomes$ID==patientID))[val2,], mapping=aes(x=admissionDate,y=2,label=\"Admission\",colour=\"orange\"))\n",
    "        p = p + geom_vline(xintercept = admissionDate, colour=\"blue\")\n",
    "      }\n",
    "    }\n",
    "  }\n",
    "  # Plot ICU admission\n",
    "  if(length((totalOutcomes %>% filter(totalOutcomes$ID==patientID))$ITU_Start) > 0){\n",
    "    if(!is.null((totalOutcomes %>% filter(totalOutcomes$ID==patientID))$ITU_Start) & !is.na((totalOutcomes %>% filter(totalOutcomes$ID==patientID))$ITU_Start)){\n",
    "      for(val2 in 1:length(totalOutcomes %>% filter(totalOutcomes$ID==patientID))){\n",
    "        ITU_Start = (totalOutcomes %>% filter(totalOutcomes$ID==patientID))[val2,]$ITU_Start\n",
    "        p = p + geom_point(data= (totalOutcomes %>% filter(totalOutcomes$ID==patientID))[val2,], mapping=aes(x=ITU_Start,y=0)) +\n",
    "          geom_text(data= (totalOutcomes %>% filter(totalOutcomes$ID==patientID))[val2,], mapping=aes(x=ITU_Start,y=3,label=\"ICU Start\",colour=\"orange\"))\n",
    "        p = p + geom_vline(xintercept = ITU_Start, colour=\"blue\")\n",
    "      }\n",
    "    }\n",
    "  }\n",
    "  # Plot ICU discharge\n",
    "  if(length((totalOutcomes %>% filter(totalOutcomes$ID==patientID))$ITU_End) > 0){\n",
    "    if(!is.null((totalOutcomes %>% filter(totalOutcomes$ID==patientID))$ITU_End) & !is.na((totalOutcomes %>% filter(totalOutcomes$ID==patientID))$ITU_End)){\n",
    "      for(val2 in 1:length(totalOutcomes %>% filter(totalOutcomes$ID==patientID))){\n",
    "        ITU_End = (totalOutcomes %>% filter(totalOutcomes$ID==patientID))[val2,]$ITU_End\n",
    "        p = p + geom_point(data= (totalOutcomes %>% filter(totalOutcomes$ID==patientID))[val2,], mapping=aes(x=ITU_End,y=0)) +\n",
    "          geom_text(data= (totalOutcomes %>% filter(totalOutcomes$ID==patientID))[val2,], mapping=aes(x=ITU_End,y=4,label=\"ICU End\",colour=\"orange\"))\n",
    "        p = p + geom_vline(xintercept = ITU_End, colour=\"blue\")\n",
    "      }\n",
    "    }\n",
    "  }\n",
    "  # Plot date of death\n",
    "  if(length((totalOutcomes %>% filter(totalOutcomes$ID==patientID))$deathDate) > 0){\n",
    "    if(!is.na((totalOutcomes %>% filter(totalOutcomes$ID==patientID))$deathDate)){\n",
    "      deathDate = (totalOutcomes %>% filter(totalOutcomes$ID==patientID))[1,]$deathDate\n",
    "      p = p + geom_point(data= (totalOutcomes %>% filter(totalOutcomes$ID==patientID))[1,], mapping=aes(x=deathDate,y=0)) + \n",
    "        geom_text(data= (totalOutcomes %>% filter(totalOutcomes$ID==patientID))[1,], mapping=aes(x=deathDate,y=5,label=\"Death\",colour=\"orange\"))\n",
    "      p = p + geom_vline(xintercept = deathDate, colour=\"red\")\n",
    "    }else{\n",
    "      for(val2 in 1:length(totalOutcomes %>% filter(totalOutcomes$ID==patientID))){\n",
    "        dischargeDate = (totalOutcomes %>% filter(totalOutcomes$ID==patientID))[val2,]$dischargeDate\n",
    "        # Plot discharge\n",
    "        p = p + geom_point(data= (totalOutcomes %>% filter(totalOutcomes$ID==patientID))[val2,], mapping=aes(x=dischargeDate,y=0)) + \n",
    "          geom_text(data= (totalOutcomes %>% filter(totalOutcomes$ID==patientID))[val2,], mapping=aes(x=dischargeDate,y=6,label=\"Discharged\",colour=\"orange\"))\n",
    "        p = p + geom_vline(xintercept = dischargeDate, colour=\"green\")\n",
    "      }\n",
    "    }\n",
    "  }\n",
    "  #fig <- ggplotly(p)\n",
    "  print(p)\n",
    "}\n"
   ]
  },
  {
   "cell_type": "markdown",
   "metadata": {},
   "source": [
    "### Example individual patient visualisations:\n",
    "#### Patient 279 - Example of ICU patient"
   ]
  },
  {
   "cell_type": "code",
   "execution_count": 274,
   "metadata": {},
   "outputs": [
    {
     "data": {
      "text/html": [
       "<table>\n",
       "<thead><tr><th></th><th scope=col>ID</th><th scope=col>admissionDate</th><th scope=col>dischargeDate</th><th scope=col>ITU_Start</th><th scope=col>ITU_End</th><th scope=col>deathDate</th></tr></thead>\n",
       "<tbody>\n",
       "\t<tr><th scope=row>372</th><td>279       </td><td>2020-04-01</td><td>2020-06-15</td><td>2020-04-02</td><td>2020-05-14</td><td>NA        </td></tr>\n",
       "</tbody>\n",
       "</table>\n"
      ],
      "text/latex": [
       "\\begin{tabular}{r|llllll}\n",
       "  & ID & admissionDate & dischargeDate & ITU\\_Start & ITU\\_End & deathDate\\\\\n",
       "\\hline\n",
       "\t372 & 279        & 2020-04-01 & 2020-06-15 & 2020-04-02 & 2020-05-14 & NA        \\\\\n",
       "\\end{tabular}\n"
      ],
      "text/markdown": [
       "\n",
       "| <!--/--> | ID | admissionDate | dischargeDate | ITU_Start | ITU_End | deathDate |\n",
       "|---|---|---|---|---|---|---|\n",
       "| 372 | 279        | 2020-04-01 | 2020-06-15 | 2020-04-02 | 2020-05-14 | NA         |\n",
       "\n"
      ],
      "text/plain": [
       "    ID  admissionDate dischargeDate ITU_Start  ITU_End    deathDate\n",
       "372 279 2020-04-01    2020-06-15    2020-04-02 2020-05-14 <NA>     "
      ]
     },
     "metadata": {},
     "output_type": "display_data"
    },
    {
     "data": {
      "image/png": "[encoded data removed]",
      "text/plain": [
       "plot without title"
      ]
     },
     "metadata": {},
     "output_type": "display_data"
    }
   ],
   "source": [
    "suppressWarnings(show_patient_info(279))\n",
    "totalOutcomes[totalOutcomes$ID==279,]"
   ]
  },
  {
   "cell_type": "markdown",
   "metadata": {},
   "source": [
    "#### Patient 80 - Example of death"
   ]
  },
  {
   "cell_type": "code",
   "execution_count": 275,
   "metadata": {},
   "outputs": [
    {
     "data": {
      "text/html": [
       "<table>\n",
       "<thead><tr><th></th><th scope=col>ID</th><th scope=col>admissionDate</th><th scope=col>dischargeDate</th><th scope=col>ITU_Start</th><th scope=col>ITU_End</th><th scope=col>deathDate</th></tr></thead>\n",
       "<tbody>\n",
       "\t<tr><th scope=row>29</th><td>829       </td><td>2020-05-09</td><td>2020-05-15</td><td>NA        </td><td>NA        </td><td>2020-05-15</td></tr>\n",
       "</tbody>\n",
       "</table>\n"
      ],
      "text/latex": [
       "\\begin{tabular}{r|llllll}\n",
       "  & ID & admissionDate & dischargeDate & ITU\\_Start & ITU\\_End & deathDate\\\\\n",
       "\\hline\n",
       "\t29 & 829        & 2020-05-09 & 2020-05-15 & NA         & NA         & 2020-05-15\\\\\n",
       "\\end{tabular}\n"
      ],
      "text/markdown": [
       "\n",
       "| <!--/--> | ID | admissionDate | dischargeDate | ITU_Start | ITU_End | deathDate |\n",
       "|---|---|---|---|---|---|---|\n",
       "| 29 | 829        | 2020-05-09 | 2020-05-15 | NA         | NA         | 2020-05-15 |\n",
       "\n"
      ],
      "text/plain": [
       "   ID  admissionDate dischargeDate ITU_Start ITU_End deathDate \n",
       "29 829 2020-05-09    2020-05-15    <NA>      <NA>    2020-05-15"
      ]
     },
     "metadata": {},
     "output_type": "display_data"
    },
    {
     "data": {
      "image/png": "[encoded data removed]",
      "text/plain": [
       "plot without title"
      ]
     },
     "metadata": {},
     "output_type": "display_data"
    }
   ],
   "source": [
    "suppressWarnings(show_patient_info(829))\n",
    "totalOutcomes[totalOutcomes$ID==829,]"
   ]
  },
  {
   "cell_type": "code",
   "execution_count": null,
   "metadata": {},
   "outputs": [],
   "source": []
  },
  {
   "cell_type": "code",
   "execution_count": null,
   "metadata": {},
   "outputs": [],
   "source": []
  }
 ],
 "metadata": {
  "kernelspec": {
   "display_name": "R",
   "language": "R",
   "name": "ir"
  },
  "language_info": {
   "codemirror_mode": "r",
   "file_extension": ".r",
   "mimetype": "text/x-r-source",
   "name": "R",
   "pygments_lexer": "r",
   "version": "3.6.1"
  }
 },
 "nbformat": 4,
 "nbformat_minor": 4
}
